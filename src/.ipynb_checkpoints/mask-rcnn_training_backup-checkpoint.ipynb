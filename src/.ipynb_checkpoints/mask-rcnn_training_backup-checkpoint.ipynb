{
 "cells": [
  {
   "cell_type": "markdown",
   "metadata": {},
   "source": [
    "# plaq-u-net: multi-patch consensus U-Net for automated detection and segmentation of the carotid arteries on black blood MRI sequences"
   ]
  },
  {
   "cell_type": "markdown",
   "metadata": {},
   "source": [
    "E. Lavrova, 2022  \n",
    "  \n",
    "This is a code supporting the corresponding paper.\n",
    "\n",
    "Packages import:"
   ]
  },
  {
   "cell_type": "code",
   "execution_count": null,
   "metadata": {},
   "outputs": [],
   "source": [
    "import os\n",
    "import numpy as np\n",
    "from os import listdir\n",
    "from xml.etree import ElementTree\n",
    "from numpy import zeros\n",
    "from numpy import asarray\n",
    "from numpy import expand_dims\n",
    "from numpy import mean\n",
    "import pydicom\n",
    "import random\n",
    "import matplotlib.pyplot as plt\n",
    "import glob\n",
    "import matplotlib.patches as patches\n",
    "\n",
    "import cv2\n",
    "\n",
    "from tqdm import tqdm_notebook, tnrange\n",
    "from itertools import chain\n",
    "\n",
    "import keras\n",
    "\n",
    "import random\n",
    "import pandas as pd\n",
    "\n",
    "plt.style.use(\"ggplot\")"
   ]
  },
  {
   "cell_type": "code",
   "execution_count": null,
   "metadata": {},
   "outputs": [],
   "source": [
    "import warnings\n",
    "warnings.filterwarnings('ignore')"
   ]
  },
  {
   "cell_type": "code",
   "execution_count": null,
   "metadata": {},
   "outputs": [],
   "source": [
    "os.environ[\"CUDA_DEVICE_ORDER\"] = \"PCI_BUS_ID\"\n",
    "os.environ[\"CUDA_VISIBLE_DEVICES\"] = '5,6'                        \n",
    "import tensorflow as tf\n",
    "import keras.backend as K\n",
    "config = tf.compat.v1.ConfigProto()\n",
    "config.gpu_options.allow_growth = True\n",
    "tf.compat.v1.keras.backend.set_session(tf.compat.v1.Session(config=config))\n",
    "K.tensorflow_backend._get_available_gpus()"
   ]
  },
  {
   "cell_type": "code",
   "execution_count": null,
   "metadata": {},
   "outputs": [],
   "source": [
    "## 1. Data load"
   ]
  },
  {
   "cell_type": "code",
   "execution_count": null,
   "metadata": {},
   "outputs": [],
   "source": [
    "sub_names_train = ['AMC008', 'AMC003', 'AMC011', 'AMC010', 'AMC014', 'AMC013', 'AMC002', 'AMC001', 'AMC018', 'MUMC084', \n",
    "                   'MUMC072', 'MUMC002', 'MUMC030', 'MUMC065', 'MUMC010', 'MUMC031', 'MUMC037', 'MUMC111', 'MUMC009', 'MUMC013',\n",
    "                   'MUMC033', 'MUMC056', 'MUMC082', 'MUMC035', 'MUMC119', 'MUMC040', 'MUMC118', 'MUMC089', 'MUMC060', 'MUMC074',\n",
    "                   'MUMC011', 'MUMC048', 'MUMC120', 'MUMC077', 'MUMC044', 'MUMC068', 'MUMC001', 'MUMC125', 'MUMC105', 'MUMC055',\n",
    "                   'MUMC098', 'MUMC073', 'MUMC026', 'MUMC099', 'MUMC101', 'MUMC075', 'MUMC100', 'MUMC076', 'MUMC121', 'MUMC050',\n",
    "                   'MUMC061', 'MUMC092', 'MUMC017', 'MUMC109', 'MUMC091', 'MUMC129', 'MUMC016', 'MUMC067', 'MUMC045', 'MUMC096',\n",
    "                   'MUMC028', 'MUMC020', 'MUMC095', 'MUMC003', 'MUMC117', 'MUMC106', 'MUMC122', 'MUMC019', 'MUMC085', 'MUMC046',\n",
    "                   'MUMC116', 'MUMC057', 'MUMC090', 'MUMC110', 'MUMC024', 'MUMC015', 'MUMC032', 'MUMC039', 'MUMC049', 'MUMC063',\n",
    "                   'MUMC021', 'MUMC029', 'MUMC023', 'MUMC104', 'MUMC066', 'MUMC058', 'MUMC128', 'MUMC053', 'MUMC108', 'UMCU016',\n",
    "                   'UMCU039', 'UMCU001', 'UMCU027', 'UMCU020', 'UMCU009', 'UMCU030', 'UMCU024', 'UMCU002', 'UMCU022', 'UMCU035',\n",
    "                   'UMCU033', 'UMCU038', 'UMCU037', 'UMCU032', 'UMCU031', 'UMCU026']\n",
    "sub_names_valid = ['AMC005','AMC007','MUMC123','MUMC025','MUMC041','MUMC124','MUMC113','MUMC081','MUMC103','MUMC006','MUMC112',\n",
    "                   'MUMC051','MUMC008','MUMC126','MUMC088','MUMC097','MUMC047','MUMC014','MUMC078','UMCU010','UMCU023',\n",
    "                   'UMCU017','UMCU012']\n",
    "sub_names_test = ['AMC012','AMC006','MUMC094','MUMC027','MUMC079','MUMC052','MUMC127','MUMC071','MUMC038','MUMC093','MUMC107',\n",
    "                  'MUMC022','MUMC114','MUMC115','MUMC069','MUMC130','MUMC036','MUMC007','MUMC059','MUMC080','UMCU036','UMCU025',\n",
    "                  'UMCU008','UMCU034']"
   ]
  },
  {
   "cell_type": "code",
   "execution_count": null,
   "metadata": {},
   "outputs": [],
   "source": [
    "len(sub_names_train), len(sub_names_valid), len(sub_names_test)"
   ]
  },
  {
   "cell_type": "code",
   "execution_count": null,
   "metadata": {},
   "outputs": [],
   "source": [
    "Getting .dcm files for every subset:"
   ]
  },
  {
   "cell_type": "code",
   "execution_count": null,
   "metadata": {},
   "outputs": [],
   "source": [
    "img_names_train = []\n",
    "img_names_valid = []\n",
    "img_names_test = []\n",
    "\n",
    "for sub_name_train in sub_names_train:\n",
    "    img_names_train.extend(glob.glob('../data/'+sub_name_train+'*/T1W_*.dcm'))\n",
    "\n",
    "for sub_name_valid in sub_names_valid:\n",
    "    img_names_valid.extend(glob.glob('../data/'+sub_name_valid+'*/T1W_*.dcm'))\n",
    "    \n",
    "for sub_name_test in sub_names_test:\n",
    "    img_names_test.extend(glob.glob('../data/'+sub_name_test+'*/T1W_*.dcm'))\n",
    "    \n",
    "print (len(img_names_train), len(img_names_valid), len(img_names_test))"
   ]
  },
  {
   "cell_type": "code",
   "execution_count": null,
   "metadata": {},
   "outputs": [],
   "source": [
    "Training data aggregation:"
   ]
  },
  {
   "cell_type": "code",
   "execution_count": null,
   "metadata": {},
   "outputs": [],
   "source": [
    "# read DICOM from path to array\n",
    "\n",
    "def path2array(dcm_path):\n",
    "    arr_dcm = pydicom.read_file(dcm_path, force = True)\n",
    "    arr_dcm.file_meta.TransferSyntaxUID = pydicom.uid.ImplicitVRLittleEndian\n",
    "    arr = arr_dcm.pixel_array\n",
    "    return arr"
   ]
  },
  {
   "cell_type": "code",
   "execution_count": null,
   "metadata": {},
   "outputs": [],
   "source": [
    "## 2. Mask R-CNN"
   ]
  },
  {
   "cell_type": "code",
   "execution_count": null,
   "metadata": {},
   "outputs": [],
   "source": [
    "from mrcnn.utils import extract_bboxes\n",
    "from mrcnn.visualize import display_instances\n",
    "from mrcnn.config import Config\n",
    "from mrcnn.model import MaskRCNN\n",
    "from mrcnn.utils import compute_ap\n",
    "from mrcnn.model import load_image_gt\n",
    "from mrcnn.model import mold_image\n",
    "from mrcnn.utils import Dataset\n",
    "import mrcnn.model as modellib\n",
    "from matplotlib.patches import Rectangle"
   ]
  },
  {
   "cell_type": "code",
   "execution_count": null,
   "metadata": {},
   "outputs": [],
   "source": [
    "class PlaqueDataset(Dataset):\n",
    "    # load the dataset definitions\n",
    "    def load_dataset(self, img_names):\n",
    "        self.add_class(\"dataset\", 1, \"vessel\")\n",
    "        rs=0\n",
    "        for impth in img_names:\n",
    "            img = path2array(impth)\n",
    "            con_name = glob.glob(os.path.join(os.path.split(impth)[0],'MASSExport')+os.sep+'*'+ impth.split(os.sep)[2][-10:-4]+'*.dcm')[0]\n",
    "            con = path2array(con_name)\n",
    "            img_min = np.min(img)\n",
    "            img_max = np.max(img)\n",
    "            if (np.sum(con)>0)&((img_max - img_min)>0):\n",
    "                self.add_image('dataset', \n",
    "                               image_id=impth.split(os.sep)[-2] + '_' + impth.split(os.sep)[-1], \n",
    "                               path=impth, \n",
    "                               annotation=con_name)\n",
    "                rs+=1\n",
    " \n",
    "    # load the masks for an image\n",
    "    def load_mask(self, image_id):\n",
    "        info = self.image_info[image_id]\n",
    "        path = info['annotation']\n",
    "        mask_dcm = pydicom.read_file(path, force = True)\n",
    "        mask_dcm.file_meta.TransferSyntaxUID = pydicom.uid.ImplicitVRLittleEndian\n",
    "        mask_big = (mask_dcm.pixel_array>0).astype(np.uint8)[8:-8, 8:-8, np.newaxis]\n",
    "        class_id = [self.class_names.index('vessel')]\n",
    "        return mask_big, asarray(class_id, dtype='int32')\n",
    "    \n",
    "    def load_image(self, image_id):\n",
    "        info = self.image_info[image_id]\n",
    "        path = info['path']\n",
    "        path_mask = info['annotation']\n",
    "        mask_dcm = pydicom.read_file(path_mask, force = True)\n",
    "        mask_dcm.file_meta.TransferSyntaxUID = pydicom.uid.ImplicitVRLittleEndian\n",
    "        mask_big = (mask_dcm.pixel_array>0).astype(np.uint8)\n",
    "        dcm = pydicom.read_file(path, force = True)\n",
    "        dcm.file_meta.TransferSyntaxUID = pydicom.uid.ImplicitVRLittleEndian\n",
    "        img = dcm.pixel_array\n",
    "        img_min = np.min(img) \n",
    "        img_max = np.max(img)\n",
    "        img_norm = ((img - img_min)/(img_max - img_min)*255).astype(np.uint8)\n",
    "        \n",
    "        return np.dstack((img_norm[8:-8, 8:-8], img_norm[8:-8, 8:-8], img_norm[8:-8, 8:-8]))\n",
    " \n",
    "    # load an image reference\n",
    "    def image_reference(self, image_id):\n",
    "        info = self.image_info[image_id]\n",
    "        return info['path']"
   ]
  },
  {
   "cell_type": "code",
   "execution_count": null,
   "metadata": {},
   "outputs": [],
   "source": [
    "train_set = PlaqueDataset()\n",
    "train_set.load_dataset(img_names_train)\n",
    "train_set.prepare()\n",
    "print('Train: %d' % len(train_set.image_ids))"
   ]
  },
  {
   "cell_type": "code",
   "execution_count": null,
   "metadata": {},
   "outputs": [],
   "source": [
    "valid_set = PlaqueDataset()\n",
    "valid_set.load_dataset(img_names_valid)\n",
    "valid_set.prepare()\n",
    "print('Train: %d' % len(valid_set.image_ids))"
   ]
  },
  {
   "cell_type": "code",
   "execution_count": null,
   "metadata": {},
   "outputs": [],
   "source": [
    "test_set = PlaqueDataset()\n",
    "test_set.load_dataset(img_names_test)\n",
    "test_set.prepare()\n",
    "print('Test: %d' % len(test_set.image_ids))"
   ]
  },
  {
   "cell_type": "code",
   "execution_count": null,
   "metadata": {},
   "outputs": [],
   "source": [
    "image_id = 0\n",
    "image = train_set.load_image(image_id)\n",
    "print(image.shape)\n",
    "mask, class_ids = train_set.load_mask(image_id)\n",
    "print(mask.shape)\n",
    "bbox = extract_bboxes(mask)\n",
    "display_instances(image, bbox, mask, class_ids, train_set.class_names)"
   ]
  },
  {
   "cell_type": "code",
   "execution_count": null,
   "metadata": {},
   "outputs": [],
   "source": [
    "# define a configuration for the model\n",
    "class PlaqueConfig(Config):\n",
    "    # define the name of the configuration\n",
    "    NAME = \"plaque_cfg\"\n",
    "    # number of classes (background + plaque)\n",
    "    NUM_CLASSES = 1 + 1\n",
    "    # number of training steps per epoch\n",
    "    STEPS_PER_EPOCH = 1554//2\n",
    "    IMAGE_MAX_DIM = 512\n",
    "    IMAGE_MIN_DIM = 512\n",
    "    DETECTION_MAX_INSTANCES = 6\n",
    "    "
   ]
  },
  {
   "cell_type": "code",
   "execution_count": null,
   "metadata": {},
   "outputs": [],
   "source": [
    "config = PlaqueConfig()\n",
    "config.display()"
   ]
  },
  {
   "cell_type": "code",
   "execution_count": null,
   "metadata": {},
   "outputs": [],
   "source": [
    "model = MaskRCNN(mode='training', model_dir='./', config=config)\n",
    "model.load_weights('mask_rcnn_coco.h5', by_name=True, \n",
    "                   exclude=[\"mrcnn_class_logits\", \"mrcnn_bbox_fc\",  \"mrcnn_bbox\", \"mrcnn_mask\"])"
   ]
  },
  {
   "cell_type": "code",
   "execution_count": null,
   "metadata": {},
   "outputs": [],
   "source": [
    "model.train(train_set, valid_set, \n",
    "            learning_rate=config.LEARNING_RATE, \n",
    "            epochs=100, \n",
    "            layers='heads')"
   ]
  },
  {
   "cell_type": "code",
   "execution_count": null,
   "metadata": {},
   "outputs": [],
   "source": [
    "model.keras_model.save_weights(\"mask_rcnn_vessels_whole.h5\")"
   ]
  },
  {
   "cell_type": "code",
   "execution_count": null,
   "metadata": {},
   "outputs": [],
   "source": [
    "class PredictionConfig(Config):\n",
    "    NAME = \"plaque_cfg\"\n",
    "    NUM_CLASSES = 1 + 1\n",
    "    GPU_COUNT = 1\n",
    "    IMAGES_PER_GPU = 1"
   ]
  },
  {
   "cell_type": "code",
   "execution_count": null,
   "metadata": {},
   "outputs": [],
   "source": [
    "cfg = PredictionConfig()\n",
    "model = MaskRCNN(mode='inference', model_dir='./', config=cfg)\n",
    "model.load_weights(\"mask_rcnn_vessels_whole.h5\", by_name=True)"
   ]
  },
  {
   "cell_type": "code",
   "execution_count": null,
   "metadata": {},
   "outputs": [],
   "source": [
    "tst_name = img_names_test[10]\n",
    "tst_dcm = pydicom.read_file(tst_name, force = True)\n",
    "tst_dcm.file_meta.TransferSyntaxUID = pydicom.uid.ImplicitVRLittleEndian\n",
    "tst_img = tst_dcm.pixel_array\n",
    "tst_min = np.min(tst_img)\n",
    "tst_max = np.max(tst_img)\n",
    "tst_img_norm = ((tst_img - tst_min)/(tst_max - tst_min)*255).astype(np.uint8)\n",
    "tst_img_an = np.dstack((tst_img_norm, tst_img_norm, tst_img_norm))\n",
    "\n",
    "scaled_image = mold_image(tst_img_an, cfg)\n",
    "sample = expand_dims(scaled_image, 0)\n",
    "yhat = model.detect(sample, verbose=0)[0]\n",
    "plt.figure(figsize=(10, 10))\n",
    "plt.imshow(tst_img_an)\n",
    "ax = plt.gca()\n",
    "for box in yhat['rois']:\n",
    "    y1, x1, y2, x2 = box\n",
    "    width, height = x2 - x1, y2 - y1\n",
    "    rect = Rectangle((x1, y1), width, height, fill=False, color='red')\n",
    "    ax.add_patch(rect)\n",
    "#for i in range (0, yhat['masks'].shape[2]):\n",
    "#    plt.contour(yhat['masks'][..., i], colors='r')\n",
    "for mask in yhat['masks']:\n",
    "    plt.contour(mask)\n",
    "plt.show()"
   ]
  },
  {
   "cell_type": "code",
   "execution_count": null,
   "metadata": {},
   "outputs": [],
   "source": [
    "## 2. Data augmentation"
   ]
  },
  {
   "cell_type": "code",
   "execution_count": null,
   "metadata": {},
   "outputs": [],
   "source": [
    "import albumentations as A"
   ]
  },
  {
   "cell_type": "code",
   "execution_count": null,
   "metadata": {},
   "outputs": [],
   "source": [
    "Defining transformations:"
   ]
  },
  {
   "cell_type": "code",
   "execution_count": null,
   "metadata": {},
   "outputs": [],
   "source": [
    "transform = A.Compose([\n",
    "    A.HorizontalFlip(p=0.5),\n",
    "    A.RandomSizedCrop(min_max_height=(48, 64), height=64, width=64, p=0.5),\n",
    "    A.VerticalFlip(p=0.5),\n",
    "    A.Blur(p=0.5),\n",
    "    A.GaussNoise(p=0.5),\n",
    "    A.RandomBrightnessContrast(brightness_limit=0.25, contrast_limit=0.25, p=0.5),\n",
    "    A.RandomGamma(p=0.5)\n",
    "])"
   ]
  },
  {
   "cell_type": "code",
   "execution_count": null,
   "metadata": {},
   "outputs": [],
   "source": [
    "class PlaqueDatasetAug(Dataset):\n",
    "    # load the dataset definitions\n",
    "    def load_dataset(self, img_names, n_samples=10):\n",
    "        self.add_class(\"dataset\", 1, \"vessel\")\n",
    "        rs=0\n",
    "        counter = 0\n",
    "        \n",
    "        for impth in img_names:\n",
    "            \n",
    "            img = path2array(impth)\n",
    "            img_min = np.min(img)\n",
    "            img_max = np.max(img)\n",
    "            img_norm = ((img - img_min)/(img_max - img_min)*255).astype(np.uint8)\n",
    "            \n",
    "            con_name = glob.glob(os.path.join(os.path.split(impth)[0],'MASSExport')+os.sep+'*'+ impth.split(os.sep)[2][-10:-4]+'*.dcm')[0]\n",
    "            con = (path2array(con_name)>0).astype(np.uint8)\n",
    "            \n",
    "            if (np.sum(con)>0)&((img_max - img_min)>0):\n",
    "                for smpl in range (0, n_samples):\n",
    "                    augmented = transform(image=img_norm, mask=con)\n",
    "                    \n",
    "                    self.add_image('dataset', \n",
    "                                   image_id=impth.split(os.sep)[-2] + '_' + impth.split(os.sep)[-1] + '+' + str(smpl), \n",
    "                                   path=impth, \n",
    "                                   annotation=con_name, \n",
    "                                   img_aug = augmented['image'], \n",
    "                                   mask_aug = augmented['mask'])\n",
    "                rs+=1\n",
    " \n",
    "    # load the masks for an image\n",
    "    def load_mask(self, image_id):\n",
    "        info = self.image_info[image_id]\n",
    "        mask_aug = info['mask_aug'][8:-8, 8:-8, np.newaxis]\n",
    "        class_id = [self.class_names.index('vessel')]\n",
    "        return mask_aug, asarray(class_id, dtype='int32')\n",
    "    \n",
    "    def load_image(self, image_id):\n",
    "        info = self.image_info[image_id]\n",
    "        img_aug = info['img_aug'][8:-8, 8:-8]\n",
    "        \n",
    "        return np.dstack((img_aug, img_aug, img_aug))\n",
    " \n",
    "    # load an image reference\n",
    "    def image_reference(self, image_id):\n",
    "        info = self.image_info[image_id]\n",
    "        return info['path']"
   ]
  },
  {
   "cell_type": "code",
   "execution_count": null,
   "metadata": {},
   "outputs": [],
   "source": [
    "train_set_aug = PlaqueDatasetAug()\n",
    "train_set_aug.load_dataset(img_names_train)\n",
    "train_set_aug.prepare()\n",
    "print('Train: %d' % len(train_set_aug.image_ids))"
   ]
  },
  {
   "cell_type": "code",
   "execution_count": null,
   "metadata": {},
   "outputs": [],
   "source": [
    "valid_set_aug = PlaqueDatasetAug()\n",
    "valid_set_aug.load_dataset(img_names_valid)\n",
    "valid_set_aug.prepare()\n",
    "print('Train: %d' % len(valid_set_aug.image_ids))"
   ]
  },
  {
   "cell_type": "code",
   "execution_count": null,
   "metadata": {},
   "outputs": [],
   "source": [
    "image_id = 0\n",
    "image = train_set_aug.load_image(image_id)\n",
    "print(image.shape)\n",
    "mask, class_ids = train_set_aug.load_mask(image_id)\n",
    "print(mask.shape)\n",
    "bbox = extract_bboxes(mask)\n",
    "display_instances(image, bbox, mask, class_ids, train_set.class_names)"
   ]
  },
  {
   "cell_type": "code",
   "execution_count": null,
   "metadata": {},
   "outputs": [],
   "source": [
    "# define a configuration for the model\n",
    "class PlaqueConfigAug(Config):\n",
    "    # define the name of the configuration\n",
    "    NAME = \"plaque_cfg\"\n",
    "    # number of classes (background + plaque)\n",
    "    NUM_CLASSES = 1 + 1\n",
    "    # number of training steps per epoch\n",
    "    STEPS_PER_EPOCH = 15540//2\n",
    "    IMAGE_MAX_DIM = 512\n",
    "    IMAGE_MIN_DIM = 512\n",
    "    DETECTION_MAX_INSTANCES = 6\n",
    "    VALIDATION_STEPS = 500"
   ]
  },
  {
   "cell_type": "code",
   "execution_count": null,
   "metadata": {},
   "outputs": [],
   "source": [
    "config = PlaqueConfigAug()\n",
    "config.display()"
   ]
  },
  {
   "cell_type": "code",
   "execution_count": null,
   "metadata": {},
   "outputs": [],
   "source": [
    "model_aug = MaskRCNN(mode='training', model_dir='./', config=config)\n",
    "model_aug.load_weights('mask_rcnn_coco.h5', by_name=True, \n",
    "                       exclude=[\"mrcnn_class_logits\", \"mrcnn_bbox_fc\",  \"mrcnn_bbox\", \"mrcnn_mask\"])"
   ]
  },
  {
   "cell_type": "code",
   "execution_count": null,
   "metadata": {},
   "outputs": [],
   "source": [
    "results_aug = model_aug.train(train_set_aug, valid_set_aug, \n",
    "                              learning_rate=config.LEARNING_RATE, \n",
    "                              epochs=100, \n",
    "                              layers='heads')"
   ]
  },
  {
   "cell_type": "code",
   "execution_count": null,
   "metadata": {},
   "outputs": [],
   "source": [
    "model_aug.keras_model.save_weights(\"mask_rcnn_vessels_whole_aug.h5\")"
   ]
  },
  {
   "cell_type": "code",
   "execution_count": null,
   "metadata": {},
   "outputs": [],
   "source": [
    "cfg = PredictionConfig()\n",
    "model_aug = MaskRCNN(mode='inference', model_dir='./', config=cfg)\n",
    "model_aug.load_weights(\"mask_rcnn_vessels_whole_aug.h5\", by_name=True)"
   ]
  },
  {
   "cell_type": "code",
   "execution_count": null,
   "metadata": {},
   "outputs": [],
   "source": [
    "tst_name = img_names_test[10]\n",
    "tst_dcm = pydicom.read_file(tst_name, force = True)\n",
    "tst_dcm.file_meta.TransferSyntaxUID = pydicom.uid.ImplicitVRLittleEndian\n",
    "tst_img = tst_dcm.pixel_array\n",
    "tst_min = np.min(tst_img)\n",
    "tst_max = np.max(tst_img)\n",
    "tst_img_norm = ((tst_img - tst_min)/(tst_max - tst_min)*255).astype(np.uint8)\n",
    "tst_img_an = np.dstack((tst_img_norm, tst_img_norm, tst_img_norm))\n",
    "\n",
    "scaled_image = mold_image(tst_img_an, cfg)\n",
    "sample = expand_dims(scaled_image, 0)\n",
    "\n",
    "yhat = model_aug.detect(sample, verbose=0)[0]\n",
    "plt.figure(figsize=(10, 10))\n",
    "plt.imshow(tst_img_an)\n",
    "ax = plt.gca()\n",
    "for box in yhat['rois']:\n",
    "    y1, x1, y2, x2 = box\n",
    "    width, height = x2 - x1, y2 - y1\n",
    "    rect = Rectangle((x1, y1), width, height, fill=False, color='red')\n",
    "    ax.add_patch(rect)\n",
    "#for i in range (0, yhat['masks'].shape[2]):\n",
    "#    plt.contour(yhat['masks'][..., i], colors='r')\n",
    "for mask in yhat['masks']:\n",
    "    plt.contour(mask)\n",
    "plt.show()"
   ]
  },
  {
   "cell_type": "code",
   "execution_count": null,
   "metadata": {},
   "outputs": [],
   "source": []
  },
  {
   "cell_type": "code",
   "execution_count": null,
   "metadata": {},
   "outputs": [],
   "source": []
  },
  {
   "cell_type": "code",
   "execution_count": null,
   "metadata": {},
   "outputs": [],
   "source": []
  }
 ],
 "metadata": {
  "kernelspec": {
   "display_name": "Python 3",
   "language": "python",
   "name": "python3"
  },
  "language_info": {
   "codemirror_mode": {
    "name": "ipython",
    "version": 3
   },
   "file_extension": ".py",
   "mimetype": "text/x-python",
   "name": "python",
   "nbconvert_exporter": "python",
   "pygments_lexer": "ipython3",
   "version": "3.7.3"
  }
 },
 "nbformat": 4,
 "nbformat_minor": 2
}
