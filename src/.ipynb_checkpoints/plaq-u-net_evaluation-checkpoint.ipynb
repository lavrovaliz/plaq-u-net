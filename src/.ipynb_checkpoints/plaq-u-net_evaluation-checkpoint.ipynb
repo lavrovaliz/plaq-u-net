{
 "cells": [
  {
   "cell_type": "markdown",
   "metadata": {},
   "source": [
    "# plaq-u-net: multi-patch consensus U-Net for automated detection and segmentation of the carotid arteries on black blood MRI sequences"
   ]
  },
  {
   "cell_type": "markdown",
   "metadata": {},
   "source": [
    "E. Lavrova, 2022\n",
    "\n",
    "This is a code supporting the corresponding paper."
   ]
  },
  {
   "cell_type": "markdown",
   "metadata": {},
   "source": [
    "Packages import:"
   ]
  },
  {
   "cell_type": "code",
   "execution_count": 61,
   "metadata": {},
   "outputs": [],
   "source": [
    "import numpy as np\n",
    "import os\n",
    "import glob\n",
    "from skimage.measure import label\n",
    "import pydicom\n",
    "import matplotlib.pyplot as plt\n",
    "import pandas as pd\n",
    "from skimage import morphology\n",
    "from scipy.stats import iqr\n",
    "from scipy.stats import binom_test"
   ]
  },
  {
   "cell_type": "code",
   "execution_count": 2,
   "metadata": {},
   "outputs": [],
   "source": [
    "def calculate_dice(mask_1, mask_2):\n",
    "    intersection = np.sum(mask_1*mask_2)\n",
    "    sum_area = np.sum(mask_1) + np.sum(mask_2)\n",
    "    return 2*intersection/sum_area\n",
    "\n",
    "def calculate_overlap(mask_1, mask_2):\n",
    "    intersection = np.sum(mask_1*mask_2)\n",
    "    min_area = min(np.sum(mask_1), np.sum(mask_2))\n",
    "    return intersection/min_area"
   ]
  },
  {
   "cell_type": "code",
   "execution_count": 3,
   "metadata": {},
   "outputs": [],
   "source": [
    "def path2array(dcm_path, cut=True):\n",
    "    arr_dcm = pydicom.read_file(dcm_path, force = True)\n",
    "    arr_dcm.file_meta.TransferSyntaxUID = pydicom.uid.ImplicitVRLittleEndian\n",
    "    arr = arr_dcm.pixel_array\n",
    "    if cut:\n",
    "        arr = arr[8:-8,8:-8]\n",
    "    return arr"
   ]
  },
  {
   "cell_type": "code",
   "execution_count": 4,
   "metadata": {},
   "outputs": [],
   "source": [
    "def detect_label(label_mask, gt_mask):\n",
    "    \n",
    "    max_overlap = 0\n",
    "    max_label = 10\n",
    "    max_dice = 0\n",
    "    \n",
    "    for l in range(1, np.max(label_mask)+1):\n",
    "        \n",
    "        label_mask_l = label_mask==l\n",
    "        d = calculate_dice(label_mask_l, gt_mask)\n",
    "        o = calculate_overlap(label_mask_l, gt_mask)\n",
    "        \n",
    "        if o>max_overlap:\n",
    "            \n",
    "            max_overlap = o\n",
    "            max_label = l\n",
    "            max_dice = d        \n",
    "            \n",
    "    return max_label, max_overlap, max_dice"
   ]
  },
  {
   "cell_type": "code",
   "execution_count": 65,
   "metadata": {},
   "outputs": [],
   "source": [
    "import scipy.stats\n",
    "import math\n",
    "import random\n",
    "\n",
    "\n",
    "def clopper_pearson(x, n, alpha=0.05):\n",
    "    \"\"\"Estimate the confidence interval for a sampled Bernoulli random\n",
    "    variable.\n",
    "    `x` is the number of successes and `n` is the number trials (x <=\n",
    "    n). `alpha` is the confidence level (i.e., the true probability is\n",
    "    inside the confidence interval with probability 1-alpha). The\n",
    "    function returns a `(low, high)` pair of numbers indicating the\n",
    "    interval on the probability.\n",
    "    \"\"\"\n",
    "    b = scipy.stats.beta.ppf\n",
    "    lo = b(alpha / 2, x, n - x + 1)\n",
    "    hi = b(1 - alpha / 2, x + 1, n - x)\n",
    "    return 0.0 if math.isnan(lo) else lo, 1.0 if math.isnan(hi) else hi"
   ]
  },
  {
   "cell_type": "code",
   "execution_count": 96,
   "metadata": {},
   "outputs": [],
   "source": [
    "def get_outcomes(sub_names, ds_dir, results_dir, cut=True):\n",
    "    \n",
    "    df_outcomes = []\n",
    "    \n",
    "    detect_slice = []\n",
    "    dice_slice = []\n",
    "    overlap_slice = []\n",
    "    \n",
    "    for sub_name in sub_names:\n",
    "    \n",
    "        rec = {'sub': sub_name}\n",
    "\n",
    "        gt_sub_dir = ds_dir + sub_name + '/MASSExport/'\n",
    "\n",
    "        filenames = os.listdir(gt_sub_dir)\n",
    "        filenames.sort()\n",
    "\n",
    "        mask2d_gt_0 = path2array(gt_sub_dir + '/' + filenames[0], cut=cut)\n",
    "        dim = mask2d_gt_0.shape\n",
    "\n",
    "        mask3d_pred = np.zeros([dim[0], dim[1], len(filenames)], dtype=np.uint8)\n",
    "        mask3d_gt = np.zeros([dim[0], dim[1], len(filenames)], dtype=np.uint8)\n",
    "\n",
    "        counter = 0\n",
    "\n",
    "        detect_slice_sub = []\n",
    "        dice_slice_sub = []\n",
    "        overlap_slice_sub = []\n",
    "\n",
    "        detected=0\n",
    "\n",
    "        for filename in filenames:\n",
    "\n",
    "            sl = filename[-17:-11]\n",
    "            gt_path = gt_sub_dir + '/' + filename\n",
    "            pred_path = glob.glob(results_dir + '/' + sub_name + '*/*' + sl + '*.npy')[0]\n",
    "\n",
    "            mask2d_gt = (path2array(gt_path, cut=cut)>0)&(path2array(gt_path, cut=cut)<7)\n",
    "            mask2d_pred = np.load(pred_path)\n",
    "\n",
    "            mask3d_gt[:, :, counter] = mask2d_gt\n",
    "\n",
    "            mask2d_pred_processed = morphology.remove_small_objects(mask2d_pred>0.5, 100, connectivity=3)\n",
    "            mask2d_pred_labeled = label(mask2d_pred_processed)\n",
    "\n",
    "            comp_label, comp_overlap, comp_dice = detect_label(mask2d_pred_labeled, mask2d_gt)\n",
    "            mask3d_pred[:, :, counter] = (mask2d_pred_labeled==comp_label).astype(np.uint8)\n",
    "\n",
    "            if (np.sum(mask2d_gt)>0)&(comp_overlap>0.5):\n",
    "                detected = 1\n",
    "\n",
    "            detect_slice_sub.append(detected)\n",
    "            dice_slice_sub.append(comp_dice)\n",
    "            overlap_slice_sub.append(comp_overlap)\n",
    "            \n",
    "            detect_slice.append(detected)\n",
    "            dice_slice.append(comp_dice)\n",
    "            overlap_slice.append(comp_overlap)\n",
    "\n",
    "            detected=0\n",
    "            counter+=1\n",
    "\n",
    "        comp_overlap_3d = calculate_overlap(mask3d_pred, mask3d_gt)\n",
    "        comp_dice_3d = calculate_dice(mask3d_pred, mask3d_gt)\n",
    "\n",
    "        rec['detect_slice'] = detect_slice_sub\n",
    "        rec['overlap_slice'] = overlap_slice_sub\n",
    "        rec['dice_slice'] = dice_slice_sub\n",
    "\n",
    "        rec['detect_patient'] = int(comp_overlap_3d>0.5)\n",
    "        rec['overlap_patient'] = comp_overlap_3d\n",
    "        rec['dice_patient'] = comp_dice_3d\n",
    "\n",
    "        df_outcomes.append(rec)\n",
    "\n",
    "    df_outcomes = pd.DataFrame(df_outcomes)\n",
    "        \n",
    "    print ('Slice\\n')\n",
    "\n",
    "    print ('Mean TPR, OC, DSC: ', np.mean(detect_slice), np.mean(overlap_slice), np.mean(dice_slice))\n",
    "    print ('Median TPR, OC, DSC: ', np.median(detect_slice), np.median(overlap_slice), np.median(dice_slice))\n",
    "    print ('IQR TPR, OC, DSC: ', iqr(detect_slice), iqr(overlap_slice), iqr(dice_slice))\n",
    "    print ('CP 90% CI TPR: ', clopper_pearson(x=np.sum(detect_slice), n=len(detect_slice), alpha=0.1))\n",
    "\n",
    "    plt.figure(figsize=(15, 3))\n",
    "\n",
    "    plt.subplot(1, 3, 1)\n",
    "    plt.hist(detect_slice)\n",
    "    plt.title('TPR')\n",
    "\n",
    "    plt.subplot(1, 3, 2)\n",
    "    plt.hist(overlap_slice)\n",
    "    plt.title('OC')\n",
    "\n",
    "    plt.subplot(1, 3, 3)\n",
    "    plt.hist(dice_slice)\n",
    "    plt.title('DSC')\n",
    "\n",
    "    plt.show()\n",
    "\n",
    "    print ('Patient\\n')\n",
    "\n",
    "    print ('Mean TPR, OC, DSC: ', \n",
    "           np.mean(df_outcomes['detect_patient']), \n",
    "           np.mean(df_outcomes['overlap_patient']), \n",
    "           np.mean(df_outcomes['dice_patient']))\n",
    "\n",
    "    print ('Median TPR, OC, DSC: ',\n",
    "           np.median(df_outcomes['detect_patient']), \n",
    "           np.median(df_outcomes['overlap_patient']), \n",
    "           np.median(df_outcomes['dice_patient']))\n",
    "\n",
    "    print ('IQR TPR, OC, DSC: ',\n",
    "           iqr(df_outcomes['detect_patient']), \n",
    "           iqr(df_outcomes['overlap_patient']), \n",
    "           iqr(df_outcomes['dice_patient']))\n",
    "\n",
    "    print ('CP 90% CI TPR: ',\n",
    "           clopper_pearson(x=np.sum(np.array(df_outcomes['detect_patient'])), \n",
    "                           n=len(np.array(df_outcomes['detect_patient'])), alpha=0.1))\n",
    "    \n",
    "    return df_outcomes"
   ]
  },
  {
   "cell_type": "markdown",
   "metadata": {},
   "source": [
    "# Test subset"
   ]
  },
  {
   "cell_type": "code",
   "execution_count": 38,
   "metadata": {},
   "outputs": [],
   "source": [
    "sub_names_test = ['AMC012', 'AMC006', 'MUMC094', 'MUMC027', 'MUMC079', 'MUMC052', 'MUMC127', 'MUMC071', 'MUMC038',\n",
    "                  'MUMC093', 'MUMC107', 'MUMC022', 'MUMC114', 'MUMC115', 'MUMC069', 'MUMC130', 'MUMC036', 'MUMC007', \n",
    "                  'MUMC059', 'MUMC080', 'UMCU036', 'UMCU025', 'UMCU008', 'UMCU034']"
   ]
  },
  {
   "cell_type": "code",
   "execution_count": 39,
   "metadata": {},
   "outputs": [],
   "source": [
    "ds_dir = '../data/'\n",
    "results_dir_simple = '../res/maps/plaq-u-net_simple/'\n",
    "results_dir_aug = '..res/maps/plaq-u-net_aug/'"
   ]
  },
  {
   "cell_type": "code",
   "execution_count": 91,
   "metadata": {},
   "outputs": [
    {
     "name": "stderr",
     "output_type": "stream",
     "text": [
      "C:\\ProgramData\\Anaconda3\\envs\\segway\\lib\\site-packages\\ipykernel_launcher.py:9: RuntimeWarning: invalid value encountered in long_scalars\n",
      "  if __name__ == '__main__':\n"
     ]
    },
    {
     "name": "stdout",
     "output_type": "stream",
     "text": [
      "Slice\n",
      "\n",
      "Mean TPR, OC, DSC:  0.8583333333333333 0.8509491065222715 0.6497404545333458\n",
      "Median TPR, OC, DSC:  1.0 0.999429874572406 0.7728447600359345\n",
      "IQR TPR, OC, DSC:  0.0 0.022971065631616105 0.3187455721403145\n",
      "CP 90% CI TPR:  (0.8245125106562011, 0.8876702671884595)\n"
     ]
    },
    {
     "data": {
      "image/png": "[encoded data removed]",
      "text/plain": [
       "<Figure size 1080x216 with 3 Axes>"
      ]
     },
     "metadata": {
      "needs_background": "light"
     },
     "output_type": "display_data"
    },
    {
     "name": "stdout",
     "output_type": "stream",
     "text": [
      "Patient\n",
      "\n",
      "Mean TPR, OC, DSC:  1.0 0.9819363446643964 0.7029858048932806\n",
      "Median TPR, OC, DSC:  1.0 0.9927299933252081 0.7156042489432819\n",
      "IQR TPR, OC, DSC:  0.0 0.012202942198538236 0.16363381462199345\n",
      "CP 90% CI TPR:  (0.8826538438450513, 1.0)\n"
     ]
    }
   ],
   "source": [
    "df_outcomes_test_simple = get_outcomes(sub_names_test, ds_dir, results_dir_simple)"
   ]
  },
  {
   "cell_type": "code",
   "execution_count": 92,
   "metadata": {},
   "outputs": [
    {
     "name": "stderr",
     "output_type": "stream",
     "text": [
      "C:\\ProgramData\\Anaconda3\\envs\\segway\\lib\\site-packages\\ipykernel_launcher.py:9: RuntimeWarning: invalid value encountered in long_scalars\n",
      "  if __name__ == '__main__':\n"
     ]
    },
    {
     "name": "stdout",
     "output_type": "stream",
     "text": [
      "Slice\n",
      "\n",
      "Mean TPR, OC, DSC:  0.8833333333333333 0.863579024436053 0.7749399559939819\n",
      "Median TPR, OC, DSC:  1.0 0.9846550970302358 0.9012935114102429\n",
      "IQR TPR, OC, DSC:  0.0 0.03644453577330775 0.16274991681962203\n",
      "CP 90% CI TPR:  (0.8517278826460298, 0.9101200848556268)\n"
     ]
    },
    {
     "data": {
      "image/png": "[encoded data removed]",
      "text/plain": [
       "<Figure size 1080x216 with 3 Axes>"
      ]
     },
     "metadata": {
      "needs_background": "light"
     },
     "output_type": "display_data"
    },
    {
     "name": "stdout",
     "output_type": "stream",
     "text": [
      "Patient\n",
      "\n",
      "Mean TPR, OC, DSC:  1.0 0.9210452453574454 0.8254630896713263\n",
      "Median TPR, OC, DSC:  1.0 0.9511143829223576 0.8445928558840585\n",
      "IQR TPR, OC, DSC:  0.0 0.06719276548789144 0.10249295687149773\n",
      "CP 90% CI TPR:  (0.8826538438450513, 1.0)\n"
     ]
    }
   ],
   "source": [
    "df_outcomes_test_aug = get_outcomes(sub_names_test, ds_dir, results_dir_aug)"
   ]
  },
  {
   "cell_type": "markdown",
   "metadata": {},
   "source": [
    "# EMC"
   ]
  },
  {
   "cell_type": "code",
   "execution_count": 93,
   "metadata": {},
   "outputs": [],
   "source": [
    "sub_names_emc = ['EMC003', 'EMC004', 'EMC005', 'EMC007', 'EMC008', 'EMC009', 'EMC011', 'EMC015', 'EMC018', 'EMC020', \n",
    "                 'EMC024', 'EMC027', 'EMC029', 'EMC031', 'EMC032', 'EMC034', 'EMC035', 'EMC036', 'EMC038', 'EMC041', \n",
    "                 'EMC042', 'EMC043', 'EMC045', 'EMC046', 'EMC047', 'EMC048', 'EMC049', 'EMC050', 'EMC051', 'EMC052', \n",
    "                 'EMC054', 'EMC055', 'EMC056', 'EMC057']"
   ]
  },
  {
   "cell_type": "code",
   "execution_count": 94,
   "metadata": {},
   "outputs": [],
   "source": [
    "ds_dir = '../data/'\n",
    "results_dir_simple = '../res/maps/plaq-u-net_simple/'\n",
    "results_dir_aug = '../res/maps/plaq-u-net_aug/'"
   ]
  },
  {
   "cell_type": "code",
   "execution_count": 97,
   "metadata": {},
   "outputs": [
    {
     "name": "stderr",
     "output_type": "stream",
     "text": [
      "C:\\ProgramData\\Anaconda3\\envs\\segway\\lib\\site-packages\\ipykernel_launcher.py:9: RuntimeWarning: invalid value encountered in ulong_scalars\n",
      "  if __name__ == '__main__':\n",
      "C:\\ProgramData\\Anaconda3\\envs\\segway\\lib\\site-packages\\ipykernel_launcher.py:9: RuntimeWarning: invalid value encountered in long_scalars\n",
      "  if __name__ == '__main__':\n"
     ]
    },
    {
     "name": "stdout",
     "output_type": "stream",
     "text": [
      "Slice\n",
      "\n",
      "Mean TPR, OC, DSC:  0.390625 0.3862848605677601 0.26297437046553396\n",
      "Median TPR, OC, DSC:  0.0 0.0 0.0\n",
      "IQR TPR, OC, DSC:  1.0 1.0 0.6105187741256287\n",
      "CP 90% CI TPR:  (0.3547198760617443, 0.42747263932086244)\n"
     ]
    },
    {
     "data": {
      "image/png": "[encoded data removed]",
      "text/plain": [
       "<Figure size 1080x216 with 3 Axes>"
      ]
     },
     "metadata": {
      "needs_background": "light"
     },
     "output_type": "display_data"
    },
    {
     "name": "stdout",
     "output_type": "stream",
     "text": [
      "Patient\n",
      "\n",
      "Mean TPR, OC, DSC:  0.7647058823529411 0.990441046409054 0.3047372457523956\n",
      "Median TPR, OC, DSC:  1.0 nan 0.3120749747196677\n",
      "IQR TPR, OC, DSC:  0.0 nan 0.4512305930167153\n",
      "CP 90% CI TPR:  (0.615343253327413, 0.8771702344111937)\n"
     ]
    }
   ],
   "source": [
    "df_outcomes_emc_simple = get_outcomes(sub_names_emc, ds_dir, results_dir_simple, cut=False)"
   ]
  },
  {
   "cell_type": "code",
   "execution_count": 98,
   "metadata": {},
   "outputs": [
    {
     "name": "stderr",
     "output_type": "stream",
     "text": [
      "C:\\ProgramData\\Anaconda3\\envs\\segway\\lib\\site-packages\\ipykernel_launcher.py:9: RuntimeWarning: invalid value encountered in long_scalars\n",
      "  if __name__ == '__main__':\n"
     ]
    },
    {
     "name": "stdout",
     "output_type": "stream",
     "text": [
      "Slice\n",
      "\n",
      "Mean TPR, OC, DSC:  0.79296875 0.7843889326914493 0.6509901633728665\n",
      "Median TPR, OC, DSC:  1.0 1.0 0.8201155651859877\n",
      "IQR TPR, OC, DSC:  0.0 0.05572916666666672 0.33898485276402046\n",
      "CP 90% CI TPR:  (0.7613094684992329, 0.8220864093231477)\n"
     ]
    },
    {
     "data": {
      "image/png": "[encoded data removed]",
      "text/plain": [
       "<Figure size 1080x216 with 3 Axes>"
      ]
     },
     "metadata": {
      "needs_background": "light"
     },
     "output_type": "display_data"
    },
    {
     "name": "stdout",
     "output_type": "stream",
     "text": [
      "Patient\n",
      "\n",
      "Mean TPR, OC, DSC:  1.0 0.9730780216754582 0.7048692526329723\n",
      "Median TPR, OC, DSC:  1.0 0.994935039387492 0.7417271314814119\n",
      "IQR TPR, OC, DSC:  0.0 0.033281443784337394 0.21456897242755446\n",
      "CP 90% CI TPR:  (0.9156603566493746, 1.0)\n"
     ]
    }
   ],
   "source": [
    "df_outcomes_emc_aug = get_outcomes(sub_names_emc, ds_dir, results_dir_aug, cut=False)"
   ]
  },
  {
   "cell_type": "code",
   "execution_count": null,
   "metadata": {},
   "outputs": [],
   "source": []
  },
  {
   "cell_type": "code",
   "execution_count": null,
   "metadata": {},
   "outputs": [],
   "source": []
  }
 ],
 "metadata": {
  "kernelspec": {
   "display_name": "Python 3",
   "language": "python",
   "name": "python3"
  },
  "language_info": {
   "codemirror_mode": {
    "name": "ipython",
    "version": 3
   },
   "file_extension": ".py",
   "mimetype": "text/x-python",
   "name": "python",
   "nbconvert_exporter": "python",
   "pygments_lexer": "ipython3",
   "version": "3.7.3"
  }
 },
 "nbformat": 4,
 "nbformat_minor": 2
}
