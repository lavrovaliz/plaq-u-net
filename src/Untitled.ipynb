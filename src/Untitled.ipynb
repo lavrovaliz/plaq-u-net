{
 "cells": [
  {
   "cell_type": "code",
   "execution_count": 1,
   "metadata": {},
   "outputs": [],
   "source": [
    "import os\n",
    "import glob\n",
    "import shutil"
   ]
  },
  {
   "cell_type": "code",
   "execution_count": 2,
   "metadata": {},
   "outputs": [],
   "source": [
    "images = glob.glob('Z:/Lisa/PARISK/PARISK-XNAT/plaque_converted_unempty slices/*/T1W_*.dcm')\n",
    "contours = glob.glob('Z:/Lisa/PARISK/PARISK-XNAT/plaque_converted_unempty slices/*/MASSExport/*.dcm')"
   ]
  },
  {
   "cell_type": "code",
   "execution_count": 4,
   "metadata": {},
   "outputs": [],
   "source": [
    "#for item in os.listdir('Z:/Lisa/PARISK/PARISK-XNAT/plaque_converted_unempty slices'):\n",
    "#    sub_name = item.split('_')[0]\n",
    "#    os.mkdir('C:/Users/E.Lavrova/Documents/GitHub/plaq-u-net/data/' + sub_name)"
   ]
  },
  {
   "cell_type": "code",
   "execution_count": 5,
   "metadata": {},
   "outputs": [],
   "source": [
    "#for item in os.listdir('C:/Users/E.Lavrova/Documents/GitHub/plaq-u-net/data/'):\n",
    "#    \n",
    "#    if ('AMC' in item)|('MUMC' in item)|('UMCU' in item):\n",
    "#        os.mkdir('C:/Users/E.Lavrova/Documents/GitHub/plaq-u-net/data/'+item+'/MASSExport')"
   ]
  },
  {
   "cell_type": "code",
   "execution_count": 13,
   "metadata": {},
   "outputs": [
    {
     "data": {
      "text/plain": [
       "'Z:/Lisa/PARISK/PARISK-XNAT/plaque_converted_unempty slices\\\\MUMC010_MR_Carotid_Baseline\\\\MASSExport\\\\*sl0002*.dcm'"
      ]
     },
     "execution_count": 13,
     "metadata": {},
     "output_type": "execute_result"
    }
   ],
   "source": [
    "os.path.join(os.path.split(image)[0],'MASSExport')+os.sep+'*'+ image.split(os.sep)[2][-10:-4]+'*.dcm'"
   ]
  },
  {
   "cell_type": "code",
   "execution_count": null,
   "metadata": {
    "scrolled": true
   },
   "outputs": [
    {
     "name": "stdout",
     "output_type": "stream",
     "text": [
      "MUMC010\n",
      "MUMC010\n",
      "MUMC010\n",
      "MUMC010\n",
      "MUMC010\n",
      "MUMC010\n",
      "MUMC010\n",
      "MUMC010\n",
      "MUMC010\n"
     ]
    }
   ],
   "source": [
    "for image in images[300:]:\n",
    "    \n",
    "    sub_name = image.split(os.sep)[1].split('_')[0]\n",
    "    #con_name = glob.glob(os.path.join(os.path.split(image)[0],'MASSExport')+os.sep+'*'+ image.split(os.sep)[2][-10:-4]+'*.dcm')\n",
    "    \n",
    "    #if len(con_name)>0:\n",
    "    shutil.copyfile(image, 'C:/Users/E.Lavrova/Documents/GitHub/plaq-u-net/data/'+sub_name+'/'+image.split(os.sep)[-1])\n",
    "    #shutil.copyfile(con_name[0], 'C:/Users/E.Lavrova/Documents/GitHub/plaq-u-net/data/'+sub_name+'/MASSExport/'+con_name[0].split(os.sep)[-1])\n",
    "    print (sub_name)\n"
   ]
  },
  {
   "cell_type": "code",
   "execution_count": null,
   "metadata": {},
   "outputs": [],
   "source": []
  },
  {
   "cell_type": "code",
   "execution_count": null,
   "metadata": {},
   "outputs": [],
   "source": [
    "for con in contours[100:]:\n",
    "    \n",
    "    sub_name = image.split(os.sep)[1].split('_')[0]\n",
    "    #con_name = glob.glob(os.path.join(os.path.split(image)[0],'MASSExport')+os.sep+'*'+ image.split(os.sep)[2][-10:-4]+'*.dcm')\n",
    "    \n",
    "    #if len(con_name)>0:\n",
    "    shutil.copyfile(image, 'C:/Users/E.Lavrova/Documents/GitHub/plaq-u-net/data/'+sub_name+'/'+image.split(os.sep)[-1])\n",
    "    #shutil.copyfile(con_name[0], 'C:/Users/E.Lavrova/Documents/GitHub/plaq-u-net/data/'+sub_name+'/MASSExport/'+con_name[0].split(os.sep)[-1])\n",
    "    print (sub_name)"
   ]
  }
 ],
 "metadata": {
  "kernelspec": {
   "display_name": "Python 3",
   "language": "python",
   "name": "python3"
  },
  "language_info": {
   "codemirror_mode": {
    "name": "ipython",
    "version": 3
   },
   "file_extension": ".py",
   "mimetype": "text/x-python",
   "name": "python",
   "nbconvert_exporter": "python",
   "pygments_lexer": "ipython3",
   "version": "3.7.3"
  }
 },
 "nbformat": 4,
 "nbformat_minor": 2
}
