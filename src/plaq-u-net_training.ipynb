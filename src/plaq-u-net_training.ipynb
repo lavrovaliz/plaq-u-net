{
 "cells": [
  {
   "cell_type": "markdown",
   "metadata": {},
   "source": [
    "# plaq-u-net: multi-patch consensus U-Net for automated detection and segmentation of the carotid arteries on black blood MRI sequences"
   ]
  },
  {
   "cell_type": "markdown",
   "metadata": {},
   "source": [
    "E. Lavrova, 2022  \n",
    "  \n",
    "This is a code supporting the corresponding paper."
   ]
  },
  {
   "cell_type": "markdown",
   "metadata": {},
   "source": [
    "Packages import:"
   ]
  },
  {
   "cell_type": "code",
   "execution_count": 1,
   "metadata": {},
   "outputs": [
    {
     "name": "stderr",
     "output_type": "stream",
     "text": [
      "Using TensorFlow backend.\n"
     ]
    }
   ],
   "source": [
    "import os\n",
    "import numpy as np\n",
    "from os import listdir\n",
    "from xml.etree import ElementTree\n",
    "from numpy import zeros\n",
    "from numpy import asarray\n",
    "from numpy import expand_dims\n",
    "from numpy import mean\n",
    "import pydicom\n",
    "import random\n",
    "import matplotlib.pyplot as plt\n",
    "import glob\n",
    "import matplotlib.patches as patches\n",
    "\n",
    "from skimage.io import imread, imshow, concatenate_images\n",
    "from skimage.transform import resize\n",
    "from skimage.morphology import label\n",
    "from skimage import morphology\n",
    "from skimage.filters import threshold_otsu, threshold_local\n",
    "\n",
    "import cv2\n",
    "\n",
    "from tqdm import tqdm_notebook, tnrange\n",
    "from itertools import chain\n",
    "from sklearn.model_selection import train_test_split\n",
    "\n",
    "import keras\n",
    "from keras.models import Model, load_model\n",
    "from keras.layers import Input, BatchNormalization, Activation, Dense, Dropout\n",
    "from keras.layers.core import Lambda, RepeatVector, Reshape\n",
    "from keras.layers.convolutional import Conv2D, Conv2DTranspose\n",
    "from keras.layers.pooling import MaxPooling2D, GlobalMaxPool2D\n",
    "from keras.layers.merge import concatenate, add\n",
    "from keras.callbacks import EarlyStopping, ModelCheckpoint, ReduceLROnPlateau\n",
    "from keras.optimizers import Adam\n",
    "from keras.preprocessing.image import ImageDataGenerator, array_to_img, img_to_array, load_img\n",
    "\n",
    "import random\n",
    "import pandas as pd\n",
    "\n",
    "import albumentations as A\n",
    "\n",
    "import SimpleITK as sitk\n",
    "\n",
    "plt.style.use(\"ggplot\")"
   ]
  },
  {
   "cell_type": "markdown",
   "metadata": {},
   "source": [
    "GPU assignment:"
   ]
  },
  {
   "cell_type": "code",
   "execution_count": 2,
   "metadata": {},
   "outputs": [
    {
     "name": "stderr",
     "output_type": "stream",
     "text": [
      "WARNING: Logging before flag parsing goes to stderr.\n",
      "W0416 00:17:07.485317 31444 module_wrapper.py:139] From C:\\ProgramData\\Anaconda3\\envs\\segway\\lib\\site-packages\\keras\\backend\\tensorflow_backend.py:174: The name tf.get_default_session is deprecated. Please use tf.compat.v1.get_default_session instead.\n",
      "\n",
      "W0416 00:17:07.488317 31444 module_wrapper.py:139] From C:\\ProgramData\\Anaconda3\\envs\\segway\\lib\\site-packages\\keras\\backend\\tensorflow_backend.py:181: The name tf.ConfigProto is deprecated. Please use tf.compat.v1.ConfigProto instead.\n",
      "\n",
      "W0416 00:17:07.489317 31444 module_wrapper.py:139] From C:\\ProgramData\\Anaconda3\\envs\\segway\\lib\\site-packages\\keras\\backend\\tensorflow_backend.py:186: The name tf.Session is deprecated. Please use tf.compat.v1.Session instead.\n",
      "\n",
      "W0416 00:17:11.123268 31444 module_wrapper.py:139] From C:\\ProgramData\\Anaconda3\\envs\\segway\\lib\\site-packages\\keras\\backend\\tensorflow_backend.py:190: The name tf.global_variables is deprecated. Please use tf.compat.v1.global_variables instead.\n",
      "\n"
     ]
    },
    {
     "data": {
      "text/plain": [
       "['/job:localhost/replica:0/task:0/device:GPU:0',\n",
       " '/job:localhost/replica:0/task:0/device:GPU:1']"
      ]
     },
     "execution_count": 2,
     "metadata": {},
     "output_type": "execute_result"
    }
   ],
   "source": [
    "os.environ[\"CUDA_DEVICE_ORDER\"] = \"PCI_BUS_ID\"\n",
    "os.environ[\"CUDA_VISIBLE_DEVICES\"] = '2,3'                        \n",
    "import tensorflow as tf\n",
    "import keras.backend as K\n",
    "K.tensorflow_backend._get_available_gpus()"
   ]
  },
  {
   "cell_type": "markdown",
   "metadata": {},
   "source": [
    "## 1. Data load"
   ]
  },
  {
   "cell_type": "markdown",
   "metadata": {},
   "source": [
    "Getting image/contour names:"
   ]
  },
  {
   "cell_type": "code",
   "execution_count": 3,
   "metadata": {},
   "outputs": [],
   "source": [
    "images = glob.glob('../data/*/T1W_*.dcm')\n",
    "contours = glob.glob('../data/*/MASSExport/*.dcm')"
   ]
  },
  {
   "cell_type": "markdown",
   "metadata": {},
   "source": [
    "Number of image/contour files:"
   ]
  },
  {
   "cell_type": "code",
   "execution_count": 4,
   "metadata": {},
   "outputs": [
    {
     "data": {
      "text/plain": [
       "(2806, 2821)"
      ]
     },
     "execution_count": 4,
     "metadata": {},
     "output_type": "execute_result"
    }
   ],
   "source": [
    "len(images), len(contours)"
   ]
  },
  {
   "cell_type": "markdown",
   "metadata": {},
   "source": [
    "Getting patients with contours presented:"
   ]
  },
  {
   "cell_type": "code",
   "execution_count": 5,
   "metadata": {},
   "outputs": [],
   "source": [
    "sub_names_list = []\n",
    "for image in images:\n",
    "    sub_name = image.split(os.sep)[1].split('_')[0]\n",
    "    con_names = glob.glob(os.path.join(os.path.split(image)[0],'MASSExport')+os.sep+'*'+ image.split(os.sep)[2][-10:-4]+'*.dcm')\n",
    "    if len(con_names)>0:\n",
    "        sub_names_list.append(sub_name)\n",
    "        \n",
    "sub_names = np.unique(sub_names_list)"
   ]
  },
  {
   "cell_type": "markdown",
   "metadata": {},
   "source": [
    "Splitting subs into centers:"
   ]
  },
  {
   "cell_type": "code",
   "execution_count": 6,
   "metadata": {},
   "outputs": [
    {
     "name": "stdout",
     "output_type": "stream",
     "text": [
      "13 115 25 34\n"
     ]
    }
   ],
   "source": [
    "sub_names_amc = []\n",
    "sub_names_mumc = []\n",
    "sub_names_umcu = []\n",
    "sub_names_emc = []\n",
    "\n",
    "for sub_name in sub_names:\n",
    "    if 'AMC' in sub_name:\n",
    "        sub_names_amc.append(sub_name)\n",
    "    if 'MUMC' in sub_name:\n",
    "        sub_names_mumc.append(sub_name)\n",
    "    if 'UMCU' in sub_name:\n",
    "        sub_names_umcu.append(sub_name)\n",
    "    if 'EMC' in sub_name:\n",
    "        sub_names_emc.append(sub_name)\n",
    "        \n",
    "print (len(sub_names_amc), len(sub_names_mumc), len(sub_names_umcu), len(sub_names_emc))"
   ]
  },
  {
   "cell_type": "markdown",
   "metadata": {},
   "source": [
    "Data split for training, validation, and testing stratified per center:"
   ]
  },
  {
   "cell_type": "code",
   "execution_count": 7,
   "metadata": {},
   "outputs": [
    {
     "name": "stdout",
     "output_type": "stream",
     "text": [
      "9 80 17\n",
      "2 17 4\n",
      "2 18 4\n",
      "34\n"
     ]
    }
   ],
   "source": [
    "sub_names_amc_train, sub_names_amc_valid_test = train_test_split(sub_names_amc, test_size=0.3, \n",
    "                                                                 random_state=2022, shuffle=True)\n",
    "sub_names_amc_valid, sub_names_amc_test = train_test_split(sub_names_amc_valid_test, test_size=0.5, \n",
    "                                                           random_state=2022, shuffle=True)\n",
    "\n",
    "sub_names_mumc_train, sub_names_mumc_valid_test = train_test_split(sub_names_mumc, test_size=0.3, \n",
    "                                                                 random_state=2022, shuffle=True)\n",
    "sub_names_mumc_valid, sub_names_mumc_test = train_test_split(sub_names_mumc_valid_test, test_size=0.5, \n",
    "                                                           random_state=2022, shuffle=True)\n",
    "\n",
    "sub_names_umcu_train, sub_names_umcu_valid_test = train_test_split(sub_names_umcu, test_size=0.3, \n",
    "                                                                 random_state=2022, shuffle=True)\n",
    "sub_names_umcu_valid, sub_names_umcu_test = train_test_split(sub_names_umcu_valid_test, test_size=0.5, \n",
    "                                                           random_state=2022, shuffle=True)\n",
    "\n",
    "sub_names_train = sub_names_amc_train + sub_names_mumc_train + sub_names_umcu_train\n",
    "sub_names_valid = sub_names_amc_valid + sub_names_mumc_valid + sub_names_umcu_valid\n",
    "sub_names_test = sub_names_amc_test + sub_names_mumc_test + sub_names_umcu_test\n",
    "\n",
    "print (len(sub_names_amc_train), len(sub_names_mumc_train), len(sub_names_umcu_train))\n",
    "print (len(sub_names_amc_valid), len(sub_names_mumc_valid), len(sub_names_umcu_valid))\n",
    "print (len(sub_names_amc_test), len(sub_names_mumc_test), len(sub_names_umcu_test))\n",
    "print (len(sub_names_emc))"
   ]
  },
  {
   "cell_type": "markdown",
   "metadata": {},
   "source": [
    "Number of patients in training, validation, and testing subsets per center:"
   ]
  },
  {
   "cell_type": "markdown",
   "metadata": {},
   "source": [
    "|DS | Total  | Train    | Valid   | Test   | Ext test |\n",
    "|---:|:-------------|:-----------|:------|:------|:-----|\n",
    "| AMC | 13  | 9 | 2   | 2     |0|\n",
    "| MUMC | 115  | 80    | 17   | 18     |0|\n",
    "| UMCU | 25  | 17    | 4   | 4     |0|  \n",
    "| EMC | 34|0|0|0|34|\n",
    "| Total | 187  | 106    | 23   | 24     |34|"
   ]
  },
  {
   "cell_type": "markdown",
   "metadata": {},
   "source": [
    "Getting .dcm files for every subset:"
   ]
  },
  {
   "cell_type": "code",
   "execution_count": 8,
   "metadata": {},
   "outputs": [
    {
     "name": "stdout",
     "output_type": "stream",
     "text": [
      "1589 345 360\n"
     ]
    }
   ],
   "source": [
    "img_names_train = []\n",
    "img_names_valid = []\n",
    "img_names_test = []\n",
    "\n",
    "for sub_name_train in sub_names_train:\n",
    "    img_names_train.extend(glob.glob('Z:/Lisa/PARISK/PARISK-XNAT/plaque_converted_unempty slices/'+sub_name_train+'*/T1W_*.dcm'))\n",
    "\n",
    "for sub_name_valid in sub_names_valid:\n",
    "    img_names_valid.extend(glob.glob('Z:/Lisa/PARISK/PARISK-XNAT/plaque_converted_unempty slices/'+sub_name_valid+'*/T1W_*.dcm'))\n",
    "    \n",
    "for sub_name_test in sub_names_test:\n",
    "    img_names_test.extend(glob.glob('Z:/Lisa/PARISK/PARISK-XNAT/plaque_converted_unempty slices/'+sub_name_test+'*/T1W_*.dcm'))\n",
    "    \n",
    "print (len(img_names_train), len(img_names_valid), len(img_names_test))"
   ]
  },
  {
   "cell_type": "markdown",
   "metadata": {},
   "source": [
    "Patch settings:"
   ]
  },
  {
   "cell_type": "code",
   "execution_count": 9,
   "metadata": {},
   "outputs": [],
   "source": [
    "im_side = 64\n",
    "im_width = im_side\n",
    "im_height = im_side\n",
    "border = 5"
   ]
  },
  {
   "cell_type": "markdown",
   "metadata": {},
   "source": [
    "Training data aggregation:"
   ]
  },
  {
   "cell_type": "code",
   "execution_count": 10,
   "metadata": {},
   "outputs": [],
   "source": [
    "# empty arrays for training data\n",
    "\n",
    "X_train = np.zeros((len(img_names_train), im_side, im_side, 1), dtype = np.uint8)\n",
    "y_train = np.zeros((len(img_names_train), im_side, im_side, 1), dtype = np.uint8)\n",
    "\n",
    "X_valid = np.zeros((len(img_names_valid), im_side, im_side, 1), dtype = np.uint8)\n",
    "y_valid = np.zeros((len(img_names_valid), im_side, im_side, 1), dtype = np.uint8)\n",
    "\n",
    "X_test = np.zeros((len(img_names_test), im_side, im_side, 1), dtype = np.uint8)\n",
    "y_test = np.zeros((len(img_names_test), im_side, im_side, 1), dtype = np.uint8)"
   ]
  },
  {
   "cell_type": "code",
   "execution_count": 11,
   "metadata": {},
   "outputs": [],
   "source": [
    "# read DICOM from path to array\n",
    "\n",
    "def path2array(dcm_path):\n",
    "    arr_dcm = pydicom.read_file(dcm_path, force = True)\n",
    "    arr_dcm.file_meta.TransferSyntaxUID = pydicom.uid.ImplicitVRLittleEndian\n",
    "    arr = arr_dcm.pixel_array\n",
    "    return arr"
   ]
  },
  {
   "cell_type": "code",
   "execution_count": 12,
   "metadata": {},
   "outputs": [],
   "source": [
    "# slice normalization and training patch crop\n",
    "\n",
    "def norm_crop(img_arr, con_arr, im_side, rs):\n",
    "    \n",
    "    random.seed(rs)\n",
    "    \n",
    "    img_min = np.min(img_arr) \n",
    "    img_max = np.max(img_arr) \n",
    "    \n",
    "    img_norm = np.copy((img_arr - img_min)/(img_max - img_min)*255).astype(np.uint8)\n",
    "\n",
    "    con_xmin = np.min(np.where(con_arr > 0)[0])\n",
    "    con_xmax = np.max(np.where(con_arr > 0)[0])\n",
    "    con_ymin = np.min(np.where(con_arr > 0)[1])\n",
    "    con_ymax = np.max(np.where(con_arr > 0)[1])\n",
    "        \n",
    "    side_x = con_xmax - con_xmin\n",
    "    side_y = con_ymax - con_ymin\n",
    "\n",
    "    crop_xmin = max(0, con_xmin-random.randint(2, max(2, im_side-side_x)))\n",
    "    crop_ymin = max(0, con_ymin-random.randint(2, max(2, im_side-side_y)))\n",
    "        \n",
    "    crop_xmax = crop_xmin + im_side\n",
    "    crop_ymax = crop_ymin + im_side\n",
    "\n",
    "    crop = [crop_xmin, crop_xmax, crop_ymin, crop_ymax]\n",
    "\n",
    "    img_norm_crop = np.copy(img_norm[crop[0]:crop[1], crop[2]:crop[3]])\n",
    "    con_crop = np.copy(con_arr[crop[0]:crop[1], crop[2]:crop[3]])\n",
    "\n",
    "    return img_norm_crop, con_crop>0\n",
    "    "
   ]
  },
  {
   "cell_type": "code",
   "execution_count": 13,
   "metadata": {},
   "outputs": [],
   "source": [
    "# image pre-processing: N4 bias field correction\n",
    "\n",
    "def correctBiasField(img_input):\n",
    "    \n",
    "    corrected = False\n",
    "    img_output = np.zeros(img_input.shape)\n",
    "\n",
    "    while not corrected:\n",
    "\n",
    "        try:\n",
    "            corrector = sitk.N4BiasFieldCorrectionImageFilter()\n",
    "            inputImage = sitk.GetImageFromArray(img_input)\n",
    "            inputImage = sitk.Cast(inputImage, sitk.sitkFloat32)\n",
    "            output = corrector.Execute(inputImage)\n",
    "            img_output = sitk.GetArrayFromImage(output)\n",
    "            corrected = True\n",
    "        except:\n",
    "            print ('BFC failed')\n",
    "\n",
    "    return img_output"
   ]
  },
  {
   "cell_type": "code",
   "execution_count": 14,
   "metadata": {},
   "outputs": [],
   "source": [
    "# aggregation of the training patches from the corresponding DICOM paths\n",
    "\n",
    "def paths2dataarray(paths_list, X_array, y_array, im_side):\n",
    "    \n",
    "    i = 0\n",
    "\n",
    "    for impth in paths_list:\n",
    "\n",
    "        img = path2array(impth)\n",
    "        con_name = glob.glob(os.path.join(os.path.split(impth)[0],'MASSExport')+os.sep+'*'+ impth.split(os.sep)[2][-10:-4]+'*.dcm')[0]\n",
    "        con = path2array(con_name)\n",
    "        \n",
    "        #img_bfc = correctBiasField(img)\n",
    "        \n",
    "        img_min = np.min(img)\n",
    "        img_max = np.max(img)\n",
    "\n",
    "        if (np.sum(con)>0)&((img_max - img_min)>0):\n",
    "\n",
    "            img_prep, con_prep = norm_crop(img, con, im_side, i)\n",
    "\n",
    "            X_array[i, ..., 0] = img_prep\n",
    "            y_array[i, ..., 0] = con_prep\n",
    "\n",
    "            i+=1\n",
    "\n",
    "    "
   ]
  },
  {
   "cell_type": "code",
   "execution_count": 15,
   "metadata": {
    "scrolled": true
   },
   "outputs": [],
   "source": [
    "# aggregation of the training, validation, and testing patches\n",
    "\n",
    "paths2dataarray(img_names_train, X_train, y_train, 64)\n",
    "paths2dataarray(img_names_valid, X_valid, y_valid, 64)\n",
    "paths2dataarray(img_names_test, X_test, y_test, 64)"
   ]
  },
  {
   "cell_type": "code",
   "execution_count": 16,
   "metadata": {
    "scrolled": false
   },
   "outputs": [
    {
     "data": {
      "image/png": "[encoded data removed]",
      "text/plain": [
       "<Figure size 432x288 with 1 Axes>"
      ]
     },
     "metadata": {
      "needs_background": "light"
     },
     "output_type": "display_data"
    },
    {
     "data": {
      "image/png": "[encoded data removed]",
      "text/plain": [
       "<Figure size 432x288 with 1 Axes>"
      ]
     },
     "metadata": {
      "needs_background": "light"
     },
     "output_type": "display_data"
    },
    {
     "data": {
      "image/png": "[encoded data removed]",
      "text/plain": [
       "<Figure size 432x288 with 1 Axes>"
      ]
     },
     "metadata": {
      "needs_background": "light"
     },
     "output_type": "display_data"
    },
    {
     "data": {
      "image/png": "[encoded data removed]",
      "text/plain": [
       "<Figure size 432x288 with 1 Axes>"
      ]
     },
     "metadata": {
      "needs_background": "light"
     },
     "output_type": "display_data"
    },
    {
     "data": {
      "image/png": "[encoded data removed]",
      "text/plain": [
       "<Figure size 432x288 with 1 Axes>"
      ]
     },
     "metadata": {
      "needs_background": "light"
     },
     "output_type": "display_data"
    },
    {
     "data": {
      "image/png": "[encoded data removed]",
      "text/plain": [
       "<Figure size 432x288 with 1 Axes>"
      ]
     },
     "metadata": {
      "needs_background": "light"
     },
     "output_type": "display_data"
    },
    {
     "data": {
      "image/png": "[encoded data removed]",
      "text/plain": [
       "<Figure size 432x288 with 1 Axes>"
      ]
     },
     "metadata": {
      "needs_background": "light"
     },
     "output_type": "display_data"
    },
    {
     "data": {
      "image/png": "[encoded data removed]",
      "text/plain": [
       "<Figure size 432x288 with 1 Axes>"
      ]
     },
     "metadata": {
      "needs_background": "light"
     },
     "output_type": "display_data"
    },
    {
     "data": {
      "image/png": "[encoded data removed]",
      "text/plain": [
       "<Figure size 432x288 with 1 Axes>"
      ]
     },
     "metadata": {
      "needs_background": "light"
     },
     "output_type": "display_data"
    },
    {
     "data": {
      "image/png": "[encoded data removed]",
      "text/plain": [
       "<Figure size 432x288 with 1 Axes>"
      ]
     },
     "metadata": {
      "needs_background": "light"
     },
     "output_type": "display_data"
    }
   ],
   "source": [
    "# visualization of the training patches\n",
    "\n",
    "for i in range (0, 10):\n",
    "    plt.imshow(X_train[i, ..., 0], cmap = 'bone')\n",
    "    plt.imshow(y_train[i, ..., 0], alpha = 0.3)\n",
    "    plt.axis('Off')\n",
    "    plt.show()"
   ]
  },
  {
   "cell_type": "markdown",
   "metadata": {},
   "source": [
    "## 2. Data augmentation"
   ]
  },
  {
   "cell_type": "markdown",
   "metadata": {},
   "source": [
    "Defining transformations:"
   ]
  },
  {
   "cell_type": "code",
   "execution_count": 17,
   "metadata": {},
   "outputs": [],
   "source": [
    "transform = A.Compose([\n",
    "    A.HorizontalFlip(p=0.5),\n",
    "    A.RandomSizedCrop(min_max_height=(48, 64), height=64, width=64, p=0.5),\n",
    "    A.VerticalFlip(p=0.5),\n",
    "    A.Blur(p=0.5),\n",
    "    A.GaussNoise(p=0.5),\n",
    "    A.RandomBrightnessContrast(brightness_limit=0.25, contrast_limit=0.25, p=0.5),\n",
    "    A.RandomGamma(p=0.5)\n",
    "])"
   ]
  },
  {
   "cell_type": "markdown",
   "metadata": {},
   "source": [
    "Generation of the augmented patches:"
   ]
  },
  {
   "cell_type": "code",
   "execution_count": 18,
   "metadata": {},
   "outputs": [],
   "source": [
    "# n_augms random transformations of the images X and masks y\n",
    "\n",
    "def augment_ds(X, y, n_augms):\n",
    "    \n",
    "    counter = 0\n",
    "    dim = y[0, ..., 0].shape\n",
    "    n_samples = y.shape[0]\n",
    "    \n",
    "    X_aug = np.zeros((int(n_samples*n_augms), dim[0], dim[1], 1), dtype = np.uint8)\n",
    "    y_aug = np.zeros((int(n_samples*n_augms), dim[0], dim[1], 1), dtype = np.uint8)\n",
    "    \n",
    "    for smpl in range (0, n_samples):\n",
    "        for augm in range (0, n_augms):\n",
    "            \n",
    "            random.seed(counter)\n",
    "            augmented = transform(image=X[smpl, ..., 0], mask=y[smpl, ..., 0])\n",
    "            X_aug[counter, ..., 0] = augmented['image']\n",
    "            y_aug[counter, ..., 0] = augmented['mask']\n",
    "            counter += 1\n",
    "            \n",
    "    return X_aug, y_aug    "
   ]
  },
  {
   "cell_type": "markdown",
   "metadata": {},
   "source": [
    "Writing augmented data into arrays:"
   ]
  },
  {
   "cell_type": "code",
   "execution_count": 19,
   "metadata": {},
   "outputs": [],
   "source": [
    "X_train_aug, y_train_aug = augment_ds(X_train, y_train, 10)\n",
    "X_valid_aug, y_valid_aug = augment_ds(X_train, y_train, 10)"
   ]
  },
  {
   "cell_type": "markdown",
   "metadata": {},
   "source": [
    "Visualization of the transformed images:"
   ]
  },
  {
   "cell_type": "code",
   "execution_count": 20,
   "metadata": {},
   "outputs": [
    {
     "data": {
      "image/png": "[encoded data removed]",
      "text/plain": [
       "<Figure size 720x720 with 2 Axes>"
      ]
     },
     "metadata": {
      "needs_background": "light"
     },
     "output_type": "display_data"
    }
   ],
   "source": [
    "n_sample = 5\n",
    "\n",
    "plt.figure(figsize=(10,10))\n",
    "plt.subplot(121)\n",
    "plt.imshow(X_train[n_sample//10, ..., 0])\n",
    "plt.contour(y_train[n_sample//10, ..., 0], colors='r')\n",
    "plt.subplot(122)\n",
    "plt.imshow(X_train_aug[n_sample, ..., 0])\n",
    "plt.contour(y_train_aug[n_sample, ..., 0], colors='r')\n",
    "plt.show()"
   ]
  },
  {
   "cell_type": "markdown",
   "metadata": {},
   "source": [
    "## 3. U-Net construction"
   ]
  },
  {
   "cell_type": "markdown",
   "metadata": {},
   "source": [
    "Defining blocks:"
   ]
  },
  {
   "cell_type": "code",
   "execution_count": 21,
   "metadata": {},
   "outputs": [],
   "source": [
    "def conv2d_block(input_tensor, n_filters, kernel_size = 3, batchnorm = True):\n",
    "    \"\"\"Function to add 2 convolutional layers with the parameters passed to it\"\"\"\n",
    "    # first layer\n",
    "    x = Conv2D(filters = n_filters, kernel_size = (kernel_size, kernel_size),\\\n",
    "              kernel_initializer = 'he_normal', padding = 'same')(input_tensor)\n",
    "    if batchnorm:\n",
    "        x = BatchNormalization()(x)\n",
    "    x = Activation('relu')(x)\n",
    "\n",
    "    # second layer\n",
    "    x = Conv2D(filters = n_filters, kernel_size = (kernel_size, kernel_size),\\\n",
    "              kernel_initializer = 'he_normal', padding = 'same')(input_tensor)\n",
    "    if batchnorm:\n",
    "        x = BatchNormalization()(x)\n",
    "    x = Activation('relu')(x)\n",
    "\n",
    "    return x\n",
    "\n",
    "def get_unet(input_img, n_filters = 8, dropout = 0.2, batchnorm = True):\n",
    "    \"\"\"Function to define the UNET Model\"\"\"\n",
    "    # Contracting Path\n",
    "    c1 = conv2d_block(input_img, n_filters * 1, kernel_size = 3, batchnorm = batchnorm)\n",
    "    p1 = MaxPooling2D((2, 2))(c1)\n",
    "    p1 = Dropout(dropout)(p1)\n",
    "\n",
    "    c2 = conv2d_block(p1, n_filters * 2, kernel_size = 3, batchnorm = batchnorm)\n",
    "    p2 = MaxPooling2D((2, 2))(c2)\n",
    "    p2 = Dropout(dropout)(p2)\n",
    "\n",
    "    c3 = conv2d_block(p2, n_filters * 4, kernel_size = 3, batchnorm = batchnorm)\n",
    "    p3 = MaxPooling2D((2, 2))(c3)\n",
    "    p3 = Dropout(dropout)(p3)\n",
    "\n",
    "    c4 = conv2d_block(p3, n_filters * 8, kernel_size = 3, batchnorm = batchnorm)\n",
    "    p4 = MaxPooling2D((2, 2))(c4)\n",
    "    p4 = Dropout(dropout)(p4)\n",
    "\n",
    "    c5 = conv2d_block(p4, n_filters = n_filters * 16, kernel_size = 3, batchnorm = batchnorm)\n",
    "\n",
    "    # Expansive Path\n",
    "    u6 = Conv2DTranspose(n_filters * 8, (3, 3), strides = (2, 2), padding = 'same')(c5)\n",
    "    u6 = concatenate([u6, c4])\n",
    "    u6 = Dropout(dropout)(u6)\n",
    "    c6 = conv2d_block(u6, n_filters * 8, kernel_size = 3, batchnorm = batchnorm)\n",
    "\n",
    "    u7 = Conv2DTranspose(n_filters * 4, (3, 3), strides = (2, 2), padding = 'same')(c6)\n",
    "    u7 = concatenate([u7, c3])\n",
    "    u7 = Dropout(dropout)(u7)\n",
    "    c7 = conv2d_block(u7, n_filters * 4, kernel_size = 3, batchnorm = batchnorm)\n",
    "\n",
    "    u8 = Conv2DTranspose(n_filters * 2, (3, 3), strides = (2, 2), padding = 'same')(c7)\n",
    "    u8 = concatenate([u8, c2])\n",
    "    u8 = Dropout(dropout)(u8)\n",
    "    c8 = conv2d_block(u8, n_filters * 2, kernel_size = 3, batchnorm = batchnorm)\n",
    "\n",
    "    u9 = Conv2DTranspose(n_filters * 1, (3, 3), strides = (2, 2), padding = 'same')(c8)\n",
    "    u9 = concatenate([u9, c1])\n",
    "    u9 = Dropout(dropout)(u9)\n",
    "    c9 = conv2d_block(u9, n_filters * 1, kernel_size = 3, batchnorm = batchnorm)\n",
    "\n",
    "    outputs = Conv2D(1, (1, 1), activation='sigmoid')(c9)\n",
    "    model = Model(inputs=[input_img], outputs=[outputs])\n",
    "    return model"
   ]
  },
  {
   "cell_type": "markdown",
   "metadata": {},
   "source": [
    "Custom scores:"
   ]
  },
  {
   "cell_type": "code",
   "execution_count": 22,
   "metadata": {},
   "outputs": [],
   "source": [
    "def dice_coef(y_true, y_pred):\n",
    "    from keras import backend as K\n",
    "    smooth=1\n",
    "    y_true_f = K.flatten(y_true)\n",
    "    y_pred_f = K.flatten(y_pred)\n",
    "    intersection = K.sum(y_true_f * y_pred_f)\n",
    "    return (2. * intersection + smooth) / (K.sum(y_true_f) + K.sum(y_pred_f) + smooth)\n",
    "\n",
    "def mean_iou(y_true, y_pred):\n",
    "    prec = []\n",
    "    for t in np.arange(0.5, 1.0, 0.05):\n",
    "        y_pred_ = tf.to_int32(y_pred > t)\n",
    "        score, up_opt = tf.metrics.mean_iou(y_true, y_pred_, 2)\n",
    "        K.get_session().run(tf.local_variables_initializer())\n",
    "        with tf.control_dependencies([up_opt]):\n",
    "            score = tf.identity(score)\n",
    "        prec.append(score)\n",
    "    return K.mean(K.stack(prec), axis=0)\n",
    "\n",
    "def dice_loss(y_true, y_pred):\n",
    "    return 1 - dice_coef(y_true, y_pred)\n",
    "\n",
    "def custom_loss(y_true, y_pred):\n",
    "    from keras.losses import binary_crossentropy\n",
    "    return 0.5*keras.losses.binary_crossentropy(y_true,y_pred)+0.5*dice_loss(y_true,y_pred)"
   ]
  },
  {
   "cell_type": "markdown",
   "metadata": {},
   "source": [
    "Model compilation:"
   ]
  },
  {
   "cell_type": "code",
   "execution_count": 23,
   "metadata": {},
   "outputs": [
    {
     "name": "stderr",
     "output_type": "stream",
     "text": [
      "W0416 00:41:39.134408 31444 module_wrapper.py:139] From C:\\ProgramData\\Anaconda3\\envs\\segway\\lib\\site-packages\\keras\\backend\\tensorflow_backend.py:517: The name tf.placeholder is deprecated. Please use tf.compat.v1.placeholder instead.\n",
      "\n",
      "W0416 00:41:39.134408 31444 module_wrapper.py:139] From C:\\ProgramData\\Anaconda3\\envs\\segway\\lib\\site-packages\\keras\\backend\\tensorflow_backend.py:74: The name tf.get_default_graph is deprecated. Please use tf.compat.v1.get_default_graph instead.\n",
      "\n",
      "W0416 00:41:39.134408 31444 module_wrapper.py:139] From C:\\ProgramData\\Anaconda3\\envs\\segway\\lib\\site-packages\\keras\\backend\\tensorflow_backend.py:4185: The name tf.truncated_normal is deprecated. Please use tf.random.truncated_normal instead.\n",
      "\n",
      "W0416 00:41:39.172999 31444 module_wrapper.py:139] From C:\\ProgramData\\Anaconda3\\envs\\segway\\lib\\site-packages\\keras\\backend\\tensorflow_backend.py:1834: The name tf.nn.fused_batch_norm is deprecated. Please use tf.compat.v1.nn.fused_batch_norm instead.\n",
      "\n",
      "W0416 00:41:39.217132 31444 module_wrapper.py:139] From C:\\ProgramData\\Anaconda3\\envs\\segway\\lib\\site-packages\\keras\\backend\\tensorflow_backend.py:133: The name tf.placeholder_with_default is deprecated. Please use tf.compat.v1.placeholder_with_default instead.\n",
      "\n",
      "W0416 00:41:39.312700 31444 module_wrapper.py:139] From C:\\ProgramData\\Anaconda3\\envs\\segway\\lib\\site-packages\\keras\\backend\\tensorflow_backend.py:3976: The name tf.nn.max_pool is deprecated. Please use tf.nn.max_pool2d instead.\n",
      "\n",
      "W0416 00:41:39.320701 31444 deprecation.py:506] From C:\\ProgramData\\Anaconda3\\envs\\segway\\lib\\site-packages\\keras\\backend\\tensorflow_backend.py:3445: calling dropout (from tensorflow.python.ops.nn_ops) with keep_prob is deprecated and will be removed in a future version.\n",
      "Instructions for updating:\n",
      "Please use `rate` instead of `keep_prob`. Rate should be set to `rate = 1 - keep_prob`.\n",
      "W0416 00:41:40.101912 31444 module_wrapper.py:139] From C:\\ProgramData\\Anaconda3\\envs\\segway\\lib\\site-packages\\keras\\backend\\tensorflow_backend.py:4138: The name tf.random_uniform is deprecated. Please use tf.random.uniform instead.\n",
      "\n",
      "W0416 00:41:40.879138 31444 module_wrapper.py:139] From C:\\ProgramData\\Anaconda3\\envs\\segway\\lib\\site-packages\\keras\\optimizers.py:790: The name tf.train.Optimizer is deprecated. Please use tf.compat.v1.train.Optimizer instead.\n",
      "\n",
      "W0416 00:41:40.894763 31444 module_wrapper.py:139] From C:\\ProgramData\\Anaconda3\\envs\\segway\\lib\\site-packages\\keras\\backend\\tensorflow_backend.py:3376: The name tf.log is deprecated. Please use tf.math.log instead.\n",
      "\n",
      "W0416 00:41:40.906554 31444 deprecation.py:323] From C:\\ProgramData\\Anaconda3\\envs\\segway\\lib\\site-packages\\tensorflow_core\\python\\ops\\nn_impl.py:183: where (from tensorflow.python.ops.array_ops) is deprecated and will be removed in a future version.\n",
      "Instructions for updating:\n",
      "Use tf.where in 2.0, which has the same broadcast rule as np.where\n"
     ]
    },
    {
     "name": "stdout",
     "output_type": "stream",
     "text": [
      "__________________________________________________________________________________________________\n",
      "Layer (type)                    Output Shape         Param #     Connected to                     \n",
      "==================================================================================================\n",
      "img (InputLayer)                (None, 64, 64, 1)    0                                            \n",
      "__________________________________________________________________________________________________\n",
      "conv2d_2 (Conv2D)               (None, 64, 64, 16)   160         img[0][0]                        \n",
      "__________________________________________________________________________________________________\n",
      "batch_normalization_2 (BatchNor (None, 64, 64, 16)   64          conv2d_2[0][0]                   \n",
      "__________________________________________________________________________________________________\n",
      "activation_2 (Activation)       (None, 64, 64, 16)   0           batch_normalization_2[0][0]      \n",
      "__________________________________________________________________________________________________\n",
      "max_pooling2d_1 (MaxPooling2D)  (None, 32, 32, 16)   0           activation_2[0][0]               \n",
      "__________________________________________________________________________________________________\n",
      "dropout_1 (Dropout)             (None, 32, 32, 16)   0           max_pooling2d_1[0][0]            \n",
      "__________________________________________________________________________________________________\n",
      "conv2d_4 (Conv2D)               (None, 32, 32, 32)   4640        dropout_1[0][0]                  \n",
      "__________________________________________________________________________________________________\n",
      "batch_normalization_4 (BatchNor (None, 32, 32, 32)   128         conv2d_4[0][0]                   \n",
      "__________________________________________________________________________________________________\n",
      "activation_4 (Activation)       (None, 32, 32, 32)   0           batch_normalization_4[0][0]      \n",
      "__________________________________________________________________________________________________\n",
      "max_pooling2d_2 (MaxPooling2D)  (None, 16, 16, 32)   0           activation_4[0][0]               \n",
      "__________________________________________________________________________________________________\n",
      "dropout_2 (Dropout)             (None, 16, 16, 32)   0           max_pooling2d_2[0][0]            \n",
      "__________________________________________________________________________________________________\n",
      "conv2d_6 (Conv2D)               (None, 16, 16, 64)   18496       dropout_2[0][0]                  \n",
      "__________________________________________________________________________________________________\n",
      "batch_normalization_6 (BatchNor (None, 16, 16, 64)   256         conv2d_6[0][0]                   \n",
      "__________________________________________________________________________________________________\n",
      "activation_6 (Activation)       (None, 16, 16, 64)   0           batch_normalization_6[0][0]      \n",
      "__________________________________________________________________________________________________\n",
      "max_pooling2d_3 (MaxPooling2D)  (None, 8, 8, 64)     0           activation_6[0][0]               \n",
      "__________________________________________________________________________________________________\n",
      "dropout_3 (Dropout)             (None, 8, 8, 64)     0           max_pooling2d_3[0][0]            \n",
      "__________________________________________________________________________________________________\n",
      "conv2d_8 (Conv2D)               (None, 8, 8, 128)    73856       dropout_3[0][0]                  \n",
      "__________________________________________________________________________________________________\n",
      "batch_normalization_8 (BatchNor (None, 8, 8, 128)    512         conv2d_8[0][0]                   \n",
      "__________________________________________________________________________________________________\n",
      "activation_8 (Activation)       (None, 8, 8, 128)    0           batch_normalization_8[0][0]      \n",
      "__________________________________________________________________________________________________\n",
      "max_pooling2d_4 (MaxPooling2D)  (None, 4, 4, 128)    0           activation_8[0][0]               \n",
      "__________________________________________________________________________________________________\n",
      "dropout_4 (Dropout)             (None, 4, 4, 128)    0           max_pooling2d_4[0][0]            \n",
      "__________________________________________________________________________________________________\n",
      "conv2d_10 (Conv2D)              (None, 4, 4, 256)    295168      dropout_4[0][0]                  \n",
      "__________________________________________________________________________________________________\n",
      "batch_normalization_10 (BatchNo (None, 4, 4, 256)    1024        conv2d_10[0][0]                  \n",
      "__________________________________________________________________________________________________\n",
      "activation_10 (Activation)      (None, 4, 4, 256)    0           batch_normalization_10[0][0]     \n",
      "__________________________________________________________________________________________________\n",
      "conv2d_transpose_1 (Conv2DTrans (None, 8, 8, 128)    295040      activation_10[0][0]              \n",
      "__________________________________________________________________________________________________\n",
      "concatenate_1 (Concatenate)     (None, 8, 8, 256)    0           conv2d_transpose_1[0][0]         \n",
      "                                                                 activation_8[0][0]               \n",
      "__________________________________________________________________________________________________\n",
      "dropout_5 (Dropout)             (None, 8, 8, 256)    0           concatenate_1[0][0]              \n",
      "__________________________________________________________________________________________________\n",
      "conv2d_12 (Conv2D)              (None, 8, 8, 128)    295040      dropout_5[0][0]                  \n",
      "__________________________________________________________________________________________________\n",
      "batch_normalization_12 (BatchNo (None, 8, 8, 128)    512         conv2d_12[0][0]                  \n",
      "__________________________________________________________________________________________________\n",
      "activation_12 (Activation)      (None, 8, 8, 128)    0           batch_normalization_12[0][0]     \n",
      "__________________________________________________________________________________________________\n",
      "conv2d_transpose_2 (Conv2DTrans (None, 16, 16, 64)   73792       activation_12[0][0]              \n",
      "__________________________________________________________________________________________________\n",
      "concatenate_2 (Concatenate)     (None, 16, 16, 128)  0           conv2d_transpose_2[0][0]         \n",
      "                                                                 activation_6[0][0]               \n",
      "__________________________________________________________________________________________________\n",
      "dropout_6 (Dropout)             (None, 16, 16, 128)  0           concatenate_2[0][0]              \n",
      "__________________________________________________________________________________________________\n",
      "conv2d_14 (Conv2D)              (None, 16, 16, 64)   73792       dropout_6[0][0]                  \n",
      "__________________________________________________________________________________________________\n",
      "batch_normalization_14 (BatchNo (None, 16, 16, 64)   256         conv2d_14[0][0]                  \n",
      "__________________________________________________________________________________________________\n",
      "activation_14 (Activation)      (None, 16, 16, 64)   0           batch_normalization_14[0][0]     \n",
      "__________________________________________________________________________________________________\n",
      "conv2d_transpose_3 (Conv2DTrans (None, 32, 32, 32)   18464       activation_14[0][0]              \n",
      "__________________________________________________________________________________________________\n",
      "concatenate_3 (Concatenate)     (None, 32, 32, 64)   0           conv2d_transpose_3[0][0]         \n",
      "                                                                 activation_4[0][0]               \n",
      "__________________________________________________________________________________________________\n",
      "dropout_7 (Dropout)             (None, 32, 32, 64)   0           concatenate_3[0][0]              \n",
      "__________________________________________________________________________________________________\n",
      "conv2d_16 (Conv2D)              (None, 32, 32, 32)   18464       dropout_7[0][0]                  \n",
      "__________________________________________________________________________________________________\n",
      "batch_normalization_16 (BatchNo (None, 32, 32, 32)   128         conv2d_16[0][0]                  \n",
      "__________________________________________________________________________________________________\n",
      "activation_16 (Activation)      (None, 32, 32, 32)   0           batch_normalization_16[0][0]     \n",
      "__________________________________________________________________________________________________\n",
      "conv2d_transpose_4 (Conv2DTrans (None, 64, 64, 16)   4624        activation_16[0][0]              \n",
      "__________________________________________________________________________________________________\n",
      "concatenate_4 (Concatenate)     (None, 64, 64, 32)   0           conv2d_transpose_4[0][0]         \n",
      "                                                                 activation_2[0][0]               \n",
      "__________________________________________________________________________________________________\n",
      "dropout_8 (Dropout)             (None, 64, 64, 32)   0           concatenate_4[0][0]              \n",
      "__________________________________________________________________________________________________\n",
      "conv2d_18 (Conv2D)              (None, 64, 64, 16)   4624        dropout_8[0][0]                  \n",
      "__________________________________________________________________________________________________\n",
      "batch_normalization_18 (BatchNo (None, 64, 64, 16)   64          conv2d_18[0][0]                  \n",
      "__________________________________________________________________________________________________\n",
      "activation_18 (Activation)      (None, 64, 64, 16)   0           batch_normalization_18[0][0]     \n",
      "__________________________________________________________________________________________________\n",
      "conv2d_19 (Conv2D)              (None, 64, 64, 1)    17          activation_18[0][0]              \n",
      "==================================================================================================\n",
      "Total params: 1,179,121\n",
      "Trainable params: 1,177,649\n",
      "Non-trainable params: 1,472\n",
      "__________________________________________________________________________________________________\n"
     ]
    },
    {
     "name": "stdout",
     "output_type": "stream",
     "text": [
      "__________________________________________________________________________________________________\n",
      "Layer (type)                    Output Shape         Param #     Connected to                     \n",
      "==================================================================================================\n",
      "img (InputLayer)                (None, 64, 64, 1)    0                                            \n",
      "__________________________________________________________________________________________________\n",
      "conv2d_21 (Conv2D)              (None, 64, 64, 16)   160         img[0][0]                        \n",
      "__________________________________________________________________________________________________\n",
      "batch_normalization_20 (BatchNo (None, 64, 64, 16)   64          conv2d_21[0][0]                  \n",
      "__________________________________________________________________________________________________\n",
      "activation_20 (Activation)      (None, 64, 64, 16)   0           batch_normalization_20[0][0]     \n",
      "__________________________________________________________________________________________________\n",
      "max_pooling2d_5 (MaxPooling2D)  (None, 32, 32, 16)   0           activation_20[0][0]              \n",
      "__________________________________________________________________________________________________\n",
      "dropout_9 (Dropout)             (None, 32, 32, 16)   0           max_pooling2d_5[0][0]            \n",
      "__________________________________________________________________________________________________\n",
      "conv2d_23 (Conv2D)              (None, 32, 32, 32)   4640        dropout_9[0][0]                  \n",
      "__________________________________________________________________________________________________\n",
      "batch_normalization_22 (BatchNo (None, 32, 32, 32)   128         conv2d_23[0][0]                  \n",
      "__________________________________________________________________________________________________\n",
      "activation_22 (Activation)      (None, 32, 32, 32)   0           batch_normalization_22[0][0]     \n",
      "__________________________________________________________________________________________________\n",
      "max_pooling2d_6 (MaxPooling2D)  (None, 16, 16, 32)   0           activation_22[0][0]              \n",
      "__________________________________________________________________________________________________\n",
      "dropout_10 (Dropout)            (None, 16, 16, 32)   0           max_pooling2d_6[0][0]            \n",
      "__________________________________________________________________________________________________\n",
      "conv2d_25 (Conv2D)              (None, 16, 16, 64)   18496       dropout_10[0][0]                 \n",
      "__________________________________________________________________________________________________\n",
      "batch_normalization_24 (BatchNo (None, 16, 16, 64)   256         conv2d_25[0][0]                  \n",
      "__________________________________________________________________________________________________\n",
      "activation_24 (Activation)      (None, 16, 16, 64)   0           batch_normalization_24[0][0]     \n",
      "__________________________________________________________________________________________________\n",
      "max_pooling2d_7 (MaxPooling2D)  (None, 8, 8, 64)     0           activation_24[0][0]              \n",
      "__________________________________________________________________________________________________\n",
      "dropout_11 (Dropout)            (None, 8, 8, 64)     0           max_pooling2d_7[0][0]            \n",
      "__________________________________________________________________________________________________\n",
      "conv2d_27 (Conv2D)              (None, 8, 8, 128)    73856       dropout_11[0][0]                 \n",
      "__________________________________________________________________________________________________\n",
      "batch_normalization_26 (BatchNo (None, 8, 8, 128)    512         conv2d_27[0][0]                  \n",
      "__________________________________________________________________________________________________\n",
      "activation_26 (Activation)      (None, 8, 8, 128)    0           batch_normalization_26[0][0]     \n",
      "__________________________________________________________________________________________________\n",
      "max_pooling2d_8 (MaxPooling2D)  (None, 4, 4, 128)    0           activation_26[0][0]              \n",
      "__________________________________________________________________________________________________\n",
      "dropout_12 (Dropout)            (None, 4, 4, 128)    0           max_pooling2d_8[0][0]            \n",
      "__________________________________________________________________________________________________\n",
      "conv2d_29 (Conv2D)              (None, 4, 4, 256)    295168      dropout_12[0][0]                 \n",
      "__________________________________________________________________________________________________\n",
      "batch_normalization_28 (BatchNo (None, 4, 4, 256)    1024        conv2d_29[0][0]                  \n",
      "__________________________________________________________________________________________________\n",
      "activation_28 (Activation)      (None, 4, 4, 256)    0           batch_normalization_28[0][0]     \n",
      "__________________________________________________________________________________________________\n",
      "conv2d_transpose_5 (Conv2DTrans (None, 8, 8, 128)    295040      activation_28[0][0]              \n",
      "__________________________________________________________________________________________________\n",
      "concatenate_5 (Concatenate)     (None, 8, 8, 256)    0           conv2d_transpose_5[0][0]         \n",
      "                                                                 activation_26[0][0]              \n",
      "__________________________________________________________________________________________________\n",
      "dropout_13 (Dropout)            (None, 8, 8, 256)    0           concatenate_5[0][0]              \n",
      "__________________________________________________________________________________________________\n",
      "conv2d_31 (Conv2D)              (None, 8, 8, 128)    295040      dropout_13[0][0]                 \n",
      "__________________________________________________________________________________________________\n",
      "batch_normalization_30 (BatchNo (None, 8, 8, 128)    512         conv2d_31[0][0]                  \n",
      "__________________________________________________________________________________________________\n",
      "activation_30 (Activation)      (None, 8, 8, 128)    0           batch_normalization_30[0][0]     \n",
      "__________________________________________________________________________________________________\n",
      "conv2d_transpose_6 (Conv2DTrans (None, 16, 16, 64)   73792       activation_30[0][0]              \n",
      "__________________________________________________________________________________________________\n",
      "concatenate_6 (Concatenate)     (None, 16, 16, 128)  0           conv2d_transpose_6[0][0]         \n",
      "                                                                 activation_24[0][0]              \n",
      "__________________________________________________________________________________________________\n",
      "dropout_14 (Dropout)            (None, 16, 16, 128)  0           concatenate_6[0][0]              \n",
      "__________________________________________________________________________________________________\n",
      "conv2d_33 (Conv2D)              (None, 16, 16, 64)   73792       dropout_14[0][0]                 \n",
      "__________________________________________________________________________________________________\n",
      "batch_normalization_32 (BatchNo (None, 16, 16, 64)   256         conv2d_33[0][0]                  \n",
      "__________________________________________________________________________________________________\n",
      "activation_32 (Activation)      (None, 16, 16, 64)   0           batch_normalization_32[0][0]     \n",
      "__________________________________________________________________________________________________\n",
      "conv2d_transpose_7 (Conv2DTrans (None, 32, 32, 32)   18464       activation_32[0][0]              \n",
      "__________________________________________________________________________________________________\n",
      "concatenate_7 (Concatenate)     (None, 32, 32, 64)   0           conv2d_transpose_7[0][0]         \n",
      "                                                                 activation_22[0][0]              \n",
      "__________________________________________________________________________________________________\n",
      "dropout_15 (Dropout)            (None, 32, 32, 64)   0           concatenate_7[0][0]              \n",
      "__________________________________________________________________________________________________\n",
      "conv2d_35 (Conv2D)              (None, 32, 32, 32)   18464       dropout_15[0][0]                 \n",
      "__________________________________________________________________________________________________\n",
      "batch_normalization_34 (BatchNo (None, 32, 32, 32)   128         conv2d_35[0][0]                  \n",
      "__________________________________________________________________________________________________\n",
      "activation_34 (Activation)      (None, 32, 32, 32)   0           batch_normalization_34[0][0]     \n",
      "__________________________________________________________________________________________________\n",
      "conv2d_transpose_8 (Conv2DTrans (None, 64, 64, 16)   4624        activation_34[0][0]              \n",
      "__________________________________________________________________________________________________\n",
      "concatenate_8 (Concatenate)     (None, 64, 64, 32)   0           conv2d_transpose_8[0][0]         \n",
      "                                                                 activation_20[0][0]              \n",
      "__________________________________________________________________________________________________\n",
      "dropout_16 (Dropout)            (None, 64, 64, 32)   0           concatenate_8[0][0]              \n",
      "__________________________________________________________________________________________________\n",
      "conv2d_37 (Conv2D)              (None, 64, 64, 16)   4624        dropout_16[0][0]                 \n",
      "__________________________________________________________________________________________________\n",
      "batch_normalization_36 (BatchNo (None, 64, 64, 16)   64          conv2d_37[0][0]                  \n",
      "__________________________________________________________________________________________________\n",
      "activation_36 (Activation)      (None, 64, 64, 16)   0           batch_normalization_36[0][0]     \n",
      "__________________________________________________________________________________________________\n",
      "conv2d_38 (Conv2D)              (None, 64, 64, 1)    17          activation_36[0][0]              \n",
      "==================================================================================================\n",
      "Total params: 1,179,121\n",
      "Trainable params: 1,177,649\n",
      "Non-trainable params: 1,472\n",
      "__________________________________________________________________________________________________\n"
     ]
    }
   ],
   "source": [
    "input_img = Input((im_height, im_width, 1), name='img')\n",
    "\n",
    "model_simple = get_unet(input_img, n_filters=16, dropout=0.05, batchnorm=True)\n",
    "model_simple.compile(optimizer=Adam(), loss=custom_loss, metrics=['accuracy', dice_coef])\n",
    "model_simple.summary()\n",
    "\n",
    "model_aug = get_unet(input_img, n_filters=16, dropout=0.05, batchnorm=True)\n",
    "model_aug.compile(optimizer=Adam(), loss=custom_loss, metrics=['accuracy', dice_coef])\n",
    "model_aug.summary()"
   ]
  },
  {
   "cell_type": "markdown",
   "metadata": {},
   "source": [
    "Callbacks:"
   ]
  },
  {
   "cell_type": "code",
   "execution_count": 24,
   "metadata": {},
   "outputs": [],
   "source": [
    "callbacks_simple = [\n",
    "    ReduceLROnPlateau(factor=0.1, patience=3, min_lr=0.00001, verbose=1),\n",
    "    ModelCheckpoint('../res/plaq-u-net_simple.h5', verbose=1, save_best_only=True, save_weights_only=True)\n",
    "]\n",
    "\n",
    "callbacks_aug = [\n",
    "    ReduceLROnPlateau(factor=0.1, patience=3, min_lr=0.00001, verbose=1),\n",
    "    ModelCheckpoint('../res/plaq-u-net_aug.h5', verbose=1, save_best_only=True, save_weights_only=True)\n",
    "]"
   ]
  },
  {
   "cell_type": "markdown",
   "metadata": {},
   "source": [
    "## 4. Model training with and without augmentation"
   ]
  },
  {
   "cell_type": "markdown",
   "metadata": {},
   "source": [
    "Models training (with and w/o augmentation):"
   ]
  },
  {
   "cell_type": "code",
   "execution_count": 25,
   "metadata": {},
   "outputs": [
    {
     "name": "stderr",
     "output_type": "stream",
     "text": [
      "W0416 00:41:43.658106 31444 module_wrapper.py:139] From C:\\ProgramData\\Anaconda3\\envs\\segway\\lib\\site-packages\\keras\\backend\\tensorflow_backend.py:986: The name tf.assign_add is deprecated. Please use tf.compat.v1.assign_add instead.\n",
      "\n",
      "W0416 00:41:44.125515 31444 module_wrapper.py:139] From C:\\ProgramData\\Anaconda3\\envs\\segway\\lib\\site-packages\\keras\\backend\\tensorflow_backend.py:973: The name tf.assign is deprecated. Please use tf.compat.v1.assign instead.\n",
      "\n",
      "W0416 00:41:44.693536 31444 module_wrapper.py:139] From C:\\ProgramData\\Anaconda3\\envs\\segway\\lib\\site-packages\\keras\\backend\\tensorflow_backend.py:199: The name tf.is_variable_initialized is deprecated. Please use tf.compat.v1.is_variable_initialized instead.\n",
      "\n"
     ]
    },
    {
     "name": "stdout",
     "output_type": "stream",
     "text": [
      "Train on 1589 samples, validate on 345 samples\n",
      "Epoch 1/100\n"
     ]
    },
    {
     "name": "stderr",
     "output_type": "stream",
     "text": [
      "W0416 00:41:46.399023 31444 module_wrapper.py:139] From C:\\ProgramData\\Anaconda3\\envs\\segway\\lib\\site-packages\\keras\\backend\\tensorflow_backend.py:206: The name tf.variables_initializer is deprecated. Please use tf.compat.v1.variables_initializer instead.\n",
      "\n"
     ]
    },
    {
     "name": "stdout",
     "output_type": "stream",
     "text": [
      "1589/1589 [==============================] - 14s 9ms/step - loss: 0.5027 - acc: 0.8375 - dice_coef: 0.4756 - val_loss: 0.3827 - val_acc: 0.9117 - val_dice_coef: 0.5637\n",
      "\n",
      "Epoch 00001: val_loss improved from inf to 0.38265, saving model to ../res/plaq-u-net_simple.h5\n",
      "Epoch 2/100\n",
      "1589/1589 [==============================] - 2s 1ms/step - loss: 0.3551 - acc: 0.9259 - dice_coef: 0.5915 - val_loss: 0.3271 - val_acc: 0.9095 - val_dice_coef: 0.6385\n",
      "\n",
      "Epoch 00002: val_loss improved from 0.38265 to 0.32706, saving model to ../res/plaq-u-net_simple.h5\n",
      "Epoch 3/100\n",
      "1589/1589 [==============================] - 2s 1ms/step - loss: 0.2824 - acc: 0.9393 - dice_coef: 0.6633 - val_loss: 0.2627 - val_acc: 0.9297 - val_dice_coef: 0.6958\n",
      "\n",
      "Epoch 00003: val_loss improved from 0.32706 to 0.26266, saving model to ../res/plaq-u-net_simple.h5\n",
      "Epoch 4/100\n",
      "1589/1589 [==============================] - 2s 1ms/step - loss: 0.2273 - acc: 0.9488 - dice_coef: 0.7249 - val_loss: 0.2522 - val_acc: 0.9228 - val_dice_coef: 0.7142\n",
      "\n",
      "Epoch 00004: val_loss improved from 0.26266 to 0.25215, saving model to ../res/plaq-u-net_simple.h5\n",
      "Epoch 5/100\n",
      "1589/1589 [==============================] - 2s 1ms/step - loss: 0.1895 - acc: 0.9533 - dice_coef: 0.7712 - val_loss: 0.2362 - val_acc: 0.9323 - val_dice_coef: 0.7237\n",
      "\n",
      "Epoch 00005: val_loss improved from 0.25215 to 0.23621, saving model to ../res/plaq-u-net_simple.h5\n",
      "Epoch 6/100\n",
      "1589/1589 [==============================] - 2s 1ms/step - loss: 0.1587 - acc: 0.9589 - dice_coef: 0.8101 - val_loss: 0.2286 - val_acc: 0.9317 - val_dice_coef: 0.7434\n",
      "\n",
      "Epoch 00006: val_loss improved from 0.23621 to 0.22861, saving model to ../res/plaq-u-net_simple.h5\n",
      "Epoch 7/100\n",
      "1589/1589 [==============================] - 2s 1ms/step - loss: 0.1433 - acc: 0.9601 - dice_coef: 0.8312 - val_loss: 0.2206 - val_acc: 0.9307 - val_dice_coef: 0.7597\n",
      "\n",
      "Epoch 00007: val_loss improved from 0.22861 to 0.22058, saving model to ../res/plaq-u-net_simple.h5\n",
      "Epoch 8/100\n",
      "1589/1589 [==============================] - 2s 1ms/step - loss: 0.1274 - acc: 0.9632 - dice_coef: 0.8512 - val_loss: 0.2002 - val_acc: 0.9343 - val_dice_coef: 0.7969\n",
      "\n",
      "Epoch 00008: val_loss improved from 0.22058 to 0.20021, saving model to ../res/plaq-u-net_simple.h5\n",
      "Epoch 9/100\n",
      "1589/1589 [==============================] - 2s 1ms/step - loss: 0.1164 - acc: 0.9653 - dice_coef: 0.8657 - val_loss: 0.1921 - val_acc: 0.9380 - val_dice_coef: 0.8059\n",
      "\n",
      "Epoch 00009: val_loss improved from 0.20021 to 0.19208, saving model to ../res/plaq-u-net_simple.h5\n",
      "Epoch 10/100\n",
      "1589/1589 [==============================] - 2s 1ms/step - loss: 0.1072 - acc: 0.9673 - dice_coef: 0.8777 - val_loss: 0.1698 - val_acc: 0.9433 - val_dice_coef: 0.8258\n",
      "\n",
      "Epoch 00010: val_loss improved from 0.19208 to 0.16975, saving model to ../res/plaq-u-net_simple.h5\n",
      "Epoch 11/100\n",
      "1589/1589 [==============================] - 2s 1ms/step - loss: 0.1006 - acc: 0.9684 - dice_coef: 0.8859 - val_loss: 0.1859 - val_acc: 0.9353 - val_dice_coef: 0.8261\n",
      "\n",
      "Epoch 00011: val_loss did not improve from 0.16975\n",
      "Epoch 12/100\n",
      "1589/1589 [==============================] - 2s 1ms/step - loss: 0.0993 - acc: 0.9682 - dice_coef: 0.8884 - val_loss: 0.1840 - val_acc: 0.9364 - val_dice_coef: 0.8332\n",
      "\n",
      "Epoch 00012: val_loss did not improve from 0.16975\n",
      "Epoch 13/100\n",
      "1589/1589 [==============================] - 2s 1ms/step - loss: 0.0912 - acc: 0.9706 - dice_coef: 0.8982 - val_loss: 0.1772 - val_acc: 0.9375 - val_dice_coef: 0.8341\n",
      "\n",
      "Epoch 00013: ReduceLROnPlateau reducing learning rate to 0.00010000000474974513.\n",
      "\n",
      "Epoch 00013: val_loss did not improve from 0.16975\n",
      "Epoch 14/100\n",
      "1589/1589 [==============================] - 2s 1ms/step - loss: 0.0813 - acc: 0.9738 - dice_coef: 0.9076 - val_loss: 0.1566 - val_acc: 0.9474 - val_dice_coef: 0.8499\n",
      "\n",
      "Epoch 00014: val_loss improved from 0.16975 to 0.15664, saving model to ../res/plaq-u-net_simple.h5\n",
      "Epoch 15/100\n",
      "1589/1589 [==============================] - 2s 1ms/step - loss: 0.0765 - acc: 0.9756 - dice_coef: 0.9129 - val_loss: 0.1560 - val_acc: 0.9476 - val_dice_coef: 0.8508\n",
      "\n",
      "Epoch 00015: val_loss improved from 0.15664 to 0.15595, saving model to ../res/plaq-u-net_simple.h5\n",
      "Epoch 16/100\n",
      "1589/1589 [==============================] - 2s 1ms/step - loss: 0.0757 - acc: 0.9757 - dice_coef: 0.9143 - val_loss: 0.1549 - val_acc: 0.9474 - val_dice_coef: 0.8519\n",
      "\n",
      "Epoch 00016: val_loss improved from 0.15595 to 0.15494, saving model to ../res/plaq-u-net_simple.h5\n",
      "Epoch 17/100\n",
      "1589/1589 [==============================] - 2s 1ms/step - loss: 0.0735 - acc: 0.9766 - dice_coef: 0.9165 - val_loss: 0.1572 - val_acc: 0.9466 - val_dice_coef: 0.8503\n",
      "\n",
      "Epoch 00017: val_loss did not improve from 0.15494\n",
      "Epoch 18/100\n",
      "1589/1589 [==============================] - 2s 1ms/step - loss: 0.0723 - acc: 0.9769 - dice_coef: 0.9180 - val_loss: 0.1576 - val_acc: 0.9463 - val_dice_coef: 0.8509\n",
      "\n",
      "Epoch 00018: val_loss did not improve from 0.15494\n",
      "Epoch 19/100\n",
      "1589/1589 [==============================] - 2s 1ms/step - loss: 0.0716 - acc: 0.9772 - dice_coef: 0.9189 - val_loss: 0.1574 - val_acc: 0.9467 - val_dice_coef: 0.8522\n",
      "\n",
      "Epoch 00019: ReduceLROnPlateau reducing learning rate to 1.0000000474974514e-05.\n",
      "\n",
      "Epoch 00019: val_loss did not improve from 0.15494\n",
      "Epoch 20/100\n",
      "1589/1589 [==============================] - 2s 1ms/step - loss: 0.0710 - acc: 0.9773 - dice_coef: 0.9197 - val_loss: 0.1574 - val_acc: 0.9467 - val_dice_coef: 0.8531\n",
      "\n",
      "Epoch 00020: val_loss did not improve from 0.15494\n",
      "Epoch 21/100\n",
      "1589/1589 [==============================] - 2s 1ms/step - loss: 0.0714 - acc: 0.9772 - dice_coef: 0.9192 - val_loss: 0.1573 - val_acc: 0.9469 - val_dice_coef: 0.8537\n",
      "\n",
      "Epoch 00021: val_loss did not improve from 0.15494\n",
      "Epoch 22/100\n",
      "1589/1589 [==============================] - 2s 1ms/step - loss: 0.0710 - acc: 0.9773 - dice_coef: 0.9198 - val_loss: 0.1572 - val_acc: 0.9468 - val_dice_coef: 0.8540\n",
      "\n",
      "Epoch 00022: ReduceLROnPlateau reducing learning rate to 1e-05.\n",
      "\n",
      "Epoch 00022: val_loss did not improve from 0.15494\n",
      "Epoch 23/100\n",
      "1589/1589 [==============================] - 2s 1ms/step - loss: 0.0699 - acc: 0.9778 - dice_coef: 0.9206 - val_loss: 0.1577 - val_acc: 0.9466 - val_dice_coef: 0.8540\n",
      "\n",
      "Epoch 00023: val_loss did not improve from 0.15494\n",
      "Epoch 24/100\n",
      "1589/1589 [==============================] - 2s 1ms/step - loss: 0.0701 - acc: 0.9776 - dice_coef: 0.9205 - val_loss: 0.1582 - val_acc: 0.9465 - val_dice_coef: 0.8538\n",
      "\n",
      "Epoch 00024: val_loss did not improve from 0.15494\n",
      "Epoch 25/100\n",
      "1589/1589 [==============================] - 2s 1ms/step - loss: 0.0702 - acc: 0.9776 - dice_coef: 0.9205 - val_loss: 0.1580 - val_acc: 0.9467 - val_dice_coef: 0.8542\n",
      "\n",
      "Epoch 00025: val_loss did not improve from 0.15494\n",
      "Epoch 26/100\n",
      "1589/1589 [==============================] - 2s 1ms/step - loss: 0.0696 - acc: 0.9778 - dice_coef: 0.9211 - val_loss: 0.1585 - val_acc: 0.9463 - val_dice_coef: 0.8538\n",
      "\n",
      "Epoch 00026: val_loss did not improve from 0.15494\n",
      "Epoch 27/100\n",
      "1589/1589 [==============================] - 2s 1ms/step - loss: 0.0698 - acc: 0.9778 - dice_coef: 0.9210 - val_loss: 0.1583 - val_acc: 0.9465 - val_dice_coef: 0.8540\n",
      "\n",
      "Epoch 00027: val_loss did not improve from 0.15494\n",
      "Epoch 28/100\n",
      "1589/1589 [==============================] - 2s 1ms/step - loss: 0.0698 - acc: 0.9778 - dice_coef: 0.9209 - val_loss: 0.1580 - val_acc: 0.9466 - val_dice_coef: 0.8543\n",
      "\n",
      "Epoch 00028: val_loss did not improve from 0.15494\n",
      "Epoch 29/100\n",
      "1589/1589 [==============================] - 2s 1ms/step - loss: 0.0697 - acc: 0.9778 - dice_coef: 0.9212 - val_loss: 0.1580 - val_acc: 0.9465 - val_dice_coef: 0.8544\n",
      "\n",
      "Epoch 00029: val_loss did not improve from 0.15494\n",
      "Epoch 30/100\n",
      "1589/1589 [==============================] - 2s 1ms/step - loss: 0.0698 - acc: 0.9778 - dice_coef: 0.9210 - val_loss: 0.1578 - val_acc: 0.9466 - val_dice_coef: 0.8545\n",
      "\n",
      "Epoch 00030: val_loss did not improve from 0.15494\n",
      "Epoch 31/100\n",
      "1589/1589 [==============================] - 2s 1ms/step - loss: 0.0690 - acc: 0.9780 - dice_coef: 0.9218 - val_loss: 0.1582 - val_acc: 0.9467 - val_dice_coef: 0.8544\n",
      "\n",
      "Epoch 00031: val_loss did not improve from 0.15494\n",
      "Epoch 32/100\n",
      "1589/1589 [==============================] - 2s 1ms/step - loss: 0.0695 - acc: 0.9778 - dice_coef: 0.9213 - val_loss: 0.1584 - val_acc: 0.9466 - val_dice_coef: 0.8544\n"
     ]
    },
    {
     "name": "stdout",
     "output_type": "stream",
     "text": [
      "\n",
      "Epoch 00032: val_loss did not improve from 0.15494\n",
      "Epoch 33/100\n",
      "1589/1589 [==============================] - 2s 1ms/step - loss: 0.0688 - acc: 0.9782 - dice_coef: 0.9221 - val_loss: 0.1586 - val_acc: 0.9465 - val_dice_coef: 0.8542\n",
      "\n",
      "Epoch 00033: val_loss did not improve from 0.15494\n",
      "Epoch 34/100\n",
      "1589/1589 [==============================] - 2s 1ms/step - loss: 0.0693 - acc: 0.9779 - dice_coef: 0.9215 - val_loss: 0.1583 - val_acc: 0.9465 - val_dice_coef: 0.8545\n",
      "\n",
      "Epoch 00034: val_loss did not improve from 0.15494\n",
      "Epoch 35/100\n",
      "1589/1589 [==============================] - 2s 1ms/step - loss: 0.0692 - acc: 0.9779 - dice_coef: 0.9219 - val_loss: 0.1584 - val_acc: 0.9466 - val_dice_coef: 0.8547\n",
      "\n",
      "Epoch 00035: val_loss did not improve from 0.15494\n",
      "Epoch 36/100\n",
      "1589/1589 [==============================] - 2s 1ms/step - loss: 0.0695 - acc: 0.9778 - dice_coef: 0.9215 - val_loss: 0.1585 - val_acc: 0.9466 - val_dice_coef: 0.8545\n",
      "\n",
      "Epoch 00036: val_loss did not improve from 0.15494\n",
      "Epoch 37/100\n",
      "1589/1589 [==============================] - 2s 1ms/step - loss: 0.0699 - acc: 0.9777 - dice_coef: 0.9211 - val_loss: 0.1585 - val_acc: 0.9465 - val_dice_coef: 0.8544\n",
      "\n",
      "Epoch 00037: val_loss did not improve from 0.15494\n",
      "Epoch 38/100\n",
      "1589/1589 [==============================] - 2s 1ms/step - loss: 0.0688 - acc: 0.9780 - dice_coef: 0.9222 - val_loss: 0.1590 - val_acc: 0.9464 - val_dice_coef: 0.8543\n",
      "\n",
      "Epoch 00038: val_loss did not improve from 0.15494\n",
      "Epoch 39/100\n",
      "1589/1589 [==============================] - 2s 1ms/step - loss: 0.0683 - acc: 0.9782 - dice_coef: 0.9227 - val_loss: 0.1588 - val_acc: 0.9464 - val_dice_coef: 0.8545\n",
      "\n",
      "Epoch 00039: val_loss did not improve from 0.15494\n",
      "Epoch 40/100\n",
      "1589/1589 [==============================] - 2s 1ms/step - loss: 0.0680 - acc: 0.9783 - dice_coef: 0.9231 - val_loss: 0.1589 - val_acc: 0.9464 - val_dice_coef: 0.8546\n",
      "\n",
      "Epoch 00040: val_loss did not improve from 0.15494\n",
      "Epoch 41/100\n",
      "1589/1589 [==============================] - 2s 1ms/step - loss: 0.0686 - acc: 0.9781 - dice_coef: 0.9224 - val_loss: 0.1591 - val_acc: 0.9466 - val_dice_coef: 0.8547\n",
      "\n",
      "Epoch 00041: val_loss did not improve from 0.15494\n",
      "Epoch 42/100\n",
      "1589/1589 [==============================] - 2s 1ms/step - loss: 0.0687 - acc: 0.9780 - dice_coef: 0.9225 - val_loss: 0.1588 - val_acc: 0.9465 - val_dice_coef: 0.8548\n",
      "\n",
      "Epoch 00042: val_loss did not improve from 0.15494\n",
      "Epoch 43/100\n",
      "1589/1589 [==============================] - 2s 1ms/step - loss: 0.0678 - acc: 0.9783 - dice_coef: 0.9233 - val_loss: 0.1589 - val_acc: 0.9465 - val_dice_coef: 0.8548\n",
      "\n",
      "Epoch 00043: val_loss did not improve from 0.15494\n",
      "Epoch 44/100\n",
      "1589/1589 [==============================] - 2s 1ms/step - loss: 0.0675 - acc: 0.9784 - dice_coef: 0.9235 - val_loss: 0.1588 - val_acc: 0.9466 - val_dice_coef: 0.8550\n",
      "\n",
      "Epoch 00044: val_loss did not improve from 0.15494\n",
      "Epoch 45/100\n",
      "1589/1589 [==============================] - 2s 1ms/step - loss: 0.0685 - acc: 0.9780 - dice_coef: 0.9227 - val_loss: 0.1587 - val_acc: 0.9465 - val_dice_coef: 0.8551\n",
      "\n",
      "Epoch 00045: val_loss did not improve from 0.15494\n",
      "Epoch 46/100\n",
      "1589/1589 [==============================] - 2s 1ms/step - loss: 0.0680 - acc: 0.9783 - dice_coef: 0.9232 - val_loss: 0.1592 - val_acc: 0.9463 - val_dice_coef: 0.8548\n",
      "\n",
      "Epoch 00046: val_loss did not improve from 0.15494\n",
      "Epoch 47/100\n",
      "1589/1589 [==============================] - 2s 2ms/step - loss: 0.0673 - acc: 0.9785 - dice_coef: 0.9238 - val_loss: 0.1592 - val_acc: 0.9463 - val_dice_coef: 0.8548\n",
      "\n",
      "Epoch 00047: val_loss did not improve from 0.15494\n",
      "Epoch 48/100\n",
      "1589/1589 [==============================] - 2s 1ms/step - loss: 0.0675 - acc: 0.9784 - dice_coef: 0.9237 - val_loss: 0.1588 - val_acc: 0.9465 - val_dice_coef: 0.8551\n",
      "\n",
      "Epoch 00048: val_loss did not improve from 0.15494\n",
      "Epoch 49/100\n",
      "1589/1589 [==============================] - 2s 1ms/step - loss: 0.0680 - acc: 0.9783 - dice_coef: 0.9232 - val_loss: 0.1593 - val_acc: 0.9462 - val_dice_coef: 0.8549\n",
      "\n",
      "Epoch 00049: val_loss did not improve from 0.15494\n",
      "Epoch 50/100\n",
      "1589/1589 [==============================] - 2s 1ms/step - loss: 0.0674 - acc: 0.9784 - dice_coef: 0.9239 - val_loss: 0.1598 - val_acc: 0.9462 - val_dice_coef: 0.8546\n",
      "\n",
      "Epoch 00050: val_loss did not improve from 0.15494\n",
      "Epoch 51/100\n",
      "1589/1589 [==============================] - 2s 1ms/step - loss: 0.0673 - acc: 0.9784 - dice_coef: 0.9239 - val_loss: 0.1601 - val_acc: 0.9460 - val_dice_coef: 0.8546\n",
      "\n",
      "Epoch 00051: val_loss did not improve from 0.15494\n",
      "Epoch 52/100\n",
      "1589/1589 [==============================] - 2s 1ms/step - loss: 0.0671 - acc: 0.9785 - dice_coef: 0.9242 - val_loss: 0.1596 - val_acc: 0.9462 - val_dice_coef: 0.8549\n",
      "\n",
      "Epoch 00052: val_loss did not improve from 0.15494\n",
      "Epoch 53/100\n",
      "1589/1589 [==============================] - 2s 1ms/step - loss: 0.0670 - acc: 0.9785 - dice_coef: 0.9243 - val_loss: 0.1594 - val_acc: 0.9464 - val_dice_coef: 0.8552\n",
      "\n",
      "Epoch 00053: val_loss did not improve from 0.15494\n",
      "Epoch 54/100\n",
      "1589/1589 [==============================] - 2s 1ms/step - loss: 0.0670 - acc: 0.9785 - dice_coef: 0.9242 - val_loss: 0.1593 - val_acc: 0.9464 - val_dice_coef: 0.8554\n",
      "\n",
      "Epoch 00054: val_loss did not improve from 0.15494\n",
      "Epoch 55/100\n",
      "1589/1589 [==============================] - 2s 1ms/step - loss: 0.0676 - acc: 0.9783 - dice_coef: 0.9239 - val_loss: 0.1596 - val_acc: 0.9464 - val_dice_coef: 0.8554\n",
      "\n",
      "Epoch 00055: val_loss did not improve from 0.15494\n",
      "Epoch 56/100\n",
      "1589/1589 [==============================] - ETA: 0s - loss: 0.0673 - acc: 0.9783 - dice_coef: 0.924 - 2s 1ms/step - loss: 0.0677 - acc: 0.9782 - dice_coef: 0.9238 - val_loss: 0.1589 - val_acc: 0.9465 - val_dice_coef: 0.8558\n",
      "\n",
      "Epoch 00056: val_loss did not improve from 0.15494\n",
      "Epoch 57/100\n",
      "1589/1589 [==============================] - 2s 1ms/step - loss: 0.0671 - acc: 0.9784 - dice_coef: 0.9243 - val_loss: 0.1595 - val_acc: 0.9464 - val_dice_coef: 0.8554\n",
      "\n",
      "Epoch 00057: val_loss did not improve from 0.15494\n",
      "Epoch 58/100\n",
      "1589/1589 [==============================] - 2s 2ms/step - loss: 0.0664 - acc: 0.9787 - dice_coef: 0.9251 - val_loss: 0.1593 - val_acc: 0.9465 - val_dice_coef: 0.8558\n",
      "\n",
      "Epoch 00058: val_loss did not improve from 0.15494\n",
      "Epoch 59/100\n",
      "1589/1589 [==============================] - 2s 2ms/step - loss: 0.0658 - acc: 0.9789 - dice_coef: 0.9256 - val_loss: 0.1594 - val_acc: 0.9463 - val_dice_coef: 0.8557\n",
      "\n",
      "Epoch 00059: val_loss did not improve from 0.15494\n",
      "Epoch 60/100\n",
      "1589/1589 [==============================] - 2s 1ms/step - loss: 0.0662 - acc: 0.9788 - dice_coef: 0.9253 - val_loss: 0.1601 - val_acc: 0.9461 - val_dice_coef: 0.8552\n",
      "\n",
      "Epoch 00060: val_loss did not improve from 0.15494\n",
      "Epoch 61/100\n",
      "1589/1589 [==============================] - 2s 1ms/step - loss: 0.0658 - acc: 0.9789 - dice_coef: 0.9257 - val_loss: 0.1606 - val_acc: 0.9461 - val_dice_coef: 0.8552\n",
      "\n",
      "Epoch 00061: val_loss did not improve from 0.15494\n",
      "Epoch 62/100\n",
      "1589/1589 [==============================] - 2s 1ms/step - loss: 0.0666 - acc: 0.9785 - dice_coef: 0.9250 - val_loss: 0.1606 - val_acc: 0.9460 - val_dice_coef: 0.8551\n",
      "\n",
      "Epoch 00062: val_loss did not improve from 0.15494\n",
      "Epoch 63/100\n",
      "1589/1589 [==============================] - 2s 1ms/step - loss: 0.0654 - acc: 0.9791 - dice_coef: 0.9261 - val_loss: 0.1603 - val_acc: 0.9461 - val_dice_coef: 0.8553\n",
      "\n",
      "Epoch 00063: val_loss did not improve from 0.15494\n",
      "Epoch 64/100\n",
      "1589/1589 [==============================] - 2s 1ms/step - loss: 0.0660 - acc: 0.9788 - dice_coef: 0.9258 - val_loss: 0.1602 - val_acc: 0.9462 - val_dice_coef: 0.8556\n",
      "\n",
      "Epoch 00064: val_loss did not improve from 0.15494\n",
      "Epoch 65/100\n",
      "1589/1589 [==============================] - 2s 1ms/step - loss: 0.0667 - acc: 0.9785 - dice_coef: 0.9250 - val_loss: 0.1602 - val_acc: 0.9462 - val_dice_coef: 0.8555\n",
      "\n",
      "Epoch 00065: val_loss did not improve from 0.15494\n",
      "Epoch 66/100\n",
      "1589/1589 [==============================] - 2s 1ms/step - loss: 0.0659 - acc: 0.9788 - dice_coef: 0.9259 - val_loss: 0.1602 - val_acc: 0.9462 - val_dice_coef: 0.8556\n",
      "\n",
      "Epoch 00066: val_loss did not improve from 0.15494\n",
      "Epoch 67/100\n",
      "1589/1589 [==============================] - 2s 1ms/step - loss: 0.0653 - acc: 0.9790 - dice_coef: 0.9264 - val_loss: 0.1600 - val_acc: 0.9466 - val_dice_coef: 0.8560\n",
      "\n",
      "Epoch 00067: val_loss did not improve from 0.15494\n",
      "Epoch 68/100\n"
     ]
    },
    {
     "name": "stdout",
     "output_type": "stream",
     "text": [
      "1589/1589 [==============================] - 2s 1ms/step - loss: 0.0651 - acc: 0.9791 - dice_coef: 0.9267 - val_loss: 0.1602 - val_acc: 0.9464 - val_dice_coef: 0.8559\n",
      "\n",
      "Epoch 00068: val_loss did not improve from 0.15494\n",
      "Epoch 69/100\n",
      "1589/1589 [==============================] - 2s 1ms/step - loss: 0.0645 - acc: 0.9793 - dice_coef: 0.9271 - val_loss: 0.1602 - val_acc: 0.9463 - val_dice_coef: 0.8560\n",
      "\n",
      "Epoch 00069: val_loss did not improve from 0.15494\n",
      "Epoch 70/100\n",
      "1589/1589 [==============================] - 2s 1ms/step - loss: 0.0646 - acc: 0.9792 - dice_coef: 0.9270 - val_loss: 0.1599 - val_acc: 0.9465 - val_dice_coef: 0.8562\n",
      "\n",
      "Epoch 00070: val_loss did not improve from 0.15494\n",
      "Epoch 71/100\n",
      "1589/1589 [==============================] - 2s 1ms/step - loss: 0.0644 - acc: 0.9792 - dice_coef: 0.9273 - val_loss: 0.1600 - val_acc: 0.9464 - val_dice_coef: 0.8563\n",
      "\n",
      "Epoch 00071: val_loss did not improve from 0.15494\n",
      "Epoch 72/100\n",
      "1589/1589 [==============================] - 2s 1ms/step - loss: 0.0649 - acc: 0.9790 - dice_coef: 0.9270 - val_loss: 0.1602 - val_acc: 0.9464 - val_dice_coef: 0.8562\n",
      "\n",
      "Epoch 00072: val_loss did not improve from 0.15494\n",
      "Epoch 73/100\n",
      "1589/1589 [==============================] - 2s 1ms/step - loss: 0.0644 - acc: 0.9793 - dice_coef: 0.9274 - val_loss: 0.1601 - val_acc: 0.9464 - val_dice_coef: 0.8565\n",
      "\n",
      "Epoch 00073: val_loss did not improve from 0.15494\n",
      "Epoch 74/100\n",
      "1589/1589 [==============================] - 2s 1ms/step - loss: 0.0651 - acc: 0.9790 - dice_coef: 0.9268 - val_loss: 0.1605 - val_acc: 0.9460 - val_dice_coef: 0.8563\n",
      "\n",
      "Epoch 00074: val_loss did not improve from 0.15494\n",
      "Epoch 75/100\n",
      "1589/1589 [==============================] - 2s 1ms/step - loss: 0.0645 - acc: 0.9792 - dice_coef: 0.9274 - val_loss: 0.1602 - val_acc: 0.9463 - val_dice_coef: 0.8566\n",
      "\n",
      "Epoch 00075: val_loss did not improve from 0.15494\n",
      "Epoch 76/100\n",
      "1589/1589 [==============================] - 2s 1ms/step - loss: 0.0643 - acc: 0.9792 - dice_coef: 0.9275 - val_loss: 0.1603 - val_acc: 0.9463 - val_dice_coef: 0.8565\n",
      "\n",
      "Epoch 00076: val_loss did not improve from 0.15494\n",
      "Epoch 77/100\n",
      "1589/1589 [==============================] - 2s 1ms/step - loss: 0.0642 - acc: 0.9792 - dice_coef: 0.9278 - val_loss: 0.1602 - val_acc: 0.9465 - val_dice_coef: 0.8567\n",
      "\n",
      "Epoch 00077: val_loss did not improve from 0.15494\n",
      "Epoch 78/100\n",
      "1589/1589 [==============================] - 2s 1ms/step - loss: 0.0655 - acc: 0.9788 - dice_coef: 0.9267 - val_loss: 0.1604 - val_acc: 0.9464 - val_dice_coef: 0.8566\n",
      "\n",
      "Epoch 00078: val_loss did not improve from 0.15494\n",
      "Epoch 79/100\n",
      "1589/1589 [==============================] - 2s 1ms/step - loss: 0.0644 - acc: 0.9792 - dice_coef: 0.9276 - val_loss: 0.1601 - val_acc: 0.9464 - val_dice_coef: 0.8568\n",
      "\n",
      "Epoch 00079: val_loss did not improve from 0.15494\n",
      "Epoch 80/100\n",
      "1589/1589 [==============================] - 2s 1ms/step - loss: 0.0644 - acc: 0.9792 - dice_coef: 0.9276 - val_loss: 0.1601 - val_acc: 0.9464 - val_dice_coef: 0.8569\n",
      "\n",
      "Epoch 00080: val_loss did not improve from 0.15494\n",
      "Epoch 81/100\n",
      "1589/1589 [==============================] - 2s 1ms/step - loss: 0.0636 - acc: 0.9794 - dice_coef: 0.9285 - val_loss: 0.1602 - val_acc: 0.9464 - val_dice_coef: 0.8571\n",
      "\n",
      "Epoch 00081: val_loss did not improve from 0.15494\n",
      "Epoch 82/100\n",
      "1589/1589 [==============================] - 2s 1ms/step - loss: 0.0638 - acc: 0.9793 - dice_coef: 0.9282 - val_loss: 0.1606 - val_acc: 0.9463 - val_dice_coef: 0.8569\n",
      "\n",
      "Epoch 00082: val_loss did not improve from 0.15494\n",
      "Epoch 83/100\n",
      "1589/1589 [==============================] - 2s 1ms/step - loss: 0.0642 - acc: 0.9792 - dice_coef: 0.9279 - val_loss: 0.1609 - val_acc: 0.9462 - val_dice_coef: 0.8568\n",
      "\n",
      "Epoch 00083: val_loss did not improve from 0.15494\n",
      "Epoch 84/100\n",
      "1589/1589 [==============================] - 2s 1ms/step - loss: 0.0634 - acc: 0.9794 - dice_coef: 0.9287 - val_loss: 0.1606 - val_acc: 0.9465 - val_dice_coef: 0.8570\n",
      "\n",
      "Epoch 00084: val_loss did not improve from 0.15494\n",
      "Epoch 85/100\n",
      "1589/1589 [==============================] - 2s 1ms/step - loss: 0.0640 - acc: 0.9792 - dice_coef: 0.9282 - val_loss: 0.1607 - val_acc: 0.9463 - val_dice_coef: 0.8570\n",
      "\n",
      "Epoch 00085: val_loss did not improve from 0.15494\n",
      "Epoch 86/100\n",
      "1589/1589 [==============================] - 2s 1ms/step - loss: 0.0633 - acc: 0.9794 - dice_coef: 0.9288 - val_loss: 0.1609 - val_acc: 0.9462 - val_dice_coef: 0.8567\n",
      "\n",
      "Epoch 00086: val_loss did not improve from 0.15494\n",
      "Epoch 87/100\n",
      "1589/1589 [==============================] - 2s 1ms/step - loss: 0.0634 - acc: 0.9795 - dice_coef: 0.9288 - val_loss: 0.1609 - val_acc: 0.9463 - val_dice_coef: 0.8568\n",
      "\n",
      "Epoch 00087: val_loss did not improve from 0.15494\n",
      "Epoch 88/100\n",
      "1589/1589 [==============================] - 2s 1ms/step - loss: 0.0629 - acc: 0.9796 - dice_coef: 0.9293 - val_loss: 0.1605 - val_acc: 0.9465 - val_dice_coef: 0.8573\n",
      "\n",
      "Epoch 00088: val_loss did not improve from 0.15494\n",
      "Epoch 89/100\n",
      "1589/1589 [==============================] - 2s 1ms/step - loss: 0.0632 - acc: 0.9794 - dice_coef: 0.9290 - val_loss: 0.1611 - val_acc: 0.9463 - val_dice_coef: 0.8569\n",
      "\n",
      "Epoch 00089: val_loss did not improve from 0.15494\n",
      "Epoch 90/100\n",
      "1589/1589 [==============================] - 2s 1ms/step - loss: 0.0638 - acc: 0.9793 - dice_coef: 0.9287 - val_loss: 0.1606 - val_acc: 0.9465 - val_dice_coef: 0.8575\n",
      "\n",
      "Epoch 00090: val_loss did not improve from 0.15494\n",
      "Epoch 91/100\n",
      "1589/1589 [==============================] - 2s 1ms/step - loss: 0.0634 - acc: 0.9794 - dice_coef: 0.9290 - val_loss: 0.1606 - val_acc: 0.9463 - val_dice_coef: 0.8576\n",
      "\n",
      "Epoch 00091: val_loss did not improve from 0.15494\n",
      "Epoch 92/100\n",
      "1589/1589 [==============================] - 2s 1ms/step - loss: 0.0623 - acc: 0.9798 - dice_coef: 0.9300 - val_loss: 0.1610 - val_acc: 0.9463 - val_dice_coef: 0.8575\n",
      "\n",
      "Epoch 00092: val_loss did not improve from 0.15494\n",
      "Epoch 93/100\n",
      "1589/1589 [==============================] - 2s 1ms/step - loss: 0.0627 - acc: 0.9796 - dice_coef: 0.9296 - val_loss: 0.1609 - val_acc: 0.9462 - val_dice_coef: 0.8575\n",
      "\n",
      "Epoch 00093: val_loss did not improve from 0.15494\n",
      "Epoch 94/100\n",
      "1589/1589 [==============================] - 2s 1ms/step - loss: 0.0628 - acc: 0.9796 - dice_coef: 0.9296 - val_loss: 0.1611 - val_acc: 0.9462 - val_dice_coef: 0.8576\n",
      "\n",
      "Epoch 00094: val_loss did not improve from 0.15494\n",
      "Epoch 95/100\n",
      "1589/1589 [==============================] - 2s 1ms/step - loss: 0.0634 - acc: 0.9794 - dice_coef: 0.9290 - val_loss: 0.1609 - val_acc: 0.9464 - val_dice_coef: 0.8578\n",
      "\n",
      "Epoch 00095: val_loss did not improve from 0.15494\n",
      "Epoch 96/100\n",
      "1589/1589 [==============================] - 2s 1ms/step - loss: 0.0629 - acc: 0.9796 - dice_coef: 0.9296 - val_loss: 0.1611 - val_acc: 0.9463 - val_dice_coef: 0.8576\n",
      "\n",
      "Epoch 00096: val_loss did not improve from 0.15494\n",
      "Epoch 97/100\n",
      "1589/1589 [==============================] - 2s 1ms/step - loss: 0.0623 - acc: 0.9796 - dice_coef: 0.9302 - val_loss: 0.1608 - val_acc: 0.9464 - val_dice_coef: 0.8579\n",
      "\n",
      "Epoch 00097: val_loss did not improve from 0.15494\n",
      "Epoch 98/100\n",
      "1589/1589 [==============================] - 2s 1ms/step - loss: 0.0626 - acc: 0.9796 - dice_coef: 0.9300 - val_loss: 0.1609 - val_acc: 0.9464 - val_dice_coef: 0.8579\n",
      "\n",
      "Epoch 00098: val_loss did not improve from 0.15494\n",
      "Epoch 99/100\n",
      "1589/1589 [==============================] - 2s 1ms/step - loss: 0.0618 - acc: 0.9799 - dice_coef: 0.9307 - val_loss: 0.1613 - val_acc: 0.9463 - val_dice_coef: 0.8579\n",
      "\n",
      "Epoch 00099: val_loss did not improve from 0.15494\n",
      "Epoch 100/100\n",
      "1589/1589 [==============================] - 2s 1ms/step - loss: 0.0627 - acc: 0.9795 - dice_coef: 0.9299 - val_loss: 0.1613 - val_acc: 0.9461 - val_dice_coef: 0.8578\n",
      "\n",
      "Epoch 00100: val_loss did not improve from 0.15494\n"
     ]
    }
   ],
   "source": [
    "# simple model (w/o data augmentation)\n",
    "\n",
    "results_simple = model_simple.fit(X_train, y_train,\n",
    "                                  batch_size=32, epochs=100, \n",
    "                                  callbacks=callbacks_simple, \n",
    "                                  validation_data=(X_valid, y_valid))"
   ]
  },
  {
   "cell_type": "code",
   "execution_count": 26,
   "metadata": {},
   "outputs": [
    {
     "name": "stdout",
     "output_type": "stream",
     "text": [
      "Train on 15890 samples, validate on 15890 samples\n",
      "Epoch 1/100\n",
      "15890/15890 [==============================] - 32s 2ms/step - loss: 0.2594 - acc: 0.9080 - dice_coef: 0.7246 - val_loss: 0.2111 - val_acc: 0.9318 - val_dice_coef: 0.7648\n",
      "\n",
      "Epoch 00001: val_loss improved from inf to 0.21112, saving model to ../res/plaq-u-net_aug.h5\n",
      "Epoch 2/100\n",
      "15890/15890 [==============================] - 27s 2ms/step - loss: 0.1666 - acc: 0.9386 - dice_coef: 0.8303 - val_loss: 0.1620 - val_acc: 0.9470 - val_dice_coef: 0.8215\n",
      "\n",
      "Epoch 00002: val_loss improved from 0.21112 to 0.16199, saving model to ../res/plaq-u-net_aug.h5\n",
      "Epoch 3/100\n",
      "15890/15890 [==============================] - 26s 2ms/step - loss: 0.1455 - acc: 0.9464 - dice_coef: 0.8533 - val_loss: 0.1501 - val_acc: 0.9520 - val_dice_coef: 0.8367\n",
      "\n",
      "Epoch 00003: val_loss improved from 0.16199 to 0.15008, saving model to ../res/plaq-u-net_aug.h5\n",
      "Epoch 4/100\n",
      "15890/15890 [==============================] - 25s 2ms/step - loss: 0.1323 - acc: 0.9511 - dice_coef: 0.8668 - val_loss: 0.1268 - val_acc: 0.9580 - val_dice_coef: 0.8604\n",
      "\n",
      "Epoch 00004: val_loss improved from 0.15008 to 0.12683, saving model to ../res/plaq-u-net_aug.h5\n",
      "Epoch 5/100\n",
      "15890/15890 [==============================] - 26s 2ms/step - loss: 0.1210 - acc: 0.9552 - dice_coef: 0.8784 - val_loss: 0.1308 - val_acc: 0.9581 - val_dice_coef: 0.8517\n",
      "\n",
      "Epoch 00005: val_loss did not improve from 0.12683\n",
      "Epoch 6/100\n",
      "15890/15890 [==============================] - 26s 2ms/step - loss: 0.1130 - acc: 0.9581 - dice_coef: 0.8865 - val_loss: 0.1150 - val_acc: 0.9628 - val_dice_coef: 0.8686\n",
      "\n",
      "Epoch 00006: val_loss improved from 0.12683 to 0.11496, saving model to ../res/plaq-u-net_aug.h5\n",
      "Epoch 7/100\n",
      "15890/15890 [==============================] - 26s 2ms/step - loss: 0.1066 - acc: 0.9604 - dice_coef: 0.8926 - val_loss: 0.1094 - val_acc: 0.9643 - val_dice_coef: 0.8797\n",
      "\n",
      "Epoch 00007: val_loss improved from 0.11496 to 0.10944, saving model to ../res/plaq-u-net_aug.h5\n",
      "Epoch 8/100\n",
      "15890/15890 [==============================] - 26s 2ms/step - loss: 0.0992 - acc: 0.9629 - dice_coef: 0.8998 - val_loss: 0.1091 - val_acc: 0.9632 - val_dice_coef: 0.8765\n",
      "\n",
      "Epoch 00008: val_loss improved from 0.10944 to 0.10906, saving model to ../res/plaq-u-net_aug.h5\n",
      "Epoch 9/100\n",
      "15890/15890 [==============================] - 25s 2ms/step - loss: 0.0947 - acc: 0.9645 - dice_coef: 0.9042 - val_loss: 0.1004 - val_acc: 0.9672 - val_dice_coef: 0.8876\n",
      "\n",
      "Epoch 00009: val_loss improved from 0.10906 to 0.10042, saving model to ../res/plaq-u-net_aug.h5\n",
      "Epoch 10/100\n",
      "15890/15890 [==============================] - 26s 2ms/step - loss: 0.0910 - acc: 0.9658 - dice_coef: 0.9079 - val_loss: 0.0928 - val_acc: 0.9694 - val_dice_coef: 0.8935\n",
      "\n",
      "Epoch 00010: val_loss improved from 0.10042 to 0.09278, saving model to ../res/plaq-u-net_aug.h5\n",
      "Epoch 11/100\n",
      "15890/15890 [==============================] - 27s 2ms/step - loss: 0.0850 - acc: 0.9679 - dice_coef: 0.9137 - val_loss: 0.0899 - val_acc: 0.9708 - val_dice_coef: 0.8972\n",
      "\n",
      "Epoch 00011: val_loss improved from 0.09278 to 0.08994, saving model to ../res/plaq-u-net_aug.h5\n",
      "Epoch 12/100\n",
      "15890/15890 [==============================] - 26s 2ms/step - loss: 0.0823 - acc: 0.9689 - dice_coef: 0.9164 - val_loss: 0.0906 - val_acc: 0.9706 - val_dice_coef: 0.8965\n",
      "\n",
      "Epoch 00012: val_loss did not improve from 0.08994\n",
      "Epoch 13/100\n",
      "15890/15890 [==============================] - 26s 2ms/step - loss: 0.0794 - acc: 0.9699 - dice_coef: 0.9192 - val_loss: 0.0880 - val_acc: 0.9709 - val_dice_coef: 0.8989\n",
      "\n",
      "Epoch 00013: val_loss improved from 0.08994 to 0.08802, saving model to ../res/plaq-u-net_aug.h5\n",
      "Epoch 14/100\n",
      "15890/15890 [==============================] - 25s 2ms/step - loss: 0.0770 - acc: 0.9709 - dice_coef: 0.9216 - val_loss: 0.0829 - val_acc: 0.9734 - val_dice_coef: 0.9016\n",
      "\n",
      "Epoch 00014: val_loss improved from 0.08802 to 0.08293, saving model to ../res/plaq-u-net_aug.h5\n",
      "Epoch 15/100\n",
      "15890/15890 [==============================] - 27s 2ms/step - loss: 0.0733 - acc: 0.9722 - dice_coef: 0.9252 - val_loss: 0.0853 - val_acc: 0.9711 - val_dice_coef: 0.9015\n",
      "\n",
      "Epoch 00015: val_loss did not improve from 0.08293\n",
      "Epoch 16/100\n",
      "15890/15890 [==============================] - 26s 2ms/step - loss: 0.0718 - acc: 0.9727 - dice_coef: 0.9267 - val_loss: 0.0833 - val_acc: 0.9729 - val_dice_coef: 0.9040\n",
      "\n",
      "Epoch 00016: val_loss did not improve from 0.08293\n",
      "Epoch 17/100\n",
      "15890/15890 [==============================] - 26s 2ms/step - loss: 0.0715 - acc: 0.9728 - dice_coef: 0.9270 - val_loss: 0.0711 - val_acc: 0.9770 - val_dice_coef: 0.9153\n",
      "\n",
      "Epoch 00017: val_loss improved from 0.08293 to 0.07111, saving model to ../res/plaq-u-net_aug.h5\n",
      "Epoch 18/100\n",
      "15890/15890 [==============================] - 26s 2ms/step - loss: 0.0681 - acc: 0.9741 - dice_coef: 0.9304 - val_loss: 0.0752 - val_acc: 0.9757 - val_dice_coef: 0.9116\n",
      "\n",
      "Epoch 00018: val_loss did not improve from 0.07111\n",
      "Epoch 19/100\n",
      "15890/15890 [==============================] - 25s 2ms/step - loss: 0.0670 - acc: 0.9745 - dice_coef: 0.9315 - val_loss: 0.0718 - val_acc: 0.9767 - val_dice_coef: 0.9144\n",
      "\n",
      "Epoch 00019: val_loss did not improve from 0.07111\n",
      "Epoch 20/100\n",
      "15890/15890 [==============================] - 26s 2ms/step - loss: 0.0632 - acc: 0.9759 - dice_coef: 0.9354 - val_loss: 0.0683 - val_acc: 0.9773 - val_dice_coef: 0.9199\n",
      "\n",
      "Epoch 00020: val_loss improved from 0.07111 to 0.06825, saving model to ../res/plaq-u-net_aug.h5\n",
      "Epoch 21/100\n",
      "15890/15890 [==============================] - 25s 2ms/step - loss: 0.0618 - acc: 0.9764 - dice_coef: 0.9368 - val_loss: 0.0661 - val_acc: 0.9787 - val_dice_coef: 0.9212\n",
      "\n",
      "Epoch 00021: val_loss improved from 0.06825 to 0.06614, saving model to ../res/plaq-u-net_aug.h5\n",
      "Epoch 22/100\n",
      "15890/15890 [==============================] - 25s 2ms/step - loss: 0.0605 - acc: 0.9768 - dice_coef: 0.9380 - val_loss: 0.0643 - val_acc: 0.9797 - val_dice_coef: 0.9216\n",
      "\n",
      "Epoch 00022: val_loss improved from 0.06614 to 0.06431, saving model to ../res/plaq-u-net_aug.h5\n",
      "Epoch 23/100\n",
      "15890/15890 [==============================] - 27s 2ms/step - loss: 0.0597 - acc: 0.9772 - dice_coef: 0.9389 - val_loss: 0.0638 - val_acc: 0.9794 - val_dice_coef: 0.9234\n",
      "\n",
      "Epoch 00023: val_loss improved from 0.06431 to 0.06383, saving model to ../res/plaq-u-net_aug.h5\n",
      "Epoch 24/100\n",
      "15890/15890 [==============================] - 25s 2ms/step - loss: 0.0584 - acc: 0.9777 - dice_coef: 0.9402 - val_loss: 0.0601 - val_acc: 0.9811 - val_dice_coef: 0.9263\n",
      "\n",
      "Epoch 00024: val_loss improved from 0.06383 to 0.06006, saving model to ../res/plaq-u-net_aug.h5\n",
      "Epoch 25/100\n",
      "15890/15890 [==============================] - 25s 2ms/step - loss: 0.0566 - acc: 0.9783 - dice_coef: 0.9419 - val_loss: 0.0606 - val_acc: 0.9808 - val_dice_coef: 0.9261\n",
      "\n",
      "Epoch 00025: val_loss did not improve from 0.06006\n",
      "Epoch 26/100\n",
      "15890/15890 [==============================] - 25s 2ms/step - loss: 0.0560 - acc: 0.9786 - dice_coef: 0.9426 - val_loss: 0.0598 - val_acc: 0.9813 - val_dice_coef: 0.9269\n",
      "\n",
      "Epoch 00026: val_loss improved from 0.06006 to 0.05982, saving model to ../res/plaq-u-net_aug.h5\n",
      "Epoch 27/100\n",
      "15890/15890 [==============================] - 26s 2ms/step - loss: 0.0540 - acc: 0.9794 - dice_coef: 0.9447 - val_loss: 0.0554 - val_acc: 0.9826 - val_dice_coef: 0.9315\n",
      "\n",
      "Epoch 00027: val_loss improved from 0.05982 to 0.05544, saving model to ../res/plaq-u-net_aug.h5\n",
      "Epoch 28/100\n",
      "15890/15890 [==============================] - 25s 2ms/step - loss: 0.0528 - acc: 0.9798 - dice_coef: 0.9458 - val_loss: 0.0559 - val_acc: 0.9823 - val_dice_coef: 0.9316\n",
      "\n",
      "Epoch 00028: val_loss did not improve from 0.05544\n",
      "Epoch 29/100\n",
      "15890/15890 [==============================] - 25s 2ms/step - loss: 0.0521 - acc: 0.9800 - dice_coef: 0.9466 - val_loss: 0.0607 - val_acc: 0.9811 - val_dice_coef: 0.9257\n",
      "\n",
      "Epoch 00029: val_loss did not improve from 0.05544\n",
      "Epoch 30/100\n",
      "15890/15890 [==============================] - 27s 2ms/step - loss: 0.0519 - acc: 0.9801 - dice_coef: 0.9467 - val_loss: 0.0536 - val_acc: 0.9830 - val_dice_coef: 0.9343\n",
      "\n",
      "Epoch 00030: val_loss improved from 0.05544 to 0.05361, saving model to ../res/plaq-u-net_aug.h5\n",
      "Epoch 31/100\n",
      "15890/15890 [==============================] - 25s 2ms/step - loss: 0.0497 - acc: 0.9809 - dice_coef: 0.9490 - val_loss: 0.0540 - val_acc: 0.9828 - val_dice_coef: 0.9343\n"
     ]
    },
    {
     "name": "stdout",
     "output_type": "stream",
     "text": [
      "\n",
      "Epoch 00031: val_loss did not improve from 0.05361\n",
      "Epoch 32/100\n",
      "15890/15890 [==============================] - 25s 2ms/step - loss: 0.0493 - acc: 0.9811 - dice_coef: 0.9494 - val_loss: 0.0545 - val_acc: 0.9827 - val_dice_coef: 0.9329\n",
      "\n",
      "Epoch 00032: val_loss did not improve from 0.05361\n",
      "Epoch 33/100\n",
      "15890/15890 [==============================] - 26s 2ms/step - loss: 0.0473 - acc: 0.9818 - dice_coef: 0.9514 - val_loss: 0.0502 - val_acc: 0.9837 - val_dice_coef: 0.9394\n",
      "\n",
      "Epoch 00033: val_loss improved from 0.05361 to 0.05025, saving model to ../res/plaq-u-net_aug.h5\n",
      "Epoch 34/100\n",
      "15890/15890 [==============================] - 26s 2ms/step - loss: 0.0470 - acc: 0.9820 - dice_coef: 0.9519 - val_loss: 0.0484 - val_acc: 0.9842 - val_dice_coef: 0.9421\n",
      "\n",
      "Epoch 00034: val_loss improved from 0.05025 to 0.04842, saving model to ../res/plaq-u-net_aug.h5\n",
      "Epoch 35/100\n",
      "15890/15890 [==============================] - 25s 2ms/step - loss: 0.0459 - acc: 0.9824 - dice_coef: 0.9528 - val_loss: 0.0488 - val_acc: 0.9850 - val_dice_coef: 0.9390\n",
      "\n",
      "Epoch 00035: val_loss did not improve from 0.04842\n",
      "Epoch 36/100\n",
      "15890/15890 [==============================] - 25s 2ms/step - loss: 0.0462 - acc: 0.9823 - dice_coef: 0.9526 - val_loss: 0.0485 - val_acc: 0.9840 - val_dice_coef: 0.9422\n",
      "\n",
      "Epoch 00036: val_loss did not improve from 0.04842\n",
      "Epoch 37/100\n",
      "15890/15890 [==============================] - 26s 2ms/step - loss: 0.0436 - acc: 0.9832 - dice_coef: 0.9551 - val_loss: 0.0460 - val_acc: 0.9857 - val_dice_coef: 0.9428\n",
      "\n",
      "Epoch 00037: val_loss improved from 0.04842 to 0.04600, saving model to ../res/plaq-u-net_aug.h5\n",
      "Epoch 38/100\n",
      "15890/15890 [==============================] - 27s 2ms/step - loss: 0.0442 - acc: 0.9830 - dice_coef: 0.9546 - val_loss: 0.0486 - val_acc: 0.9844 - val_dice_coef: 0.9418\n",
      "\n",
      "Epoch 00038: val_loss did not improve from 0.04600\n",
      "Epoch 39/100\n",
      "15890/15890 [==============================] - 27s 2ms/step - loss: 0.0446 - acc: 0.9829 - dice_coef: 0.9543 - val_loss: 0.0460 - val_acc: 0.9861 - val_dice_coef: 0.9416\n",
      "\n",
      "Epoch 00039: val_loss did not improve from 0.04600\n",
      "Epoch 40/100\n",
      "15890/15890 [==============================] - 25s 2ms/step - loss: 0.0421 - acc: 0.9839 - dice_coef: 0.9568 - val_loss: 0.0423 - val_acc: 0.9870 - val_dice_coef: 0.9468\n",
      "\n",
      "Epoch 00040: val_loss improved from 0.04600 to 0.04233, saving model to ../res/plaq-u-net_aug.h5\n",
      "Epoch 41/100\n",
      "15890/15890 [==============================] - 26s 2ms/step - loss: 0.0419 - acc: 0.9839 - dice_coef: 0.9569 - val_loss: 0.0445 - val_acc: 0.9859 - val_dice_coef: 0.9450\n",
      "\n",
      "Epoch 00041: val_loss did not improve from 0.04233\n",
      "Epoch 42/100\n",
      "15890/15890 [==============================] - 25s 2ms/step - loss: 0.0407 - acc: 0.9843 - dice_coef: 0.9580 - val_loss: 0.0395 - val_acc: 0.9865 - val_dice_coef: 0.9542\n",
      "\n",
      "Epoch 00042: val_loss improved from 0.04233 to 0.03948, saving model to ../res/plaq-u-net_aug.h5\n",
      "Epoch 43/100\n",
      "15890/15890 [==============================] - 25s 2ms/step - loss: 0.0412 - acc: 0.9842 - dice_coef: 0.9576 - val_loss: 0.0670 - val_acc: 0.9793 - val_dice_coef: 0.9252\n",
      "\n",
      "Epoch 00043: val_loss did not improve from 0.03948\n",
      "Epoch 44/100\n",
      "15890/15890 [==============================] - 25s 2ms/step - loss: 0.0417 - acc: 0.9840 - dice_coef: 0.9571 - val_loss: 0.0417 - val_acc: 0.9876 - val_dice_coef: 0.9463\n",
      "\n",
      "Epoch 00044: val_loss did not improve from 0.03948\n",
      "Epoch 45/100\n",
      "15890/15890 [==============================] - 26s 2ms/step - loss: 0.0400 - acc: 0.9846 - dice_coef: 0.9589 - val_loss: 0.0406 - val_acc: 0.9872 - val_dice_coef: 0.9497\n",
      "\n",
      "Epoch 00045: ReduceLROnPlateau reducing learning rate to 0.00010000000474974513.\n",
      "\n",
      "Epoch 00045: val_loss did not improve from 0.03948\n",
      "Epoch 46/100\n",
      "15890/15890 [==============================] - 26s 2ms/step - loss: 0.0357 - acc: 0.9863 - dice_coef: 0.9629 - val_loss: 0.0352 - val_acc: 0.9894 - val_dice_coef: 0.9551\n",
      "\n",
      "Epoch 00046: val_loss improved from 0.03948 to 0.03525, saving model to ../res/plaq-u-net_aug.h5\n",
      "Epoch 47/100\n",
      "15890/15890 [==============================] - 26s 2ms/step - loss: 0.0341 - acc: 0.9869 - dice_coef: 0.9647 - val_loss: 0.0338 - val_acc: 0.9898 - val_dice_coef: 0.9571\n",
      "\n",
      "Epoch 00047: val_loss improved from 0.03525 to 0.03382, saving model to ../res/plaq-u-net_aug.h5\n",
      "Epoch 48/100\n",
      "15890/15890 [==============================] - 27s 2ms/step - loss: 0.0334 - acc: 0.9871 - dice_coef: 0.9655 - val_loss: 0.0328 - val_acc: 0.9901 - val_dice_coef: 0.9583\n",
      "\n",
      "Epoch 00048: val_loss improved from 0.03382 to 0.03285, saving model to ../res/plaq-u-net_aug.h5\n",
      "Epoch 49/100\n",
      "15890/15890 [==============================] - 25s 2ms/step - loss: 0.0329 - acc: 0.9873 - dice_coef: 0.9660 - val_loss: 0.0330 - val_acc: 0.9903 - val_dice_coef: 0.9575\n",
      "\n",
      "Epoch 00049: val_loss did not improve from 0.03285\n",
      "Epoch 50/100\n",
      "15890/15890 [==============================] - 26s 2ms/step - loss: 0.0326 - acc: 0.9875 - dice_coef: 0.9663 - val_loss: 0.0331 - val_acc: 0.9905 - val_dice_coef: 0.9569\n",
      "\n",
      "Epoch 00050: val_loss did not improve from 0.03285\n",
      "Epoch 51/100\n",
      "15890/15890 [==============================] - 26s 2ms/step - loss: 0.0322 - acc: 0.9876 - dice_coef: 0.9667 - val_loss: 0.0332 - val_acc: 0.9905 - val_dice_coef: 0.9565\n",
      "\n",
      "Epoch 00051: ReduceLROnPlateau reducing learning rate to 1.0000000474974514e-05.\n",
      "\n",
      "Epoch 00051: val_loss did not improve from 0.03285\n",
      "Epoch 52/100\n",
      "15890/15890 [==============================] - 26s 2ms/step - loss: 0.0317 - acc: 0.9878 - dice_coef: 0.9671 - val_loss: 0.0324 - val_acc: 0.9907 - val_dice_coef: 0.9576\n",
      "\n",
      "Epoch 00052: val_loss improved from 0.03285 to 0.03244, saving model to ../res/plaq-u-net_aug.h5\n",
      "Epoch 53/100\n",
      "15890/15890 [==============================] - 26s 2ms/step - loss: 0.0316 - acc: 0.9878 - dice_coef: 0.9672 - val_loss: 0.0322 - val_acc: 0.9907 - val_dice_coef: 0.9580\n",
      "\n",
      "Epoch 00053: val_loss improved from 0.03244 to 0.03224, saving model to ../res/plaq-u-net_aug.h5\n",
      "Epoch 54/100\n",
      "15890/15890 [==============================] - 25s 2ms/step - loss: 0.0314 - acc: 0.9879 - dice_coef: 0.9675 - val_loss: 0.0324 - val_acc: 0.9907 - val_dice_coef: 0.9577\n",
      "\n",
      "Epoch 00054: val_loss did not improve from 0.03224\n",
      "Epoch 55/100\n",
      "15890/15890 [==============================] - 26s 2ms/step - loss: 0.0315 - acc: 0.9879 - dice_coef: 0.9674 - val_loss: 0.0323 - val_acc: 0.9908 - val_dice_coef: 0.9578\n",
      "\n",
      "Epoch 00055: val_loss did not improve from 0.03224\n",
      "Epoch 56/100\n",
      "15890/15890 [==============================] - 26s 2ms/step - loss: 0.0315 - acc: 0.9879 - dice_coef: 0.9675 - val_loss: 0.0320 - val_acc: 0.9908 - val_dice_coef: 0.9582\n",
      "\n",
      "Epoch 00056: val_loss improved from 0.03224 to 0.03204, saving model to ../res/plaq-u-net_aug.h5\n",
      "Epoch 57/100\n",
      "15890/15890 [==============================] - 25s 2ms/step - loss: 0.0314 - acc: 0.9879 - dice_coef: 0.9675 - val_loss: 0.0317 - val_acc: 0.9908 - val_dice_coef: 0.9589\n",
      "\n",
      "Epoch 00057: val_loss improved from 0.03204 to 0.03169, saving model to ../res/plaq-u-net_aug.h5\n",
      "Epoch 58/100\n",
      "15890/15890 [==============================] - 26s 2ms/step - loss: 0.0312 - acc: 0.9880 - dice_coef: 0.9677 - val_loss: 0.0320 - val_acc: 0.9908 - val_dice_coef: 0.9582\n",
      "\n",
      "Epoch 00058: val_loss did not improve from 0.03169\n",
      "Epoch 59/100\n",
      "15890/15890 [==============================] - 26s 2ms/step - loss: 0.0313 - acc: 0.9880 - dice_coef: 0.9677 - val_loss: 0.0317 - val_acc: 0.9908 - val_dice_coef: 0.9588\n",
      "\n",
      "Epoch 00059: val_loss improved from 0.03169 to 0.03167, saving model to ../res/plaq-u-net_aug.h5\n",
      "Epoch 60/100\n",
      "15890/15890 [==============================] - 27s 2ms/step - loss: 0.0312 - acc: 0.9880 - dice_coef: 0.9677 - val_loss: 0.0316 - val_acc: 0.9908 - val_dice_coef: 0.9589\n",
      "\n",
      "Epoch 00060: ReduceLROnPlateau reducing learning rate to 1e-05.\n",
      "\n",
      "Epoch 00060: val_loss improved from 0.03167 to 0.03161, saving model to ../res/plaq-u-net_aug.h5\n",
      "Epoch 61/100\n",
      "15890/15890 [==============================] - 25s 2ms/step - loss: 0.0312 - acc: 0.9880 - dice_coef: 0.9677 - val_loss: 0.0314 - val_acc: 0.9909 - val_dice_coef: 0.9593\n",
      "\n",
      "Epoch 00061: val_loss improved from 0.03161 to 0.03138, saving model to ../res/plaq-u-net_aug.h5\n",
      "Epoch 62/100\n",
      "15890/15890 [==============================] - 25s 2ms/step - loss: 0.0312 - acc: 0.9880 - dice_coef: 0.9677 - val_loss: 0.0316 - val_acc: 0.9909 - val_dice_coef: 0.9588\n"
     ]
    },
    {
     "name": "stdout",
     "output_type": "stream",
     "text": [
      "\n",
      "Epoch 00062: val_loss did not improve from 0.03138\n",
      "Epoch 63/100\n",
      "15890/15890 [==============================] - 26s 2ms/step - loss: 0.0311 - acc: 0.9880 - dice_coef: 0.9678 - val_loss: 0.0316 - val_acc: 0.9909 - val_dice_coef: 0.9589\n",
      "\n",
      "Epoch 00063: val_loss did not improve from 0.03138\n",
      "Epoch 64/100\n",
      "15890/15890 [==============================] - 25s 2ms/step - loss: 0.0312 - acc: 0.9880 - dice_coef: 0.9677 - val_loss: 0.0314 - val_acc: 0.9909 - val_dice_coef: 0.9591c: 0.9 - ETA: 2s - loss: 0.0313 - acc: 0.98 - ETA: 0s - loss: 0.0312 - acc: 0.9880 - dice_coef: \n",
      "\n",
      "Epoch 00064: val_loss did not improve from 0.03138\n",
      "Epoch 65/100\n",
      "15890/15890 [==============================] - 24s 2ms/step - loss: 0.0310 - acc: 0.9881 - dice_coef: 0.9679 - val_loss: 0.0313 - val_acc: 0.9909 - val_dice_coef: 0.9593\n",
      "\n",
      "Epoch 00065: val_loss improved from 0.03138 to 0.03131, saving model to ../res/plaq-u-net_aug.h5\n",
      "Epoch 66/100\n",
      "15890/15890 [==============================] - 25s 2ms/step - loss: 0.0311 - acc: 0.9880 - dice_coef: 0.9679 - val_loss: 0.0312 - val_acc: 0.9910 - val_dice_coef: 0.9595\n",
      "\n",
      "Epoch 00066: val_loss improved from 0.03131 to 0.03121, saving model to ../res/plaq-u-net_aug.h5\n",
      "Epoch 67/100\n",
      "15890/15890 [==============================] - 25s 2ms/step - loss: 0.0311 - acc: 0.9881 - dice_coef: 0.9679 - val_loss: 0.0313 - val_acc: 0.9910 - val_dice_coef: 0.9594\n",
      "\n",
      "Epoch 00067: val_loss did not improve from 0.03121\n",
      "Epoch 68/100\n",
      "15890/15890 [==============================] - 25s 2ms/step - loss: 0.0310 - acc: 0.9881 - dice_coef: 0.9680 - val_loss: 0.0310 - val_acc: 0.9910 - val_dice_coef: 0.9598\n",
      "\n",
      "Epoch 00068: val_loss improved from 0.03121 to 0.03102, saving model to ../res/plaq-u-net_aug.h5\n",
      "Epoch 69/100\n",
      "15890/15890 [==============================] - 24s 2ms/step - loss: 0.0310 - acc: 0.9881 - dice_coef: 0.9680 - val_loss: 0.0310 - val_acc: 0.9910 - val_dice_coef: 0.9597\n",
      "\n",
      "Epoch 00069: val_loss did not improve from 0.03102\n",
      "Epoch 70/100\n",
      "15890/15890 [==============================] - 25s 2ms/step - loss: 0.0309 - acc: 0.9881 - dice_coef: 0.9680 - val_loss: 0.0308 - val_acc: 0.9910 - val_dice_coef: 0.9601\n",
      "\n",
      "Epoch 00070: val_loss improved from 0.03102 to 0.03082, saving model to ../res/plaq-u-net_aug.h5\n",
      "Epoch 71/100\n",
      "15890/15890 [==============================] - 25s 2ms/step - loss: 0.0309 - acc: 0.9881 - dice_coef: 0.9681 - val_loss: 0.0310 - val_acc: 0.9910 - val_dice_coef: 0.9598\n",
      "\n",
      "Epoch 00071: val_loss did not improve from 0.03082\n",
      "Epoch 72/100\n",
      "15890/15890 [==============================] - 26s 2ms/step - loss: 0.0310 - acc: 0.9881 - dice_coef: 0.9680 - val_loss: 0.0308 - val_acc: 0.9910 - val_dice_coef: 0.9602\n",
      "\n",
      "Epoch 00072: val_loss improved from 0.03082 to 0.03076, saving model to ../res/plaq-u-net_aug.h5\n",
      "Epoch 73/100\n",
      "15890/15890 [==============================] - 25s 2ms/step - loss: 0.0309 - acc: 0.9881 - dice_coef: 0.9681 - val_loss: 0.0310 - val_acc: 0.9910 - val_dice_coef: 0.9598\n",
      "\n",
      "Epoch 00073: val_loss did not improve from 0.03076\n",
      "Epoch 74/100\n",
      "15890/15890 [==============================] - 24s 2ms/step - loss: 0.0308 - acc: 0.9881 - dice_coef: 0.9681 - val_loss: 0.0309 - val_acc: 0.9911 - val_dice_coef: 0.9599\n",
      "\n",
      "Epoch 00074: val_loss did not improve from 0.03076\n",
      "Epoch 75/100\n",
      "15890/15890 [==============================] - 24s 2ms/step - loss: 0.0308 - acc: 0.9881 - dice_coef: 0.9682 - val_loss: 0.0309 - val_acc: 0.9911 - val_dice_coef: 0.9598\n",
      "\n",
      "Epoch 00075: val_loss did not improve from 0.03076\n",
      "Epoch 76/100\n",
      "15890/15890 [==============================] - 25s 2ms/step - loss: 0.0309 - acc: 0.9881 - dice_coef: 0.9681 - val_loss: 0.0310 - val_acc: 0.9911 - val_dice_coef: 0.9596\n",
      "\n",
      "Epoch 00076: val_loss did not improve from 0.03076\n",
      "Epoch 77/100\n",
      "15890/15890 [==============================] - 25s 2ms/step - loss: 0.0307 - acc: 0.9882 - dice_coef: 0.9683 - val_loss: 0.0309 - val_acc: 0.9911 - val_dice_coef: 0.9597\n",
      "\n",
      "Epoch 00077: val_loss did not improve from 0.03076\n",
      "Epoch 78/100\n",
      "15890/15890 [==============================] - 24s 2ms/step - loss: 0.0307 - acc: 0.9882 - dice_coef: 0.9683 - val_loss: 0.0308 - val_acc: 0.9911 - val_dice_coef: 0.9600\n",
      "\n",
      "Epoch 00078: val_loss did not improve from 0.03076\n",
      "Epoch 79/100\n",
      "15890/15890 [==============================] - 26s 2ms/step - loss: 0.0306 - acc: 0.9882 - dice_coef: 0.9683 - val_loss: 0.0306 - val_acc: 0.9911 - val_dice_coef: 0.9603\n",
      "\n",
      "Epoch 00079: val_loss improved from 0.03076 to 0.03058, saving model to ../res/plaq-u-net_aug.h5\n",
      "Epoch 80/100\n",
      "15890/15890 [==============================] - 25s 2ms/step - loss: 0.0307 - acc: 0.9882 - dice_coef: 0.9683 - val_loss: 0.0307 - val_acc: 0.9911 - val_dice_coef: 0.9601\n",
      "\n",
      "Epoch 00080: val_loss did not improve from 0.03058\n",
      "Epoch 81/100\n",
      "15890/15890 [==============================] - 26s 2ms/step - loss: 0.0307 - acc: 0.9882 - dice_coef: 0.9683 - val_loss: 0.0304 - val_acc: 0.9911 - val_dice_coef: 0.9605\n",
      "\n",
      "Epoch 00081: val_loss improved from 0.03058 to 0.03045, saving model to ../res/plaq-u-net_aug.h5\n",
      "Epoch 82/100\n",
      "15890/15890 [==============================] - 26s 2ms/step - loss: 0.0306 - acc: 0.9882 - dice_coef: 0.9684 - val_loss: 0.0307 - val_acc: 0.9912 - val_dice_coef: 0.9599\n",
      "\n",
      "Epoch 00082: val_loss did not improve from 0.03045\n",
      "Epoch 83/100\n",
      "15890/15890 [==============================] - 25s 2ms/step - loss: 0.0307 - acc: 0.9882 - dice_coef: 0.9683 - val_loss: 0.0305 - val_acc: 0.9912 - val_dice_coef: 0.9603\n",
      "\n",
      "Epoch 00083: val_loss did not improve from 0.03045\n",
      "Epoch 84/100\n",
      "15890/15890 [==============================] - 23s 1ms/step - loss: 0.0307 - acc: 0.9882 - dice_coef: 0.9683 - val_loss: 0.0305 - val_acc: 0.9912 - val_dice_coef: 0.9603oef: - ETA: 1s - loss: 0.0306 - acc:\n",
      "\n",
      "Epoch 00084: val_loss did not improve from 0.03045\n",
      "Epoch 85/100\n",
      "15890/15890 [==============================] - 23s 1ms/step - loss: 0.0306 - acc: 0.9882 - dice_coef: 0.9684 - val_loss: 0.0307 - val_acc: 0.9912 - val_dice_coef: 0.9599\n",
      "\n",
      "Epoch 00085: val_loss did not improve from 0.03045\n",
      "Epoch 86/100\n",
      "15890/15890 [==============================] - 23s 1ms/step - loss: 0.0305 - acc: 0.9883 - dice_coef: 0.9684 - val_loss: 0.0308 - val_acc: 0.9912 - val_dice_coef: 0.9597\n",
      "\n",
      "Epoch 00086: val_loss did not improve from 0.03045\n",
      "Epoch 87/100\n",
      "15890/15890 [==============================] - 24s 2ms/step - loss: 0.0304 - acc: 0.9883 - dice_coef: 0.9686 - val_loss: 0.0306 - val_acc: 0.9912 - val_dice_coef: 0.9602\n",
      "\n",
      "Epoch 00087: val_loss did not improve from 0.03045\n",
      "Epoch 88/100\n",
      "15890/15890 [==============================] - 25s 2ms/step - loss: 0.0305 - acc: 0.9883 - dice_coef: 0.9685 - val_loss: 0.0303 - val_acc: 0.9912 - val_dice_coef: 0.9606\n",
      "\n",
      "Epoch 00088: val_loss improved from 0.03045 to 0.03032, saving model to ../res/plaq-u-net_aug.h5\n",
      "Epoch 89/100\n",
      "15890/15890 [==============================] - 24s 2ms/step - loss: 0.0304 - acc: 0.9883 - dice_coef: 0.9686 - val_loss: 0.0303 - val_acc: 0.9912 - val_dice_coef: 0.9606\n",
      "\n",
      "Epoch 00089: val_loss improved from 0.03032 to 0.03028, saving model to ../res/plaq-u-net_aug.h5\n",
      "Epoch 90/100\n",
      "15890/15890 [==============================] - 26s 2ms/step - loss: 0.0305 - acc: 0.9883 - dice_coef: 0.9685 - val_loss: 0.0304 - val_acc: 0.9913 - val_dice_coef: 0.9603\n",
      "\n",
      "Epoch 00090: val_loss did not improve from 0.03028\n",
      "Epoch 91/100\n",
      "15890/15890 [==============================] - 25s 2ms/step - loss: 0.0304 - acc: 0.9883 - dice_coef: 0.9686 - val_loss: 0.0301 - val_acc: 0.9913 - val_dice_coef: 0.9609\n",
      "\n",
      "Epoch 00091: val_loss improved from 0.03028 to 0.03013, saving model to ../res/plaq-u-net_aug.h5\n",
      "Epoch 92/100\n",
      "15890/15890 [==============================] - 26s 2ms/step - loss: 0.0304 - acc: 0.9883 - dice_coef: 0.9686 - val_loss: 0.0302 - val_acc: 0.9913 - val_dice_coef: 0.9607\n",
      "\n",
      "Epoch 00092: val_loss did not improve from 0.03013\n",
      "Epoch 93/100\n",
      "15890/15890 [==============================] - 25s 2ms/step - loss: 0.0304 - acc: 0.9883 - dice_coef: 0.9686 - val_loss: 0.0301 - val_acc: 0.9913 - val_dice_coef: 0.9609\n",
      "\n",
      "Epoch 00093: val_loss did not improve from 0.03013\n",
      "Epoch 94/100\n",
      "15890/15890 [==============================] - 25s 2ms/step - loss: 0.0303 - acc: 0.9883 - dice_coef: 0.9686 - val_loss: 0.0301 - val_acc: 0.9913 - val_dice_coef: 0.9608\n",
      "\n",
      "Epoch 00094: val_loss did not improve from 0.03013\n",
      "Epoch 95/100\n"
     ]
    },
    {
     "name": "stdout",
     "output_type": "stream",
     "text": [
      "15890/15890 [==============================] - 26s 2ms/step - loss: 0.0303 - acc: 0.9883 - dice_coef: 0.9687 - val_loss: 0.0300 - val_acc: 0.9913 - val_dice_coef: 0.9609\n",
      "\n",
      "Epoch 00095: val_loss improved from 0.03013 to 0.03005, saving model to ../res/plaq-u-net_aug.h5\n",
      "Epoch 96/100\n",
      "15890/15890 [==============================] - 26s 2ms/step - loss: 0.0304 - acc: 0.9883 - dice_coef: 0.9686 - val_loss: 0.0301 - val_acc: 0.9913 - val_dice_coef: 0.9608\n",
      "\n",
      "Epoch 00096: val_loss did not improve from 0.03005\n",
      "Epoch 97/100\n",
      "15890/15890 [==============================] - 25s 2ms/step - loss: 0.0302 - acc: 0.9884 - dice_coef: 0.9688 - val_loss: 0.0302 - val_acc: 0.9913 - val_dice_coef: 0.9606\n",
      "\n",
      "Epoch 00097: val_loss did not improve from 0.03005\n",
      "Epoch 98/100\n",
      "15890/15890 [==============================] - 25s 2ms/step - loss: 0.0302 - acc: 0.9884 - dice_coef: 0.9688 - val_loss: 0.0299 - val_acc: 0.9914 - val_dice_coef: 0.9612\n",
      "\n",
      "Epoch 00098: val_loss improved from 0.03005 to 0.02986, saving model to ../res/plaq-u-net_aug.h5\n",
      "Epoch 99/100\n",
      "15890/15890 [==============================] - 26s 2ms/step - loss: 0.0302 - acc: 0.9884 - dice_coef: 0.9688 - val_loss: 0.0301 - val_acc: 0.9914 - val_dice_coef: 0.9607\n",
      "\n",
      "Epoch 00099: val_loss did not improve from 0.02986\n",
      "Epoch 100/100\n",
      "15890/15890 [==============================] - 26s 2ms/step - loss: 0.0301 - acc: 0.9884 - dice_coef: 0.9689 - val_loss: 0.0299 - val_acc: 0.9914 - val_dice_coef: 0.9611\n",
      "\n",
      "Epoch 00100: val_loss did not improve from 0.02986\n"
     ]
    }
   ],
   "source": [
    "# data augmentation\n",
    "\n",
    "results_aug = model_aug.fit(X_train_aug, y_train_aug,\n",
    "                            batch_size=32, epochs=100, \n",
    "                            callbacks=callbacks_aug, \n",
    "                            validation_data=(X_valid_aug, y_valid_aug))"
   ]
  },
  {
   "cell_type": "markdown",
   "metadata": {},
   "source": [
    "Learning curves visualization:"
   ]
  },
  {
   "cell_type": "code",
   "execution_count": 27,
   "metadata": {},
   "outputs": [
    {
     "data": {
      "image/png": "[encoded data removed]",
      "text/plain": [
       "<Figure size 576x576 with 1 Axes>"
      ]
     },
     "metadata": {
      "needs_background": "light"
     },
     "output_type": "display_data"
    }
   ],
   "source": [
    "# simple model\n",
    "\n",
    "plt.figure(figsize=(8, 8))\n",
    "plt.title(\"Learning curve (simple model)\")\n",
    "plt.plot(results_simple.history[\"loss\"], label=\"loss\")\n",
    "plt.plot(results_simple.history[\"val_loss\"], label=\"val_loss\")\n",
    "plt.plot( np.argmin(results_simple.history[\"val_loss\"]), np.min(results_simple.history[\"val_loss\"]), \n",
    "         marker=\"x\", color=\"r\", label=\"best model\")\n",
    "plt.xlabel(\"Epochs\")\n",
    "plt.ylabel(\"loss\")\n",
    "plt.legend();"
   ]
  },
  {
   "cell_type": "code",
   "execution_count": 28,
   "metadata": {},
   "outputs": [
    {
     "data": {
      "image/png": "[encoded data removed]",
      "text/plain": [
       "<Figure size 576x576 with 1 Axes>"
      ]
     },
     "metadata": {
      "needs_background": "light"
     },
     "output_type": "display_data"
    }
   ],
   "source": [
    "# augmented model\n",
    "\n",
    "plt.figure(figsize=(8, 8))\n",
    "plt.title(\"Learning curve (augmented model)\")\n",
    "plt.plot(results_aug.history[\"loss\"], label=\"loss\")\n",
    "plt.plot(results_aug.history[\"val_loss\"], label=\"val_loss\")\n",
    "plt.plot( np.argmin(results_aug.history[\"val_loss\"]), np.min(results_aug.history[\"val_loss\"]), \n",
    "         marker=\"x\", color=\"r\", label=\"best model\")\n",
    "plt.xlabel(\"Epochs\")\n",
    "plt.ylabel(\"loss\")\n",
    "plt.legend();"
   ]
  },
  {
   "cell_type": "markdown",
   "metadata": {},
   "source": [
    "## 5. Models performance on patches"
   ]
  },
  {
   "cell_type": "markdown",
   "metadata": {},
   "source": [
    "Loading weights:"
   ]
  },
  {
   "cell_type": "code",
   "execution_count": 29,
   "metadata": {},
   "outputs": [],
   "source": [
    "model_simple.load_weights('../res/plaq-u-net_simple.h5')\n",
    "model_aug.load_weights('../res/plaq-u-net_aug.h5')"
   ]
  },
  {
   "cell_type": "markdown",
   "metadata": {},
   "source": [
    "Evaluating on the PATCHES of the validation set:"
   ]
  },
  {
   "cell_type": "code",
   "execution_count": 30,
   "metadata": {},
   "outputs": [
    {
     "name": "stdout",
     "output_type": "stream",
     "text": [
      "345/345 [==============================] - 0s 389us/step\n"
     ]
    },
    {
     "data": {
      "text/plain": [
       "[0.1549399169890777, 0.9473554965378581, 0.8519256545149761]"
      ]
     },
     "execution_count": 30,
     "metadata": {},
     "output_type": "execute_result"
    }
   ],
   "source": [
    "# simple model\n",
    "\n",
    "model_simple.evaluate(X_valid, y_valid, verbose=1)"
   ]
  },
  {
   "cell_type": "code",
   "execution_count": 31,
   "metadata": {},
   "outputs": [
    {
     "name": "stdout",
     "output_type": "stream",
     "text": [
      "345/345 [==============================] - 0s 344us/step\n"
     ]
    },
    {
     "data": {
      "text/plain": [
       "[0.20700611333916152, 0.9471566461134648, 0.874064456552699]"
      ]
     },
     "execution_count": 31,
     "metadata": {},
     "output_type": "execute_result"
    }
   ],
   "source": [
    "# augmented model:\n",
    "\n",
    "model_aug.evaluate(X_valid, y_valid, verbose=1)"
   ]
  },
  {
   "cell_type": "markdown",
   "metadata": {},
   "source": [
    "Evaluation on the PATCHES of the test set:"
   ]
  },
  {
   "cell_type": "code",
   "execution_count": 32,
   "metadata": {},
   "outputs": [
    {
     "name": "stdout",
     "output_type": "stream",
     "text": [
      "360/360 [==============================] - 1s 2ms/step\n"
     ]
    },
    {
     "data": {
      "text/plain": [
       "[0.1456764154964023, 0.95582275390625, 0.8441155986239512]"
      ]
     },
     "execution_count": 32,
     "metadata": {},
     "output_type": "execute_result"
    }
   ],
   "source": [
    "# simple model\n",
    "\n",
    "model_simple.evaluate(X_test, y_test, verbose=1)"
   ]
  },
  {
   "cell_type": "code",
   "execution_count": 33,
   "metadata": {},
   "outputs": [
    {
     "name": "stdout",
     "output_type": "stream",
     "text": [
      "360/360 [==============================] - 0s 400us/step\n"
     ]
    },
    {
     "data": {
      "text/plain": [
       "[0.18678540885448455, 0.9543599446614583, 0.8773502283626132]"
      ]
     },
     "execution_count": 33,
     "metadata": {},
     "output_type": "execute_result"
    }
   ],
   "source": [
    "# augmented model\n",
    "\n",
    "model_aug.evaluate(X_test, y_test, verbose=1)"
   ]
  },
  {
   "cell_type": "markdown",
   "metadata": {},
   "source": [
    "Predictions for the test set (+ thresholding):"
   ]
  },
  {
   "cell_type": "code",
   "execution_count": 34,
   "metadata": {},
   "outputs": [
    {
     "name": "stdout",
     "output_type": "stream",
     "text": [
      "360/360 [==============================] - 1s 2ms/step\n",
      "360/360 [==============================] - 1s 2ms/step\n"
     ]
    }
   ],
   "source": [
    "preds_test_simple = model_simple.predict(X_test, verbose=1)\n",
    "preds_test_simple_t = (preds_test_simple > 0.5).astype(np.uint8)\n",
    "\n",
    "preds_test_aug = model_aug.predict(X_test, verbose=1)\n",
    "preds_test_aug_t = (preds_test_aug > 0.5).astype(np.uint8)"
   ]
  },
  {
   "cell_type": "markdown",
   "metadata": {},
   "source": [
    "Visualization of the prediction:"
   ]
  },
  {
   "cell_type": "code",
   "execution_count": 35,
   "metadata": {},
   "outputs": [
    {
     "ename": "AttributeError",
     "evalue": "'numpy.ndarray' object has no attribute 'imshow'",
     "output_type": "error",
     "traceback": [
      "\u001b[1;31m---------------------------------------------------------------------------\u001b[0m",
      "\u001b[1;31mAttributeError\u001b[0m                            Traceback (most recent call last)",
      "\u001b[1;32m<ipython-input-35-15b62ad1a2b4>\u001b[0m in \u001b[0;36m<module>\u001b[1;34m\u001b[0m\n\u001b[0;32m      3\u001b[0m \u001b[0mfig\u001b[0m\u001b[1;33m,\u001b[0m \u001b[0max\u001b[0m \u001b[1;33m=\u001b[0m \u001b[0mplt\u001b[0m\u001b[1;33m.\u001b[0m\u001b[0msubplots\u001b[0m\u001b[1;33m(\u001b[0m\u001b[1;36m2\u001b[0m\u001b[1;33m,\u001b[0m \u001b[1;36m2\u001b[0m\u001b[1;33m,\u001b[0m \u001b[0mfigsize\u001b[0m\u001b[1;33m=\u001b[0m\u001b[1;33m(\u001b[0m\u001b[1;36m20\u001b[0m\u001b[1;33m,\u001b[0m \u001b[1;36m10\u001b[0m\u001b[1;33m)\u001b[0m\u001b[1;33m)\u001b[0m\u001b[1;33m\u001b[0m\u001b[1;33m\u001b[0m\u001b[0m\n\u001b[0;32m      4\u001b[0m \u001b[1;33m\u001b[0m\u001b[0m\n\u001b[1;32m----> 5\u001b[1;33m \u001b[0max\u001b[0m\u001b[1;33m[\u001b[0m\u001b[1;36m0\u001b[0m\u001b[1;33m]\u001b[0m\u001b[1;33m.\u001b[0m\u001b[0mimshow\u001b[0m\u001b[1;33m(\u001b[0m\u001b[0mX_test\u001b[0m\u001b[1;33m[\u001b[0m\u001b[0mix\u001b[0m\u001b[1;33m,\u001b[0m \u001b[1;33m...\u001b[0m\u001b[1;33m,\u001b[0m \u001b[1;36m0\u001b[0m\u001b[1;33m]\u001b[0m\u001b[1;33m,\u001b[0m \u001b[0mcmap\u001b[0m\u001b[1;33m=\u001b[0m\u001b[1;34m'viridis'\u001b[0m\u001b[1;33m)\u001b[0m\u001b[1;33m\u001b[0m\u001b[1;33m\u001b[0m\u001b[0m\n\u001b[0m\u001b[0;32m      6\u001b[0m \u001b[0max\u001b[0m\u001b[1;33m[\u001b[0m\u001b[1;36m0\u001b[0m\u001b[1;33m]\u001b[0m\u001b[1;33m.\u001b[0m\u001b[0mcontour\u001b[0m\u001b[1;33m(\u001b[0m\u001b[0my_test\u001b[0m\u001b[1;33m[\u001b[0m\u001b[0mix\u001b[0m\u001b[1;33m]\u001b[0m\u001b[1;33m.\u001b[0m\u001b[0msqueeze\u001b[0m\u001b[1;33m(\u001b[0m\u001b[1;33m)\u001b[0m\u001b[1;33m,\u001b[0m \u001b[0mcolors\u001b[0m\u001b[1;33m=\u001b[0m\u001b[1;34m'r'\u001b[0m\u001b[1;33m,\u001b[0m \u001b[0mlevels\u001b[0m\u001b[1;33m=\u001b[0m\u001b[1;33m[\u001b[0m\u001b[1;36m0.5\u001b[0m\u001b[1;33m]\u001b[0m\u001b[1;33m,\u001b[0m \u001b[0mlinewidths\u001b[0m\u001b[1;33m=\u001b[0m\u001b[1;36m5\u001b[0m\u001b[1;33m)\u001b[0m\u001b[1;33m\u001b[0m\u001b[1;33m\u001b[0m\u001b[0m\n\u001b[0;32m      7\u001b[0m \u001b[0max\u001b[0m\u001b[1;33m[\u001b[0m\u001b[1;36m0\u001b[0m\u001b[1;33m]\u001b[0m\u001b[1;33m.\u001b[0m\u001b[0mset_title\u001b[0m\u001b[1;33m(\u001b[0m\u001b[1;34m'True'\u001b[0m\u001b[1;33m)\u001b[0m\u001b[1;33m\u001b[0m\u001b[1;33m\u001b[0m\u001b[0m\n",
      "\u001b[1;31mAttributeError\u001b[0m: 'numpy.ndarray' object has no attribute 'imshow'"
     ]
    },
    {
     "data": {
      "image/png": "[encoded data removed]",
      "text/plain": [
       "<Figure size 1440x720 with 4 Axes>"
      ]
     },
     "metadata": {
      "needs_background": "light"
     },
     "output_type": "display_data"
    }
   ],
   "source": [
    "ix = 90\n",
    "\n",
    "fig, ax = plt.subplots(2, 2, figsize=(20, 10))\n",
    "\n",
    "ax[0].imshow(X_test[ix, ..., 0], cmap='viridis')\n",
    "ax[0].contour(y_test[ix].squeeze(), colors='r', levels=[0.5], linewidths=5)\n",
    "ax[0].set_title('True')\n",
    "ax[0].grid(False)\n",
    "\n",
    "ax[1].imshow(X_test[ix, ..., 0], cmap='viridis')\n",
    "ax[1].contour(preds_test_simple[ix].squeeze(), colors='r', levels=[0.5], linewidths=5)\n",
    "ax[1].set_title('Predicted (simple model)')\n",
    "ax[1].grid(False)\n",
    "\n",
    "ax[2].imshow(X_test[ix, ..., 0], cmap='viridis')\n",
    "ax[2].contour(preds_test_aug[ix].squeeze(), colors='r', levels=[0.5], linewidths=5)\n",
    "ax[2].set_title('Predicted (augmented model)')\n",
    "ax[2].grid(False)\n",
    "\n",
    "ax[3].imshow(y_test[ix].squeeze(), vmin=0, vmax=2)\n",
    "ax[3].contour(preds_test_simple[ix].squeeze(), colors='r', levels=[0.5], linewidths=5)\n",
    "ax[3].contour(preds_test_aug[ix].squeeze(), colors='orange', levels=[0.5], linewidths=5)\n",
    "ax[3].set_title('Predicted segmentation')\n",
    "ax[3].grid(False)"
   ]
  },
  {
   "cell_type": "code",
   "execution_count": null,
   "metadata": {},
   "outputs": [],
   "source": []
  }
 ],
 "metadata": {
  "kernelspec": {
   "display_name": "Python 3",
   "language": "python",
   "name": "python3"
  },
  "language_info": {
   "codemirror_mode": {
    "name": "ipython",
    "version": 3
   },
   "file_extension": ".py",
   "mimetype": "text/x-python",
   "name": "python",
   "nbconvert_exporter": "python",
   "pygments_lexer": "ipython3",
   "version": "3.7.3"
  }
 },
 "nbformat": 4,
 "nbformat_minor": 2
}
