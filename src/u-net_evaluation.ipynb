{
 "cells": [
  {
   "cell_type": "markdown",
   "metadata": {},
   "source": [
    "# plaq-u-net: multi-patch consensus U-Net for automated detection and segmentation of the carotid arteries on black blood MRI sequences"
   ]
  },
  {
   "cell_type": "markdown",
   "metadata": {},
   "source": [
    "E. Lavrova, 2022\n",
    "\n",
    "This is a code supporting the corresponding paper."
   ]
  },
  {
   "cell_type": "markdown",
   "metadata": {},
   "source": [
    "Packages import:"
   ]
  },
  {
   "cell_type": "code",
   "execution_count": 1,
   "metadata": {},
   "outputs": [
    {
     "name": "stderr",
     "output_type": "stream",
     "text": [
      "C:\\Users\\E.Lavrova\\AppData\\Roaming\\Python\\Python37\\site-packages\\pandas\\compat\\_optional.py:138: UserWarning: Pandas requires version '2.7.0' or newer of 'numexpr' (version '2.6.9' currently installed).\n",
      "  warnings.warn(msg, UserWarning)\n"
     ]
    }
   ],
   "source": [
    "import numpy as np\n",
    "import os\n",
    "import glob\n",
    "from skimage.measure import label\n",
    "import pydicom\n",
    "import matplotlib.pyplot as plt\n",
    "import pandas as pd\n",
    "from skimage import morphology\n",
    "from scipy.stats import iqr\n",
    "from scipy.stats import binom_test"
   ]
  },
  {
   "cell_type": "code",
   "execution_count": 86,
   "metadata": {},
   "outputs": [],
   "source": [
    "def calculate_dice(mask_1, mask_2):\n",
    "    intersection = np.sum(mask_1*mask_2)\n",
    "    sum_area = np.sum(mask_1) + np.sum(mask_2)\n",
    "    return 2*intersection/sum_area\n",
    "\n",
    "def calculate_overlap(mask_1, mask_2):\n",
    "    o = 0\n",
    "    if (np.sum(mask_1)>0)&(np.sum(mask_2)>0):\n",
    "        intersection = np.sum(mask_1*mask_2)\n",
    "        min_area = min(np.sum(mask_1), np.sum(mask_2))\n",
    "        o =intersection/min_area\n",
    "    if (np.sum(mask_1)==0)&(np.sum(mask_2)==0):\n",
    "        o = 1\n",
    "    return o"
   ]
  },
  {
   "cell_type": "code",
   "execution_count": 3,
   "metadata": {},
   "outputs": [],
   "source": [
    "def path2array(dcm_path, cut=True):\n",
    "    arr_dcm = pydicom.read_file(dcm_path, force = True)\n",
    "    arr_dcm.file_meta.TransferSyntaxUID = pydicom.uid.ImplicitVRLittleEndian\n",
    "    arr = arr_dcm.pixel_array\n",
    "    if cut:\n",
    "        arr = arr[8:-8,8:-8]\n",
    "    return arr"
   ]
  },
  {
   "cell_type": "code",
   "execution_count": 4,
   "metadata": {},
   "outputs": [],
   "source": [
    "def detect_label(label_mask, gt_mask):\n",
    "    \n",
    "    max_overlap = 0\n",
    "    max_label = 100\n",
    "    max_dice = 0\n",
    "    \n",
    "    for l in range(1, np.max(label_mask)+1):\n",
    "        \n",
    "        label_mask_l = label_mask==l\n",
    "        d = calculate_dice(label_mask_l, gt_mask)\n",
    "        o = calculate_overlap(label_mask_l, gt_mask)\n",
    "        \n",
    "        if o>max_overlap:\n",
    "            \n",
    "            max_overlap = o\n",
    "            max_label = l\n",
    "            max_dice = d        \n",
    "            \n",
    "    return max_label, max_overlap, max_dice"
   ]
  },
  {
   "cell_type": "code",
   "execution_count": 5,
   "metadata": {},
   "outputs": [],
   "source": [
    "import scipy.stats\n",
    "import math\n",
    "import random\n",
    "\n",
    "\n",
    "def clopper_pearson(x, n, alpha=0.05):\n",
    "    \"\"\"Estimate the confidence interval for a sampled Bernoulli random\n",
    "    variable.\n",
    "    `x` is the number of successes and `n` is the number trials (x <=\n",
    "    n). `alpha` is the confidence level (i.e., the true probability is\n",
    "    inside the confidence interval with probability 1-alpha). The\n",
    "    function returns a `(low, high)` pair of numbers indicating the\n",
    "    interval on the probability.\n",
    "    \"\"\"\n",
    "    b = scipy.stats.beta.ppf\n",
    "    lo = b(alpha / 2, x, n - x + 1)\n",
    "    hi = b(1 - alpha / 2, x + 1, n - x)\n",
    "    return 0.0 if math.isnan(lo) else lo, 1.0 if math.isnan(hi) else hi"
   ]
  },
  {
   "cell_type": "code",
   "execution_count": 140,
   "metadata": {},
   "outputs": [],
   "source": [
    "def get_outcomes_mapstrategy(sub_names, ds_dir, results_dir, cut=True):\n",
    "    \n",
    "    df_outcomes = []\n",
    "    \n",
    "    detect_slice = []\n",
    "    dice_slice = []\n",
    "    overlap_slice = []\n",
    "    \n",
    "    for sub_name in sub_names:\n",
    "        \n",
    "    \n",
    "        rec = {'sub': sub_name}\n",
    "\n",
    "        gt_sub_dir = ds_dir + sub_name + '/MASSExport/'\n",
    "\n",
    "        filenames = os.listdir(gt_sub_dir)\n",
    "        filenames.sort()\n",
    "\n",
    "        mask2d_gt_0 = path2array(gt_sub_dir + '/' + filenames[0], cut=cut)\n",
    "        dim = mask2d_gt_0.shape\n",
    "\n",
    "        mask3d_pred = np.zeros([dim[0], dim[1], len(filenames)], dtype=np.float)\n",
    "        mask3d_gt = np.zeros([dim[0], dim[1], len(filenames)], dtype=np.uint8)\n",
    "\n",
    "        counter = 0\n",
    "\n",
    "        detect_slice_sub = []\n",
    "        dice_slice_sub = []\n",
    "        overlap_slice_sub = []\n",
    "\n",
    "        detected=0\n",
    "\n",
    "        for filename in filenames:\n",
    "\n",
    "            sl = filename[-17:-11]\n",
    "            \n",
    "            gt_path = gt_sub_dir + '/' + filename\n",
    "            pred_path = glob.glob(results_dir + '/' + sub_name + '*/*' + sl + '*.npy')[0]\n",
    "\n",
    "            mask2d_gt = (path2array(gt_path, cut=cut)>0)&(path2array(gt_path, cut=cut)<7)\n",
    "            mask2d_pred = np.load(pred_path)\n",
    "            \n",
    "            mask2d_pred_processed = morphology.remove_small_objects(mask2d_pred>0.5, 50, connectivity=3)\n",
    "            mask2d_pred_labeled = label(mask2d_pred_processed)\n",
    "\n",
    "            label_weights = []\n",
    "\n",
    "            for l in range(1, np.max(mask2d_pred_labeled)+1):\n",
    "\n",
    "                mask2d_pred_label = (mask2d_pred_labeled==l).astype(np.uint8)\n",
    "                weight_label = np.sum(mask2d_pred_label*mask2d_pred)\n",
    "                rec_lw = {'label': l, 'weight': weight_label}\n",
    "                label_weights.append(rec_lw)\n",
    "\n",
    "            label_weights = pd.DataFrame(label_weights)\n",
    "            n_labels = min(len(label_weights), 6)\n",
    "            labels = []\n",
    "            \n",
    "            if len(label_weights)>0:\n",
    "                label_weights.sort_values(by='weight', inplace=True, ascending = False)\n",
    "                labels = np.array(label_weights['label'])[:n_labels]\n",
    "\n",
    "            detected = 0\n",
    "            max_overlap = 0\n",
    "            max_label = 100\n",
    "            max_dice = 0            \n",
    "        \n",
    "            for l in labels:\n",
    "\n",
    "                mask2d_pred_label = (mask2d_pred_labeled==l).astype(np.uint8)\n",
    "                d = calculate_dice(mask2d_pred_label, mask2d_gt)\n",
    "                o = calculate_overlap(mask2d_pred_label, mask2d_gt)\n",
    "\n",
    "                if o>max_overlap:\n",
    "\n",
    "                    max_overlap = o\n",
    "                    max_label = l\n",
    "                    max_dice = d\n",
    "\n",
    "            if (max_overlap>0.5):\n",
    "                detected = 1\n",
    "                \n",
    "            mask3d_gt[:, :, counter] = mask2d_gt\n",
    "            mask3d_pred[:, :, counter] = (mask2d_pred_labeled==max_label).astype(np.uint8)\n",
    "            \n",
    "            detect_slice_sub.append(detected)\n",
    "            dice_slice_sub.append(max_dice)\n",
    "            overlap_slice_sub.append(max_overlap)\n",
    "            \n",
    "            detect_slice.append(detected)\n",
    "            dice_slice.append(max_dice)\n",
    "            overlap_slice.append(max_overlap)\n",
    "            \n",
    "            counter+=1\n",
    "            \n",
    "        rec['detect_slice'] = detect_slice_sub\n",
    "        rec['overlap_slice'] = overlap_slice_sub\n",
    "        rec['dice_slice'] = dice_slice_sub\n",
    "        \n",
    "        rec['detect_patient'] = int(calculate_overlap(mask3d_pred, mask3d_gt)>0.5)\n",
    "        rec['overlap_patient'] = calculate_overlap(mask3d_pred, mask3d_gt)\n",
    "        rec['dice_patient'] = calculate_dice(mask3d_pred, mask3d_gt)\n",
    "\n",
    "        df_outcomes.append(rec)\n",
    "\n",
    "    df_outcomes = pd.DataFrame(df_outcomes)\n",
    "        \n",
    "    print ('Slice\\n')\n",
    "\n",
    "    print ('Mean TPR, OC, DSC: ', np.mean(detect_slice), np.mean(overlap_slice), np.mean(dice_slice))\n",
    "    print ('Median TPR, OC, DSC: ', np.median(detect_slice), np.median(overlap_slice), np.median(dice_slice))\n",
    "    print ('IQR TPR, OC, DSC: ', iqr(detect_slice), iqr(overlap_slice), iqr(dice_slice))\n",
    "    print ('CP 90% CI TPR: ', clopper_pearson(x=np.sum(detect_slice), n=len(detect_slice), alpha=0.1))\n",
    "\n",
    "    plt.figure(figsize=(15, 3))\n",
    "\n",
    "    plt.subplot(1, 3, 1)\n",
    "    plt.hist(detect_slice)\n",
    "    plt.title('TPR')\n",
    "\n",
    "    plt.subplot(1, 3, 2)\n",
    "    plt.hist(overlap_slice)\n",
    "    plt.title('OC')\n",
    "\n",
    "    plt.subplot(1, 3, 3)\n",
    "    plt.hist(dice_slice)\n",
    "    plt.title('DSC')\n",
    "\n",
    "    plt.show()\n",
    "\n",
    "    print ('Patient\\n')\n",
    "\n",
    "    print ('Mean TPR, OC, DSC: ', \n",
    "           np.mean(df_outcomes['detect_patient']), \n",
    "           np.mean(df_outcomes['overlap_patient']), \n",
    "           np.mean(df_outcomes['dice_patient']))\n",
    "\n",
    "    print ('Median TPR, OC, DSC: ',\n",
    "           np.median(df_outcomes['detect_patient']), \n",
    "           np.median(df_outcomes['overlap_patient']), \n",
    "           np.median(df_outcomes['dice_patient']))\n",
    "\n",
    "    print ('IQR TPR, OC, DSC: ',\n",
    "           iqr(df_outcomes['detect_patient']), \n",
    "           iqr(df_outcomes['overlap_patient']), \n",
    "           iqr(df_outcomes['dice_patient']))\n",
    "\n",
    "    print ('CP 90% CI TPR: ',\n",
    "           clopper_pearson(x=np.sum(np.array(df_outcomes['detect_patient'])), \n",
    "                           n=len(np.array(df_outcomes['detect_patient'])), alpha=0.1))\n",
    "    \n",
    "    return df_outcomes"
   ]
  },
  {
   "cell_type": "code",
   "execution_count": 153,
   "metadata": {},
   "outputs": [],
   "source": [
    "def get_outcomes_maskstrategy(sub_names, ds_dir, results_dir, cut=True):\n",
    "    \n",
    "    df_outcomes = []\n",
    "    \n",
    "    detect_slice = []\n",
    "    dice_slice = []\n",
    "    overlap_slice = []\n",
    "    \n",
    "    for sub_name in sub_names:\n",
    "        \n",
    "    \n",
    "        rec = {'sub': sub_name}\n",
    "\n",
    "        gt_sub_dir = ds_dir + sub_name + '/MASSExport/'\n",
    "\n",
    "        filenames = os.listdir(gt_sub_dir)\n",
    "        filenames.sort()\n",
    "\n",
    "        mask2d_gt_0 = path2array(gt_sub_dir + '/' + filenames[0], cut=cut)\n",
    "        dim = mask2d_gt_0.shape\n",
    "\n",
    "        mask3d_pred = np.zeros([dim[0], dim[1], len(filenames)], dtype=np.float)\n",
    "        mask3d_gt = np.zeros([dim[0], dim[1], len(filenames)], dtype=np.uint8)\n",
    "\n",
    "        counter = 0\n",
    "\n",
    "        detect_slice_sub = []\n",
    "        dice_slice_sub = []\n",
    "        overlap_slice_sub = []\n",
    "\n",
    "        detected=0\n",
    "\n",
    "        for filename in filenames:\n",
    "\n",
    "            sl = filename[-17:-11]\n",
    "            \n",
    "            gt_path = gt_sub_dir + '/' + filename\n",
    "            pred_path = glob.glob(results_dir + '/' + sub_name + '*/*' + sl + '*.npy')[0]\n",
    "\n",
    "            mask2d_gt = (path2array(gt_path, cut=cut)>0)&(path2array(gt_path, cut=cut)<7)\n",
    "            mask2d_pred = np.load(pred_path)\n",
    "            \n",
    "            mask2d_pred_labeled = label(mask2d_pred)\n",
    "\n",
    "            labels = list(np.unique(mask2d_pred_labeled))\n",
    "            labels.remove(0)\n",
    "            \n",
    "            detected = 0\n",
    "            max_overlap = 0\n",
    "            max_label = 100\n",
    "            max_dice = 0  \n",
    "            \n",
    "            if len(labels)>0:\n",
    "                \n",
    "                for l in labels:\n",
    "\n",
    "                    mask2d_pred_label = (mask2d_pred_labeled==l).astype(np.uint8)\n",
    "                    d = calculate_dice(mask2d_pred_label, mask2d_gt)\n",
    "                    o = calculate_overlap(mask2d_pred_label, mask2d_gt)\n",
    "\n",
    "                    if o>max_overlap:\n",
    "\n",
    "                        max_overlap = o\n",
    "                        max_label = l\n",
    "                        max_dice = d\n",
    "\n",
    "                if (max_overlap>0.5):\n",
    "                    detected = 1\n",
    "                \n",
    "            mask3d_gt[:, :, counter] = mask2d_gt\n",
    "            mask3d_pred[:, :, counter] = (mask2d_pred_labeled==max_label).astype(np.uint8)\n",
    "            \n",
    "            detect_slice_sub.append(detected)\n",
    "            dice_slice_sub.append(max_dice)\n",
    "            overlap_slice_sub.append(max_overlap)\n",
    "            \n",
    "            detect_slice.append(detected)\n",
    "            dice_slice.append(max_dice)\n",
    "            overlap_slice.append(max_overlap)\n",
    "            \n",
    "            counter+=1\n",
    "            \n",
    "        rec['detect_slice'] = detect_slice_sub\n",
    "        rec['overlap_slice'] = overlap_slice_sub\n",
    "        rec['dice_slice'] = dice_slice_sub\n",
    "        \n",
    "        rec['detect_patient'] = int(calculate_overlap(mask3d_pred, mask3d_gt)>0.5)\n",
    "        rec['overlap_patient'] = calculate_overlap(mask3d_pred, mask3d_gt)\n",
    "        rec['dice_patient'] = calculate_dice(mask3d_pred, mask3d_gt)\n",
    "\n",
    "        df_outcomes.append(rec)\n",
    "\n",
    "    df_outcomes = pd.DataFrame(df_outcomes)\n",
    "        \n",
    "    print ('Slice\\n')\n",
    "\n",
    "    print ('Mean TPR, OC, DSC: ', np.mean(detect_slice), np.mean(overlap_slice), np.mean(dice_slice))\n",
    "    print ('Median TPR, OC, DSC: ', np.median(detect_slice), np.median(overlap_slice), np.median(dice_slice))\n",
    "    print ('IQR TPR, OC, DSC: ', iqr(detect_slice), iqr(overlap_slice), iqr(dice_slice))\n",
    "    print ('CP 90% CI TPR: ', clopper_pearson(x=np.sum(detect_slice), n=len(detect_slice), alpha=0.1))\n",
    "\n",
    "    plt.figure(figsize=(15, 3))\n",
    "\n",
    "    plt.subplot(1, 3, 1)\n",
    "    plt.hist(detect_slice)\n",
    "    plt.title('TPR')\n",
    "\n",
    "    plt.subplot(1, 3, 2)\n",
    "    plt.hist(overlap_slice)\n",
    "    plt.title('OC')\n",
    "\n",
    "    plt.subplot(1, 3, 3)\n",
    "    plt.hist(dice_slice)\n",
    "    plt.title('DSC')\n",
    "\n",
    "    plt.show()\n",
    "\n",
    "    print ('Patient\\n')\n",
    "\n",
    "    print ('Mean TPR, OC, DSC: ', \n",
    "           np.mean(df_outcomes['detect_patient']), \n",
    "           np.mean(df_outcomes['overlap_patient']), \n",
    "           np.mean(df_outcomes['dice_patient']))\n",
    "\n",
    "    print ('Median TPR, OC, DSC: ',\n",
    "           np.median(df_outcomes['detect_patient']), \n",
    "           np.median(df_outcomes['overlap_patient']), \n",
    "           np.median(df_outcomes['dice_patient']))\n",
    "\n",
    "    print ('IQR TPR, OC, DSC: ',\n",
    "           iqr(df_outcomes['detect_patient']), \n",
    "           iqr(df_outcomes['overlap_patient']), \n",
    "           iqr(df_outcomes['dice_patient']))\n",
    "\n",
    "    print ('CP 90% CI TPR: ',\n",
    "           clopper_pearson(x=np.sum(np.array(df_outcomes['detect_patient'])), \n",
    "                           n=len(np.array(df_outcomes['detect_patient'])), alpha=0.1))\n",
    "    \n",
    "    return df_outcomes"
   ]
  },
  {
   "cell_type": "markdown",
   "metadata": {},
   "source": [
    "# Test subset"
   ]
  },
  {
   "cell_type": "code",
   "execution_count": 128,
   "metadata": {},
   "outputs": [],
   "source": [
    "sub_names_test = ['AMC012', 'AMC006', 'MUMC094', 'MUMC027', 'MUMC079', 'MUMC052', 'MUMC127', 'MUMC071', 'MUMC038',\n",
    "                  'MUMC093', 'MUMC107', 'MUMC022', 'MUMC114', 'MUMC115', 'MUMC069', 'MUMC130', 'MUMC036', 'MUMC007', \n",
    "                  'MUMC059', 'MUMC080', 'UMCU036', 'UMCU025', 'UMCU008', 'UMCU034']"
   ]
  },
  {
   "cell_type": "code",
   "execution_count": 130,
   "metadata": {},
   "outputs": [],
   "source": [
    "ds_dir = '../data/'\n",
    "results_dir_simple = '../res/maps/u-net_simple/'\n",
    "results_dir_aug = '../res/maps/u-net_aug/'"
   ]
  },
  {
   "cell_type": "code",
   "execution_count": 141,
   "metadata": {},
   "outputs": [
    {
     "name": "stderr",
     "output_type": "stream",
     "text": [
      "C:\\ProgramData\\Anaconda3\\envs\\segway\\lib\\site-packages\\ipykernel_launcher.py:22: DeprecationWarning: `np.float` is a deprecated alias for the builtin `float`. To silence this warning, use `float` by itself. Doing this will not modify any behavior and is safe. If you specifically wanted the numpy scalar type, use `np.float64` here.\n",
      "Deprecated in NumPy 1.20; for more details and guidance: https://numpy.org/devdocs/release/1.20.0-notes.html#deprecations\n"
     ]
    },
    {
     "name": "stdout",
     "output_type": "stream",
     "text": [
      "Slice\n",
      "\n",
      "Mean TPR, OC, DSC:  0.6940509915014165 0.665551939842086 0.6070540698868833\n",
      "Median TPR, OC, DSC:  1.0 0.9540229885057471 0.8565737051792829\n",
      "IQR TPR, OC, DSC:  1.0 0.9845559845559846 0.9335071707953064\n",
      "CP 90% CI TPR:  (0.6511736142769085, 0.7344834080178415)\n"
     ]
    },
    {
     "data": {
      "image/png": "[encoded data removed]",
      "text/plain": [
       "<Figure size 1080x216 with 3 Axes>"
      ]
     },
     "metadata": {
      "needs_background": "light"
     },
     "output_type": "display_data"
    },
    {
     "name": "stdout",
     "output_type": "stream",
     "text": [
      "Patient\n",
      "\n",
      "Mean TPR, OC, DSC:  1.0 0.8688971204198411 0.7343667996846416\n",
      "Median TPR, OC, DSC:  1.0 0.9008609487185879 0.7772818198333489\n",
      "IQR TPR, OC, DSC:  0.0 0.11954876382845336 0.12958355605916505\n",
      "CP 90% CI TPR:  (0.8826538438450513, 1.0)\n"
     ]
    }
   ],
   "source": [
    "df_outcomes_test_unet_simple = get_outcomes_mapstrategy(sub_names_test, ds_dir, results_dir_simple)"
   ]
  },
  {
   "cell_type": "code",
   "execution_count": 142,
   "metadata": {},
   "outputs": [
    {
     "name": "stderr",
     "output_type": "stream",
     "text": [
      "C:\\ProgramData\\Anaconda3\\envs\\segway\\lib\\site-packages\\ipykernel_launcher.py:22: DeprecationWarning: `np.float` is a deprecated alias for the builtin `float`. To silence this warning, use `float` by itself. Doing this will not modify any behavior and is safe. If you specifically wanted the numpy scalar type, use `np.float64` here.\n",
      "Deprecated in NumPy 1.20; for more details and guidance: https://numpy.org/devdocs/release/1.20.0-notes.html#deprecations\n"
     ]
    },
    {
     "name": "stdout",
     "output_type": "stream",
     "text": [
      "Slice\n",
      "\n",
      "Mean TPR, OC, DSC:  0.7535410764872521 0.7283644552801395 0.6824408124759502\n",
      "Median TPR, OC, DSC:  1.0 0.9593023255813954 0.9046679815910585\n",
      "IQR TPR, OC, DSC:  0.0 0.30954131035634125 0.41517967811332046\n",
      "CP 90% CI TPR:  (0.7128828909526761, 0.7909955565553424)\n"
     ]
    },
    {
     "data": {
      "image/png": "[encoded data removed]",
      "text/plain": [
       "<Figure size 1080x216 with 3 Axes>"
      ]
     },
     "metadata": {
      "needs_background": "light"
     },
     "output_type": "display_data"
    },
    {
     "name": "stdout",
     "output_type": "stream",
     "text": [
      "Patient\n",
      "\n",
      "Mean TPR, OC, DSC:  1.0 0.8870930926135939 0.7970081368229689\n",
      "Median TPR, OC, DSC:  1.0 0.8959162411738915 0.8140435394748755\n",
      "IQR TPR, OC, DSC:  0.0 0.07199857999013948 0.10327614561731557\n",
      "CP 90% CI TPR:  (0.8826538438450513, 1.0)\n"
     ]
    }
   ],
   "source": [
    "df_outcomes_test_unet_aug = get_outcomes_mapstrategy(sub_names_test, ds_dir, results_dir_aug)"
   ]
  },
  {
   "cell_type": "code",
   "execution_count": 143,
   "metadata": {},
   "outputs": [],
   "source": [
    "ds_dir = '../data/'\n",
    "results_dir_simple = '../res/maps/plaq-u-net_simple/'\n",
    "results_dir_aug = '../res/maps/plaq-u-net_aug/'"
   ]
  },
  {
   "cell_type": "code",
   "execution_count": 144,
   "metadata": {},
   "outputs": [
    {
     "name": "stderr",
     "output_type": "stream",
     "text": [
      "C:\\ProgramData\\Anaconda3\\envs\\segway\\lib\\site-packages\\ipykernel_launcher.py:22: DeprecationWarning: `np.float` is a deprecated alias for the builtin `float`. To silence this warning, use `float` by itself. Doing this will not modify any behavior and is safe. If you specifically wanted the numpy scalar type, use `np.float64` here.\n",
      "Deprecated in NumPy 1.20; for more details and guidance: https://numpy.org/devdocs/release/1.20.0-notes.html#deprecations\n"
     ]
    },
    {
     "name": "stdout",
     "output_type": "stream",
     "text": [
      "Slice\n",
      "\n",
      "Mean TPR, OC, DSC:  0.8810198300283286 0.8735649802509556 0.6628093481772142\n",
      "Median TPR, OC, DSC:  1.0 1.0 0.7759131293188549\n",
      "IQR TPR, OC, DSC:  0.0 0.0210280373831776 0.3055199425373033\n",
      "CP 90% CI TPR:  (0.8488417781993098, 0.9083132276976742)\n"
     ]
    },
    {
     "data": {
      "image/png": "[encoded data removed]",
      "text/plain": [
       "<Figure size 1080x216 with 3 Axes>"
      ]
     },
     "metadata": {
      "needs_background": "light"
     },
     "output_type": "display_data"
    },
    {
     "name": "stdout",
     "output_type": "stream",
     "text": [
      "Patient\n",
      "\n",
      "Mean TPR, OC, DSC:  1.0 0.9825125522225692 0.702918965405336\n",
      "Median TPR, OC, DSC:  1.0 0.9927299933252081 0.7156042489432819\n",
      "IQR TPR, OC, DSC:  0.0 0.011740968347268566 0.16757694063608275\n",
      "CP 90% CI TPR:  (0.8826538438450513, 1.0)\n"
     ]
    }
   ],
   "source": [
    "df_outcomes_test_plaqunet_simple = get_outcomes_mapstrategy(sub_names_test, ds_dir, results_dir_simple)"
   ]
  },
  {
   "cell_type": "code",
   "execution_count": 145,
   "metadata": {},
   "outputs": [
    {
     "name": "stderr",
     "output_type": "stream",
     "text": [
      "C:\\ProgramData\\Anaconda3\\envs\\segway\\lib\\site-packages\\ipykernel_launcher.py:22: DeprecationWarning: `np.float` is a deprecated alias for the builtin `float`. To silence this warning, use `float` by itself. Doing this will not modify any behavior and is safe. If you specifically wanted the numpy scalar type, use `np.float64` here.\n",
      "Deprecated in NumPy 1.20; for more details and guidance: https://numpy.org/devdocs/release/1.20.0-notes.html#deprecations\n"
     ]
    },
    {
     "name": "stdout",
     "output_type": "stream",
     "text": [
      "Slice\n",
      "\n",
      "Mean TPR, OC, DSC:  0.8555240793201133 0.8364612843628397 0.7579096497369702\n",
      "Median TPR, OC, DSC:  1.0 0.9838056680161943 0.901686121919585\n",
      "IQR TPR, OC, DSC:  0.0 0.04010314559587025 0.1687665328123118\n",
      "CP 90% CI TPR:  (0.8211032155685053, 0.885407878689607)\n"
     ]
    },
    {
     "data": {
      "image/png": "[encoded data removed]",
      "text/plain": [
       "<Figure size 1080x216 with 3 Axes>"
      ]
     },
     "metadata": {
      "needs_background": "light"
     },
     "output_type": "display_data"
    },
    {
     "name": "stdout",
     "output_type": "stream",
     "text": [
      "Patient\n",
      "\n",
      "Mean TPR, OC, DSC:  1.0 0.9262077763219093 0.8173025674337057\n",
      "Median TPR, OC, DSC:  1.0 0.9533367046708349 0.8284117877060544\n",
      "IQR TPR, OC, DSC:  0.0 0.07610863501002141 0.10619457375360253\n",
      "CP 90% CI TPR:  (0.8826538438450513, 1.0)\n"
     ]
    }
   ],
   "source": [
    "df_outcomes_test_plaqunet_aug = get_outcomes_mapstrategy(sub_names_test, ds_dir, results_dir_aug)"
   ]
  },
  {
   "cell_type": "code",
   "execution_count": 154,
   "metadata": {},
   "outputs": [],
   "source": [
    "ds_dir = '../data/'\n",
    "results_dir_simple = '../res/maps/mask-rcnn_simple/'\n",
    "results_dir_aug = '../res/maps/mask-rcnn_aug/'"
   ]
  },
  {
   "cell_type": "code",
   "execution_count": 155,
   "metadata": {},
   "outputs": [
    {
     "name": "stderr",
     "output_type": "stream",
     "text": [
      "C:\\ProgramData\\Anaconda3\\envs\\segway\\lib\\site-packages\\ipykernel_launcher.py:22: DeprecationWarning: `np.float` is a deprecated alias for the builtin `float`. To silence this warning, use `float` by itself. Doing this will not modify any behavior and is safe. If you specifically wanted the numpy scalar type, use `np.float64` here.\n",
      "Deprecated in NumPy 1.20; for more details and guidance: https://numpy.org/devdocs/release/1.20.0-notes.html#deprecations\n"
     ]
    },
    {
     "name": "stdout",
     "output_type": "stream",
     "text": [
      "Slice\n",
      "\n",
      "Mean TPR, OC, DSC:  0.32294617563739375 0.3156567468211877 0.2663843425076842\n",
      "Median TPR, OC, DSC:  0.0 0.0 0.0\n",
      "IQR TPR, OC, DSC:  1.0 0.9627831715210357 0.7728937728937729\n",
      "CP 90% CI TPR:  (0.2818146507598959, 0.36630715599401037)\n"
     ]
    },
    {
     "data": {
      "image/png": "[encoded data removed]",
      "text/plain": [
       "<Figure size 1080x216 with 3 Axes>"
      ]
     },
     "metadata": {
      "needs_background": "light"
     },
     "output_type": "display_data"
    },
    {
     "name": "stdout",
     "output_type": "stream",
     "text": [
      "Patient\n",
      "\n",
      "Mean TPR, OC, DSC:  0.9166666666666666 0.8735407355169976 0.365478940257417\n",
      "Median TPR, OC, DSC:  1.0 0.9673472694023972 0.4559290015744785\n",
      "IQR TPR, OC, DSC:  0.0 0.05312588028647647 0.33154116100129005\n",
      "CP 90% CI TPR:  (0.7601989838711982, 0.9849882212364126)\n"
     ]
    }
   ],
   "source": [
    "df_outcomes_test_maskrcnn_simple = get_outcomes_maskstrategy(sub_names_test, ds_dir, results_dir_simple)"
   ]
  },
  {
   "cell_type": "code",
   "execution_count": 156,
   "metadata": {},
   "outputs": [
    {
     "name": "stderr",
     "output_type": "stream",
     "text": [
      "C:\\ProgramData\\Anaconda3\\envs\\segway\\lib\\site-packages\\ipykernel_launcher.py:22: DeprecationWarning: `np.float` is a deprecated alias for the builtin `float`. To silence this warning, use `float` by itself. Doing this will not modify any behavior and is safe. If you specifically wanted the numpy scalar type, use `np.float64` here.\n",
      "Deprecated in NumPy 1.20; for more details and guidance: https://numpy.org/devdocs/release/1.20.0-notes.html#deprecations\n"
     ]
    },
    {
     "name": "stdout",
     "output_type": "stream",
     "text": [
      "Slice\n",
      "\n",
      "Mean TPR, OC, DSC:  0.1813031161473088 0.17846602485012497 0.1510557522305352\n",
      "Median TPR, OC, DSC:  0.0 0.0 0.0\n",
      "IQR TPR, OC, DSC:  0.0 0.0 0.0\n",
      "CP 90% CI TPR:  (0.14824475727078293, 0.21840956646686793)\n"
     ]
    },
    {
     "data": {
      "image/png": "[encoded data removed]",
      "text/plain": [
       "<Figure size 1080x216 with 3 Axes>"
      ]
     },
     "metadata": {
      "needs_background": "light"
     },
     "output_type": "display_data"
    },
    {
     "name": "stdout",
     "output_type": "stream",
     "text": [
      "Patient\n",
      "\n",
      "Mean TPR, OC, DSC:  0.5833333333333334 0.5519952329517611 0.19755712997364708\n",
      "Median TPR, OC, DSC:  1.0 0.8503939893224346 0.09917036748873882\n",
      "IQR TPR, OC, DSC:  1.0 0.9783139935515155 0.3451361578837745\n",
      "CP 90% CI TPR:  (0.3967850681718578, 0.7536113708809807)\n"
     ]
    }
   ],
   "source": [
    "df_outcomes_test_maskrcnn_aug = get_outcomes_maskstrategy(sub_names_test, ds_dir, results_dir_aug)"
   ]
  },
  {
   "cell_type": "markdown",
   "metadata": {},
   "source": [
    "# EMC"
   ]
  },
  {
   "cell_type": "code",
   "execution_count": 157,
   "metadata": {},
   "outputs": [],
   "source": [
    "sub_names_emc = ['EMC003', 'EMC004', 'EMC005', 'EMC007', 'EMC008', 'EMC009', 'EMC011', 'EMC015', 'EMC018', 'EMC020', \n",
    "                 'EMC024', 'EMC027', 'EMC029', 'EMC031', 'EMC032', 'EMC034', 'EMC035', 'EMC036', 'EMC038', 'EMC041', \n",
    "                 'EMC042', 'EMC043', 'EMC045', 'EMC046', 'EMC047', 'EMC048', 'EMC049', 'EMC050', 'EMC051', 'EMC052', \n",
    "                 'EMC054', 'EMC055', 'EMC056', 'EMC057']"
   ]
  },
  {
   "cell_type": "code",
   "execution_count": 146,
   "metadata": {},
   "outputs": [],
   "source": [
    "ds_dir = '../data/'\n",
    "results_dir_simple = '../res/maps/u-net_simple/'\n",
    "results_dir_aug = '../res/maps/u-net_aug/'"
   ]
  },
  {
   "cell_type": "code",
   "execution_count": 147,
   "metadata": {},
   "outputs": [
    {
     "name": "stderr",
     "output_type": "stream",
     "text": [
      "C:\\ProgramData\\Anaconda3\\envs\\segway\\lib\\site-packages\\ipykernel_launcher.py:22: DeprecationWarning: `np.float` is a deprecated alias for the builtin `float`. To silence this warning, use `float` by itself. Doing this will not modify any behavior and is safe. If you specifically wanted the numpy scalar type, use `np.float64` here.\n",
      "Deprecated in NumPy 1.20; for more details and guidance: https://numpy.org/devdocs/release/1.20.0-notes.html#deprecations\n"
     ]
    },
    {
     "name": "stdout",
     "output_type": "stream",
     "text": [
      "Slice\n",
      "\n",
      "Mean TPR, OC, DSC:  0.6947162426614482 0.6651514317919127 0.5681852221090723\n",
      "Median TPR, OC, DSC:  1.0 0.9712643678160919 0.7664670658682635\n",
      "IQR TPR, OC, DSC:  1.0 1.0 0.8812622224042429\n",
      "CP 90% CI TPR:  (0.6594443334045442, 0.7283035876297254)\n"
     ]
    },
    {
     "data": {
      "image/png": "[encoded data removed]",
      "text/plain": [
       "<Figure size 1080x216 with 3 Axes>"
      ]
     },
     "metadata": {
      "needs_background": "light"
     },
     "output_type": "display_data"
    },
    {
     "name": "stdout",
     "output_type": "stream",
     "text": [
      "Patient\n",
      "\n",
      "Mean TPR, OC, DSC:  0.9411764705882353 0.8765593121453248 0.6608528013238084\n",
      "Median TPR, OC, DSC:  1.0 0.9452386331266477 0.7248151487342822\n",
      "IQR TPR, OC, DSC:  0.0 0.12981487409355252 0.18709872921713233\n",
      "CP 90% CI TPR:  (0.8261886934616913, 0.989446950291316)\n"
     ]
    }
   ],
   "source": [
    "df_outcomes_emc_unet_simple = get_outcomes_mapstrategy(sub_names_emc, ds_dir, results_dir_simple, cut=False)"
   ]
  },
  {
   "cell_type": "code",
   "execution_count": 148,
   "metadata": {},
   "outputs": [
    {
     "name": "stderr",
     "output_type": "stream",
     "text": [
      "C:\\ProgramData\\Anaconda3\\envs\\segway\\lib\\site-packages\\ipykernel_launcher.py:22: DeprecationWarning: `np.float` is a deprecated alias for the builtin `float`. To silence this warning, use `float` by itself. Doing this will not modify any behavior and is safe. If you specifically wanted the numpy scalar type, use `np.float64` here.\n",
      "Deprecated in NumPy 1.20; for more details and guidance: https://numpy.org/devdocs/release/1.20.0-notes.html#deprecations\n"
     ]
    },
    {
     "name": "stdout",
     "output_type": "stream",
     "text": [
      "Slice\n",
      "\n",
      "Mean TPR, OC, DSC:  0.6947162426614482 0.6731722568500312 0.6028880180389821\n",
      "Median TPR, OC, DSC:  1.0 0.9696969696969697 0.837037037037037\n",
      "IQR TPR, OC, DSC:  1.0 0.9973360859263043 0.9246311927223152\n",
      "CP 90% CI TPR:  (0.6594443334045442, 0.7283035876297254)\n"
     ]
    },
    {
     "data": {
      "image/png": "[encoded data removed]",
      "text/plain": [
       "<Figure size 1080x216 with 3 Axes>"
      ]
     },
     "metadata": {
      "needs_background": "light"
     },
     "output_type": "display_data"
    },
    {
     "name": "stdout",
     "output_type": "stream",
     "text": [
      "Patient\n",
      "\n",
      "Mean TPR, OC, DSC:  0.9705882352941176 0.9056160791791174 0.7149351670196672\n",
      "Median TPR, OC, DSC:  1.0 0.9421753280338656 0.7754793837658267\n",
      "IQR TPR, OC, DSC:  0.0 0.08334223574387278 0.2310791245719207\n",
      "CP 90% CI TPR:  (0.867926174868522, 0.9984925110991039)\n"
     ]
    }
   ],
   "source": [
    "df_outcomes_emc_unet_aug = get_outcomes_mapstrategy(sub_names_emc, ds_dir, results_dir_aug, cut=False)"
   ]
  },
  {
   "cell_type": "code",
   "execution_count": 149,
   "metadata": {},
   "outputs": [],
   "source": [
    "ds_dir = '../data/'\n",
    "results_dir_simple = '../res/maps/plaq-u-net_simple/'\n",
    "results_dir_aug = '../res/maps/plaq-u-net_aug/'"
   ]
  },
  {
   "cell_type": "code",
   "execution_count": 150,
   "metadata": {},
   "outputs": [
    {
     "name": "stderr",
     "output_type": "stream",
     "text": [
      "C:\\ProgramData\\Anaconda3\\envs\\segway\\lib\\site-packages\\ipykernel_launcher.py:22: DeprecationWarning: `np.float` is a deprecated alias for the builtin `float`. To silence this warning, use `float` by itself. Doing this will not modify any behavior and is safe. If you specifically wanted the numpy scalar type, use `np.float64` here.\n",
      "Deprecated in NumPy 1.20; for more details and guidance: https://numpy.org/devdocs/release/1.20.0-notes.html#deprecations\n"
     ]
    },
    {
     "name": "stdout",
     "output_type": "stream",
     "text": [
      "Slice\n",
      "\n",
      "Mean TPR, OC, DSC:  0.5342465753424658 0.5297159371865922 0.32913791804821046\n",
      "Median TPR, OC, DSC:  1.0 0.9902912621359223 0.3012987012987013\n",
      "IQR TPR, OC, DSC:  1.0 1.0 0.6475118290096264\n",
      "CP 90% CI TPR:  (0.496893438811138, 0.5713042284917957)\n"
     ]
    },
    {
     "data": {
      "image/png": "[encoded data removed]",
      "text/plain": [
       "<Figure size 1080x216 with 3 Axes>"
      ]
     },
     "metadata": {
      "needs_background": "light"
     },
     "output_type": "display_data"
    },
    {
     "name": "stdout",
     "output_type": "stream",
     "text": [
      "Patient\n",
      "\n",
      "Mean TPR, OC, DSC:  0.8529411764705882 0.8447084952351931 0.351656949831785\n",
      "Median TPR, OC, DSC:  1.0 1.0 0.36552607219993827\n",
      "IQR TPR, OC, DSC:  0.0 0.03131676190561028 0.4877165994620606\n",
      "CP 90% CI TPR:  (0.7153513351429466, 0.9402144969957976)\n"
     ]
    }
   ],
   "source": [
    "df_outcomes_emc_plaqunet_simple = get_outcomes_mapstrategy(sub_names_emc, ds_dir, results_dir_simple, cut=False)"
   ]
  },
  {
   "cell_type": "code",
   "execution_count": 151,
   "metadata": {},
   "outputs": [
    {
     "name": "stderr",
     "output_type": "stream",
     "text": [
      "C:\\ProgramData\\Anaconda3\\envs\\segway\\lib\\site-packages\\ipykernel_launcher.py:22: DeprecationWarning: `np.float` is a deprecated alias for the builtin `float`. To silence this warning, use `float` by itself. Doing this will not modify any behavior and is safe. If you specifically wanted the numpy scalar type, use `np.float64` here.\n",
      "Deprecated in NumPy 1.20; for more details and guidance: https://numpy.org/devdocs/release/1.20.0-notes.html#deprecations\n"
     ]
    },
    {
     "name": "stdout",
     "output_type": "stream",
     "text": [
      "Slice\n",
      "\n",
      "Mean TPR, OC, DSC:  0.8317025440313112 0.8229656315478037 0.6767430371389193\n",
      "Median TPR, OC, DSC:  1.0 1.0 0.821917808219178\n",
      "IQR TPR, OC, DSC:  0.0 0.021610084706196186 0.2630629277860572\n",
      "CP 90% CI TPR:  (0.8020860731518331, 0.8584261977439656)\n"
     ]
    },
    {
     "data": {
      "image/png": "[encoded data removed]",
      "text/plain": [
       "<Figure size 1080x216 with 3 Axes>"
      ]
     },
     "metadata": {
      "needs_background": "light"
     },
     "output_type": "display_data"
    },
    {
     "name": "stdout",
     "output_type": "stream",
     "text": [
      "Patient\n",
      "\n",
      "Mean TPR, OC, DSC:  1.0 0.9716057036008692 0.7146965826796193\n",
      "Median TPR, OC, DSC:  1.0 0.9950166753039288 0.7511119348840948\n",
      "IQR TPR, OC, DSC:  0.0 0.03228056071868868 0.20115207176460792\n",
      "CP 90% CI TPR:  (0.9156603566493746, 1.0)\n"
     ]
    }
   ],
   "source": [
    "df_outcomes_emc_plaqunet_aug = get_outcomes_mapstrategy(sub_names_emc, ds_dir, results_dir_aug, cut=False)"
   ]
  },
  {
   "cell_type": "code",
   "execution_count": 158,
   "metadata": {},
   "outputs": [],
   "source": [
    "ds_dir = '../data/'\n",
    "results_dir_simple = '../res/maps/mask-rcnn_simple/'\n",
    "results_dir_aug = '../res/maps/mask-rcnn_aug/'"
   ]
  },
  {
   "cell_type": "code",
   "execution_count": 159,
   "metadata": {},
   "outputs": [
    {
     "name": "stderr",
     "output_type": "stream",
     "text": [
      "C:\\ProgramData\\Anaconda3\\envs\\segway\\lib\\site-packages\\ipykernel_launcher.py:22: DeprecationWarning: `np.float` is a deprecated alias for the builtin `float`. To silence this warning, use `float` by itself. Doing this will not modify any behavior and is safe. If you specifically wanted the numpy scalar type, use `np.float64` here.\n",
      "Deprecated in NumPy 1.20; for more details and guidance: https://numpy.org/devdocs/release/1.20.0-notes.html#deprecations\n"
     ]
    },
    {
     "name": "stdout",
     "output_type": "stream",
     "text": [
      "Slice\n",
      "\n",
      "Mean TPR, OC, DSC:  0.0410958904109589 0.04115596667632631 0.03385083296044187\n",
      "Median TPR, OC, DSC:  0.0 0.0 0.0\n",
      "IQR TPR, OC, DSC:  0.0 0.0 0.0\n",
      "CP 90% CI TPR:  (0.02770034824014573, 0.05864194412165896)\n"
     ]
    },
    {
     "data": {
      "image/png": "[encoded data removed]",
      "text/plain": [
       "<Figure size 1080x216 with 3 Axes>"
      ]
     },
     "metadata": {
      "needs_background": "light"
     },
     "output_type": "display_data"
    },
    {
     "name": "stdout",
     "output_type": "stream",
     "text": [
      "Patient\n",
      "\n",
      "Mean TPR, OC, DSC:  0.20588235294117646 0.20906938850640927 0.04489134975071139\n",
      "Median TPR, OC, DSC:  0.0 0.0 0.0\n",
      "IQR TPR, OC, DSC:  0.0 0.013888888888888888 0.00031113876789047915\n",
      "CP 90% CI TPR:  (0.10083689953501082, 0.35216121698618397)\n"
     ]
    }
   ],
   "source": [
    "df_outcomes_emc_maskrcnn_simple = get_outcomes_maskstrategy(sub_names_emc, ds_dir, results_dir_simple, cut=False)"
   ]
  },
  {
   "cell_type": "code",
   "execution_count": 160,
   "metadata": {},
   "outputs": [
    {
     "name": "stderr",
     "output_type": "stream",
     "text": [
      "C:\\ProgramData\\Anaconda3\\envs\\segway\\lib\\site-packages\\ipykernel_launcher.py:22: DeprecationWarning: `np.float` is a deprecated alias for the builtin `float`. To silence this warning, use `float` by itself. Doing this will not modify any behavior and is safe. If you specifically wanted the numpy scalar type, use `np.float64` here.\n",
      "Deprecated in NumPy 1.20; for more details and guidance: https://numpy.org/devdocs/release/1.20.0-notes.html#deprecations\n"
     ]
    },
    {
     "name": "stdout",
     "output_type": "stream",
     "text": [
      "Slice\n",
      "\n",
      "Mean TPR, OC, DSC:  0.01761252446183953 0.017852150644993812 0.01187294725562506\n",
      "Median TPR, OC, DSC:  0.0 0.0 0.0\n",
      "IQR TPR, OC, DSC:  0.0 0.0 0.0\n",
      "CP 90% CI TPR:  (0.009218229505547496, 0.030532713913909916)\n"
     ]
    },
    {
     "data": {
      "image/png": "[encoded data removed]",
      "text/plain": [
       "<Figure size 1080x216 with 3 Axes>"
      ]
     },
     "metadata": {
      "needs_background": "light"
     },
     "output_type": "display_data"
    },
    {
     "name": "stdout",
     "output_type": "stream",
     "text": [
      "Patient\n",
      "\n",
      "Mean TPR, OC, DSC:  0.23529411764705882 0.23889555822328934 0.016773641692857076\n",
      "Median TPR, OC, DSC:  0.0 0.0 0.0\n",
      "IQR TPR, OC, DSC:  0.0 0.09183673469387754 0.0018687707641196012\n",
      "CP 90% CI TPR:  (0.12282976558880637, 0.3846567466725869)\n"
     ]
    }
   ],
   "source": [
    "df_outcomes_emc_maskrcnn_aug = get_outcomes_maskstrategy(sub_names_emc, ds_dir, results_dir_aug, cut=False)"
   ]
  },
  {
   "cell_type": "code",
   "execution_count": null,
   "metadata": {},
   "outputs": [],
   "source": []
  },
  {
   "cell_type": "code",
   "execution_count": null,
   "metadata": {},
   "outputs": [],
   "source": []
  }
 ],
 "metadata": {
  "kernelspec": {
   "display_name": "Python 3",
   "language": "python",
   "name": "python3"
  },
  "language_info": {
   "codemirror_mode": {
    "name": "ipython",
    "version": 3
   },
   "file_extension": ".py",
   "mimetype": "text/x-python",
   "name": "python",
   "nbconvert_exporter": "python",
   "pygments_lexer": "ipython3",
   "version": "3.7.3"
  }
 },
 "nbformat": 4,
 "nbformat_minor": 2
}
